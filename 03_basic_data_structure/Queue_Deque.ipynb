{
  "nbformat": 4,
  "nbformat_minor": 0,
  "metadata": {
    "colab": {
      "name": "Queue_Deque.ipynb",
      "provenance": [],
      "collapsed_sections": []
    },
    "kernelspec": {
      "name": "python3",
      "display_name": "Python 3"
    },
    "language_info": {
      "name": "python"
    }
  },
  "cells": [
    {
      "cell_type": "markdown",
      "metadata": {
        "id": "PDmjxkJCNWkf"
      },
      "source": [
        "# queue"
      ]
    },
    {
      "cell_type": "code",
      "metadata": {
        "id": "IZPn8-bpHGbE"
      },
      "source": [
        "class Queue:\n",
        "  def __init__(self):\n",
        "    self.items = []\n",
        "  def isEmpty(self):\n",
        "    return self.items == []\n",
        "  def enqueue(self, item):\n",
        "    self.items.insert(0, item)\n",
        "  def dequeue(self):\n",
        "    return self.items.pop()\n",
        "  def size(self):\n",
        "    return len(self.items)"
      ],
      "execution_count": 36,
      "outputs": []
    },
    {
      "cell_type": "code",
      "metadata": {
        "colab": {
          "base_uri": "https://localhost:8080/"
        },
        "id": "SPRt4A7vHGdy",
        "outputId": "dbc71693-6883-4da9-f709-40e7d9afba4b"
      },
      "source": [
        "q= Queue()\n",
        "q.isEmpty()"
      ],
      "execution_count": 38,
      "outputs": [
        {
          "output_type": "execute_result",
          "data": {
            "text/plain": [
              "True"
            ]
          },
          "metadata": {
            "tags": []
          },
          "execution_count": 38
        }
      ]
    },
    {
      "cell_type": "code",
      "metadata": {
        "colab": {
          "base_uri": "https://localhost:8080/"
        },
        "id": "BoROs44-HGga",
        "outputId": "553560cc-12b5-44e1-f35a-6fa729c836b5"
      },
      "source": [
        "q.enqueue(4)\n",
        "q.enqueue('dog')\n",
        "q.enqueue(True)\n",
        "q.size()"
      ],
      "execution_count": 39,
      "outputs": [
        {
          "output_type": "execute_result",
          "data": {
            "text/plain": [
              "3"
            ]
          },
          "metadata": {
            "tags": []
          },
          "execution_count": 39
        }
      ]
    },
    {
      "cell_type": "code",
      "metadata": {
        "colab": {
          "base_uri": "https://localhost:8080/"
        },
        "id": "2Drl_5guHGjC",
        "outputId": "2b48754a-737e-4aa3-bee3-f341ee247212"
      },
      "source": [
        "q"
      ],
      "execution_count": 40,
      "outputs": [
        {
          "output_type": "execute_result",
          "data": {
            "text/plain": [
              "<__main__.Queue at 0x7fbe0aebd050>"
            ]
          },
          "metadata": {
            "tags": []
          },
          "execution_count": 40
        }
      ]
    },
    {
      "cell_type": "code",
      "metadata": {
        "colab": {
          "base_uri": "https://localhost:8080/"
        },
        "id": "vN-26lN6HGlZ",
        "outputId": "23050b56-3ce2-4317-9762-9795e912ea6d"
      },
      "source": [
        "q.enqueue(8.4)\n",
        "q.dequeue()"
      ],
      "execution_count": 41,
      "outputs": [
        {
          "output_type": "execute_result",
          "data": {
            "text/plain": [
              "4"
            ]
          },
          "metadata": {
            "tags": []
          },
          "execution_count": 41
        }
      ]
    },
    {
      "cell_type": "code",
      "metadata": {
        "colab": {
          "base_uri": "https://localhost:8080/"
        },
        "id": "qCK6wqRNHGn-",
        "outputId": "bb706c55-9b10-42ef-90ee-1ba4b4b57588"
      },
      "source": [
        "q.size()"
      ],
      "execution_count": 42,
      "outputs": [
        {
          "output_type": "execute_result",
          "data": {
            "text/plain": [
              "3"
            ]
          },
          "metadata": {
            "tags": []
          },
          "execution_count": 42
        }
      ]
    },
    {
      "cell_type": "markdown",
      "metadata": {
        "id": "PlrpVtB2Ocq9"
      },
      "source": [
        "## 模拟传土豆"
      ]
    },
    {
      "cell_type": "code",
      "metadata": {
        "colab": {
          "base_uri": "https://localhost:8080/",
          "height": 136
        },
        "id": "SBeFVtnnHGqi",
        "outputId": "f4bb3a82-cd85-456f-9411-4579fa182813"
      },
      "source": [
        "def hotPotato(namelist, num):\n",
        "  simqueue = Queue()\n",
        "  for name in namelist:\n",
        "    simqueue.enqueue(name)\n",
        "  print(simqueue)\n",
        "  while simqueue.size() > 1:\n",
        "    for i in range(num):\n",
        "      simqueue.enqueue(simqueue.dequeue())\n",
        "    print(simqueue.dequeue())\n",
        "  return simqueue.dequeue()\n",
        "\n",
        "hotPotato([\"bill\",\"david\",\"susan\",\"jane\",\"kent\",'brad'],7)"
      ],
      "execution_count": 45,
      "outputs": [
        {
          "output_type": "stream",
          "text": [
            "<__main__.Queue object at 0x7fbe0aea5750>\n",
            "david\n",
            "kent\n",
            "jane\n",
            "bill\n",
            "brad\n"
          ],
          "name": "stdout"
        },
        {
          "output_type": "execute_result",
          "data": {
            "application/vnd.google.colaboratory.intrinsic+json": {
              "type": "string"
            },
            "text/plain": [
              "'susan'"
            ]
          },
          "metadata": {
            "tags": []
          },
          "execution_count": 45
        }
      ]
    },
    {
      "cell_type": "markdown",
      "metadata": {
        "id": "FgwjqC0CNZw9"
      },
      "source": [
        "# deque"
      ]
    },
    {
      "cell_type": "code",
      "metadata": {
        "id": "gILPp0wWJ_g4"
      },
      "source": [
        "class Deque:\n",
        "    def __init__(self):\n",
        "        self.items = []\n",
        "\n",
        "    def isEmpty(self):\n",
        "        return self.items == []\n",
        "\n",
        "    def addFront(self, item):\n",
        "        self.items.append(item)\n",
        "\n",
        "    def addRear(self, item):\n",
        "        self.items.insert(0,item)\n",
        "\n",
        "    def removeFront(self):\n",
        "        return self.items.pop()\n",
        "\n",
        "    def removeRear(self):\n",
        "        return self.items.pop(0)\n",
        "\n",
        "    def size(self):\n",
        "        return len(self.items)"
      ],
      "execution_count": 46,
      "outputs": []
    },
    {
      "cell_type": "code",
      "metadata": {
        "colab": {
          "base_uri": "https://localhost:8080/"
        },
        "id": "iLFCKI0CQQjZ",
        "outputId": "78676c97-4a05-4876-ad20-3004e92dcefd"
      },
      "source": [
        "d = Deque()\n",
        "d.addRear(4)\n",
        "d.size()"
      ],
      "execution_count": 52,
      "outputs": [
        {
          "output_type": "execute_result",
          "data": {
            "text/plain": [
              "1"
            ]
          },
          "metadata": {
            "tags": []
          },
          "execution_count": 52
        }
      ]
    },
    {
      "cell_type": "code",
      "metadata": {
        "colab": {
          "base_uri": "https://localhost:8080/"
        },
        "id": "Oo5Y1V15QYZS",
        "outputId": "5a02be85-11c2-4865-b73e-a82c01b0bfb6"
      },
      "source": [
        "d.size"
      ],
      "execution_count": 53,
      "outputs": [
        {
          "output_type": "execute_result",
          "data": {
            "text/plain": [
              "<bound method Deque.size of <__main__.Deque object at 0x7fbe0ae35e90>>"
            ]
          },
          "metadata": {
            "tags": []
          },
          "execution_count": 53
        }
      ]
    },
    {
      "cell_type": "code",
      "metadata": {
        "colab": {
          "base_uri": "https://localhost:8080/"
        },
        "id": "0BO3gZtsQkg3",
        "outputId": "29338198-4d50-455e-858e-21c3c47f03ab"
      },
      "source": [
        "d.removeRear"
      ],
      "execution_count": 55,
      "outputs": [
        {
          "output_type": "execute_result",
          "data": {
            "text/plain": [
              "<bound method Deque.removeRear of <__main__.Deque object at 0x7fbe0ae35e90>>"
            ]
          },
          "metadata": {
            "tags": []
          },
          "execution_count": 55
        }
      ]
    },
    {
      "cell_type": "markdown",
      "metadata": {
        "id": "LhV4JTQ7OgFb"
      },
      "source": [
        "## 回文检测器"
      ]
    },
    {
      "cell_type": "code",
      "metadata": {
        "id": "hOiubp-kOfoz"
      },
      "source": [
        "def palchecker(aString):\n",
        "  chardeque = Deque()\n",
        "  for ch in aString:\n",
        "    chardeque.addRear(ch)\n",
        "  stillEqual = True\n",
        "  while chardeque.size() > 1 and stillEqual:\n",
        "    first = chardeque.removeFront()\n",
        "    last = chardeque.removeRear()\n",
        "    if first != last:\n",
        "      stillEqual = False\n",
        "  return stillEqual"
      ],
      "execution_count": 49,
      "outputs": []
    },
    {
      "cell_type": "code",
      "metadata": {
        "colab": {
          "base_uri": "https://localhost:8080/"
        },
        "id": "xnXZ-h7rJ_jL",
        "outputId": "da9d79b3-222c-4d88-c1a3-9ccb68abe9cf"
      },
      "source": [
        "palchecker('toot')"
      ],
      "execution_count": 50,
      "outputs": [
        {
          "output_type": "execute_result",
          "data": {
            "text/plain": [
              "True"
            ]
          },
          "metadata": {
            "tags": []
          },
          "execution_count": 50
        }
      ]
    },
    {
      "cell_type": "code",
      "metadata": {
        "colab": {
          "base_uri": "https://localhost:8080/"
        },
        "id": "tTgf6Cn1OP2U",
        "outputId": "7e405d84-ff7a-4411-dc97-64793681a533"
      },
      "source": [
        "palchecker('toowt')"
      ],
      "execution_count": 51,
      "outputs": [
        {
          "output_type": "execute_result",
          "data": {
            "text/plain": [
              "False"
            ]
          },
          "metadata": {
            "tags": []
          },
          "execution_count": 51
        }
      ]
    },
    {
      "cell_type": "code",
      "metadata": {
        "id": "915lIKcfOP4_"
      },
      "source": [
        ""
      ],
      "execution_count": null,
      "outputs": []
    },
    {
      "cell_type": "code",
      "metadata": {
        "id": "I65Ig1FqOP7a"
      },
      "source": [
        ""
      ],
      "execution_count": null,
      "outputs": []
    },
    {
      "cell_type": "code",
      "metadata": {
        "id": "pF69gWgNOP9U"
      },
      "source": [
        ""
      ],
      "execution_count": null,
      "outputs": []
    }
  ]
}