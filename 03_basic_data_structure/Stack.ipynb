{
  "nbformat": 4,
  "nbformat_minor": 0,
  "metadata": {
    "colab": {
      "name": "Stack.ipynb",
      "provenance": [],
      "collapsed_sections": []
    },
    "kernelspec": {
      "name": "python3",
      "display_name": "Python 3"
    },
    "language_info": {
      "name": "python"
    }
  },
  "cells": [
    {
      "cell_type": "code",
      "metadata": {
        "id": "Sd7eJtyhzJDR"
      },
      "source": [
        "class Stack:\n",
        "  def __init__(self):\n",
        "    self.items = []\n",
        "  def isEmpty(self):\n",
        "    return self.items == []\n",
        "  def push(self, item):\n",
        "    self.items.append(item)\n",
        "  def pop(self):\n",
        "    return self.items.pop()\n",
        "  def peek(self):\n",
        "    return self.items[len(self.items) - 1]\n",
        "  def size(self):\n",
        "    return len(self.items)"
      ],
      "execution_count": 9,
      "outputs": []
    },
    {
      "cell_type": "code",
      "metadata": {
        "colab": {
          "base_uri": "https://localhost:8080/"
        },
        "id": "Gh2GJAyT0A76",
        "outputId": "3ef6cc91-4832-433f-f5c5-d7783aed8b78"
      },
      "source": [
        "s = Stack()\n",
        "s.isEmpty()"
      ],
      "execution_count": 4,
      "outputs": [
        {
          "output_type": "execute_result",
          "data": {
            "text/plain": [
              "True"
            ]
          },
          "metadata": {
            "tags": []
          },
          "execution_count": 4
        }
      ]
    },
    {
      "cell_type": "code",
      "metadata": {
        "id": "3DNy3Yc30A-0"
      },
      "source": [
        "s.push(4)\n",
        "s.push('dog')"
      ],
      "execution_count": 5,
      "outputs": []
    },
    {
      "cell_type": "code",
      "metadata": {
        "colab": {
          "base_uri": "https://localhost:8080/",
          "height": 35
        },
        "id": "KrMdkkcZ0BBL",
        "outputId": "d376b270-c319-4f8c-c0ee-9ca82cc5e012"
      },
      "source": [
        "s.peek()"
      ],
      "execution_count": 6,
      "outputs": [
        {
          "output_type": "execute_result",
          "data": {
            "application/vnd.google.colaboratory.intrinsic+json": {
              "type": "string"
            },
            "text/plain": [
              "'dog'"
            ]
          },
          "metadata": {
            "tags": []
          },
          "execution_count": 6
        }
      ]
    },
    {
      "cell_type": "code",
      "metadata": {
        "colab": {
          "base_uri": "https://localhost:8080/"
        },
        "id": "MAk_mYZH0BDo",
        "outputId": "c7d058e6-457e-4b6c-c1bc-68a233e51d97"
      },
      "source": [
        "opens = \"({[\"\n",
        "out = opens.index(\"{\")\n",
        "print(out)"
      ],
      "execution_count": 8,
      "outputs": [
        {
          "output_type": "stream",
          "text": [
            "1\n"
          ],
          "name": "stdout"
        }
      ]
    },
    {
      "cell_type": "markdown",
      "metadata": {
        "id": "lLag7FdZ6dcn"
      },
      "source": [
        "## 后续表达式"
      ]
    },
    {
      "cell_type": "code",
      "metadata": {
        "id": "ozgMRvXl0BGL"
      },
      "source": [
        "import string\n",
        "def infixToPostfix(infixexpr):\n",
        "  prec = {}\n",
        "  prec[\"*\"] = 3\n",
        "  prec[\"/\"] = 3\n",
        "  prec[\"+\"] = 2\n",
        "  prec[\"-\"] = 2\n",
        "  prec[\"(\"] = 1\n",
        "\n",
        "  opStack = Stack()\n",
        "  postfixList = []\n",
        "  tokenList = infixexpr.split()\n",
        "  for token in tokenList:\n",
        "    if token in string.ascii_uppercase:\n",
        "      postfixList.append(token)\n",
        "    elif token == '(':\n",
        "      opStack.push(token)\n",
        "    elif token == ')':\n",
        "      topToken = opStack.pop()\n",
        "      while topToken != '(':\n",
        "        postfixList.append(topToken)\n",
        "        topToken = opStack.pop()\n",
        "    else:\n",
        "      while (not opStack.isEmpty()) and \\\n",
        "        (prec[opStack.peek()] >= prec[token]):\n",
        "        postfixList.append(opStack.pop())\n",
        "      opStack.push(token)\n",
        "\n",
        "  while not opStack.isEmpty():\n",
        "    postfixList.append(opStack.pop())\n",
        "  return \" \".join(postfixList)"
      ],
      "execution_count": 12,
      "outputs": []
    },
    {
      "cell_type": "code",
      "metadata": {
        "colab": {
          "base_uri": "https://localhost:8080/",
          "height": 35
        },
        "id": "GV_Ug-nD0BH3",
        "outputId": "2cc54b14-ddc1-4042-ef27-75cc53afe762"
      },
      "source": [
        "infixToPostfix(\"( A + B ) * ( C + D )\") "
      ],
      "execution_count": 26,
      "outputs": [
        {
          "output_type": "execute_result",
          "data": {
            "application/vnd.google.colaboratory.intrinsic+json": {
              "type": "string"
            },
            "text/plain": [
              "'A B + C D + *'"
            ]
          },
          "metadata": {
            "tags": []
          },
          "execution_count": 26
        }
      ]
    },
    {
      "cell_type": "code",
      "metadata": {
        "colab": {
          "base_uri": "https://localhost:8080/",
          "height": 35
        },
        "id": "BCK32H8jAhuF",
        "outputId": "33839a72-b4c0-4ca9-8aea-ce5f1f37f176"
      },
      "source": [
        "infixToPostfix(\"( A + B ) * C\") "
      ],
      "execution_count": 27,
      "outputs": [
        {
          "output_type": "execute_result",
          "data": {
            "application/vnd.google.colaboratory.intrinsic+json": {
              "type": "string"
            },
            "text/plain": [
              "'A B + C *'"
            ]
          },
          "metadata": {
            "tags": []
          },
          "execution_count": 27
        }
      ]
    },
    {
      "cell_type": "markdown",
      "metadata": {
        "id": "x7fZOllxAsde"
      },
      "source": [
        "## split()"
      ]
    },
    {
      "cell_type": "code",
      "metadata": {
        "colab": {
          "base_uri": "https://localhost:8080/"
        },
        "id": "bS9vbEY70BKE",
        "outputId": "adeeb3a7-cad3-4df9-b275-899c0a504434"
      },
      "source": [
        "demo =\"( A + B ) * ( C + D )\"\n",
        "print(demo.split())\n",
        "demo.split(\" \") == demo.split()"
      ],
      "execution_count": 28,
      "outputs": [
        {
          "output_type": "stream",
          "text": [
            "['(', 'A', '+', 'B', ')', '*', '(', 'C', '+', 'D', ')']\n"
          ],
          "name": "stdout"
        },
        {
          "output_type": "execute_result",
          "data": {
            "text/plain": [
              "True"
            ]
          },
          "metadata": {
            "tags": []
          },
          "execution_count": 28
        }
      ]
    },
    {
      "cell_type": "markdown",
      "metadata": {
        "id": "sugW1uwIAmk1"
      },
      "source": [
        "## List"
      ]
    },
    {
      "cell_type": "code",
      "metadata": {
        "colab": {
          "base_uri": "https://localhost:8080/"
        },
        "id": "HcT5RAsAAMFP",
        "outputId": "726a2e5e-c173-45d6-f44d-918356b0f006"
      },
      "source": [
        "demo =\"( A + B ) * ( C + D )\"\n",
        "list(demo)"
      ],
      "execution_count": 24,
      "outputs": [
        {
          "output_type": "execute_result",
          "data": {
            "text/plain": [
              "['(',\n",
              " ' ',\n",
              " 'A',\n",
              " ' ',\n",
              " '+',\n",
              " ' ',\n",
              " 'B',\n",
              " ' ',\n",
              " ')',\n",
              " ' ',\n",
              " '*',\n",
              " ' ',\n",
              " '(',\n",
              " ' ',\n",
              " 'C',\n",
              " ' ',\n",
              " '+',\n",
              " ' ',\n",
              " 'D',\n",
              " ' ',\n",
              " ')']"
            ]
          },
          "metadata": {
            "tags": []
          },
          "execution_count": 24
        }
      ]
    },
    {
      "cell_type": "code",
      "metadata": {
        "colab": {
          "base_uri": "https://localhost:8080/"
        },
        "id": "kPA4Wm4rCelx",
        "outputId": "6a9bb04e-2e1f-4cfe-9ee1-2cb5ef0dc90b"
      },
      "source": [
        "if '89' in '0123456789':\n",
        "  print(\"True\")\n",
        "else:\n",
        "  print(\"False\") "
      ],
      "execution_count": 32,
      "outputs": [
        {
          "output_type": "stream",
          "text": [
            "True\n"
          ],
          "name": "stdout"
        }
      ]
    },
    {
      "cell_type": "code",
      "metadata": {
        "colab": {
          "base_uri": "https://localhost:8080/"
        },
        "id": "ZDKffzHcCeoC",
        "outputId": "f13ac7fc-ade9-4d54-b388-836739622635"
      },
      "source": [
        "if '98' in '0123456789':\n",
        "  print(\"True\")\n",
        "else:\n",
        "  print(\"False\") "
      ],
      "execution_count": 33,
      "outputs": [
        {
          "output_type": "stream",
          "text": [
            "False\n"
          ],
          "name": "stdout"
        }
      ]
    },
    {
      "cell_type": "markdown",
      "metadata": {
        "id": "oLSH9euuFMsH"
      },
      "source": [
        "## 后续表达式计算"
      ]
    },
    {
      "cell_type": "code",
      "metadata": {
        "colab": {
          "base_uri": "https://localhost:8080/"
        },
        "id": "y4OETkHmCeqH",
        "outputId": "fcfac1ec-4d03-4830-fd3b-9e2d631f7f90"
      },
      "source": [
        "def postfixEval(postfixExpr):\n",
        "  operandStack = Stack()\n",
        "  tokenList = postfixExpr.split()\n",
        "  for token in tokenList:\n",
        "    if token in \"0123456789\":\n",
        "      operandStack.push(int(token))\n",
        "    else:\n",
        "      operand2 = operandStack.pop()\n",
        "      operand1 = operandStack.pop()\n",
        "      result = doMath(token, operand1, operand2)\n",
        "      operandStack.push(result)\n",
        "  return operandStack.pop()\n",
        "def doMath(op, op1, op2):\n",
        "  if op == \"*\":\n",
        "    return op1 * op2\n",
        "  elif op == \"/\":\n",
        "    return op1 / op2\n",
        "  elif op == \"+\":\n",
        "    return op1 + op2\n",
        "  else:\n",
        "    return op1 - op2\n",
        "postfixEval(\"7 8 + 3 2 + /\")"
      ],
      "execution_count": 35,
      "outputs": [
        {
          "output_type": "execute_result",
          "data": {
            "text/plain": [
              "3.0"
            ]
          },
          "metadata": {
            "tags": []
          },
          "execution_count": 35
        }
      ]
    },
    {
      "cell_type": "code",
      "metadata": {
        "id": "fNQlFb6QC-kb"
      },
      "source": [
        ""
      ],
      "execution_count": null,
      "outputs": []
    },
    {
      "cell_type": "code",
      "metadata": {
        "id": "cltkU4kwC-nO"
      },
      "source": [
        ""
      ],
      "execution_count": null,
      "outputs": []
    }
  ]
}