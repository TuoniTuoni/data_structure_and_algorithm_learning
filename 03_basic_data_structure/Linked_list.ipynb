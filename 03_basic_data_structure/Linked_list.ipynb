{
  "nbformat": 4,
  "nbformat_minor": 0,
  "metadata": {
    "colab": {
      "name": "Linked_list.ipynb",
      "provenance": [],
      "collapsed_sections": []
    },
    "kernelspec": {
      "name": "python3",
      "display_name": "Python 3"
    },
    "language_info": {
      "name": "python"
    }
  },
  "cells": [
    {
      "cell_type": "markdown",
      "metadata": {
        "id": "M4pqsy3hjBih"
      },
      "source": [
        "# 无序列表"
      ]
    },
    {
      "cell_type": "code",
      "metadata": {
        "id": "pF69gWgNOP9U"
      },
      "source": [
        "class Node:\n",
        "  def __init__(self, initdata):\n",
        "    self.data = initdata\n",
        "    self.next = None\n",
        "  def __str__(self):\n",
        "    return str(self.data)\n",
        "  def getData(self):\n",
        "    return self.data\n",
        "  def getNext(self):\n",
        "    return self.next\n",
        "  def setData(self, newdata):\n",
        "    self.data = newdata\n",
        "  def setNext(self, newnext):\n",
        "    self.next = newnext"
      ],
      "execution_count": 87,
      "outputs": []
    },
    {
      "cell_type": "code",
      "metadata": {
        "colab": {
          "base_uri": "https://localhost:8080/"
        },
        "id": "zt6crpXbjFG-",
        "outputId": "b2e6a5ce-b29c-4d5a-a38c-9aba04fd8a34"
      },
      "source": [
        "temp = Node(93)\n",
        "temp.getData()"
      ],
      "execution_count": 88,
      "outputs": [
        {
          "output_type": "execute_result",
          "data": {
            "text/plain": [
              "93"
            ]
          },
          "metadata": {
            "tags": []
          },
          "execution_count": 88
        }
      ]
    },
    {
      "cell_type": "code",
      "metadata": {
        "colab": {
          "base_uri": "https://localhost:8080/"
        },
        "id": "VURA93FmsEsw",
        "outputId": "1fb81e8d-c5a6-4531-91d0-251106016fc3"
      },
      "source": [
        "print(temp)"
      ],
      "execution_count": 89,
      "outputs": [
        {
          "output_type": "stream",
          "text": [
            "93\n"
          ],
          "name": "stdout"
        }
      ]
    },
    {
      "cell_type": "code",
      "metadata": {
        "id": "LCcVfsJljFJh"
      },
      "source": [
        "class UnorderedList:\n",
        "  def __init__(self):\n",
        "    self.head = None\n",
        "  \n",
        "  def isEmpty(self):\n",
        "    return self.head == None\n",
        "\n",
        "  def __str__(self):\n",
        "    out = []\n",
        "    current = self.head\n",
        "    while current != None:\n",
        "      out.append(current.getData())\n",
        "      current = current.getNext()\n",
        "    return str(out)\n",
        "\n",
        "  def add(self, item):\n",
        "    temp = Node(item)\n",
        "    temp.setNext(self.head)\n",
        "    self.head = temp\n",
        "  def length(self):\n",
        "    current = self.head\n",
        "    count = 0\n",
        "    while current != None:\n",
        "      count = count + 1\n",
        "      current = current.getNext()\n",
        "    return count\n",
        "  def search(self, item):\n",
        "    current = self.head\n",
        "    found = False\n",
        "    while current != None and not found:\n",
        "      if current.getData() == item:\n",
        "        found = True\n",
        "      else:\n",
        "        current = current.getNext()\n",
        "    return found\n",
        "  def remove(self, item):\n",
        "    current = self.head\n",
        "    previous = None\n",
        "    found = False\n",
        "    while not found:\n",
        "      if current.getData() == item:\n",
        "        found = True\n",
        "      else:\n",
        "        previous = current\n",
        "        current = current.getNext()\n",
        "    if previous == None:\n",
        "      self.head = current.getNext()\n",
        "    else:\n",
        "      previous.setNext(current.getNext())"
      ],
      "execution_count": 107,
      "outputs": []
    },
    {
      "cell_type": "code",
      "metadata": {
        "colab": {
          "base_uri": "https://localhost:8080/"
        },
        "id": "Rm-iDHohjFL7",
        "outputId": "f2784cca-7f0f-49aa-8e56-67ef281df139"
      },
      "source": [
        "mylist = UnorderedList()\n",
        "mylist.isEmpty()"
      ],
      "execution_count": 108,
      "outputs": [
        {
          "output_type": "execute_result",
          "data": {
            "text/plain": [
              "True"
            ]
          },
          "metadata": {
            "tags": []
          },
          "execution_count": 108
        }
      ]
    },
    {
      "cell_type": "code",
      "metadata": {
        "colab": {
          "base_uri": "https://localhost:8080/"
        },
        "id": "GNpssLtvriIR",
        "outputId": "b22e7000-1273-4afa-e8b0-29414fad0c99"
      },
      "source": [
        "print(mylist)"
      ],
      "execution_count": 109,
      "outputs": [
        {
          "output_type": "stream",
          "text": [
            "[]\n"
          ],
          "name": "stdout"
        }
      ]
    },
    {
      "cell_type": "code",
      "metadata": {
        "id": "2Uq1HncrjFOi"
      },
      "source": [
        "mylist.add(31)\n",
        "mylist.add(77)\n",
        "mylist.add(17)\n",
        "mylist.add(93)\n",
        "mylist.add(26)\n",
        "mylist.add(54)"
      ],
      "execution_count": 110,
      "outputs": []
    },
    {
      "cell_type": "code",
      "metadata": {
        "colab": {
          "base_uri": "https://localhost:8080/"
        },
        "id": "tFiHCIu4tHyW",
        "outputId": "49bc9a52-4ed0-460b-b61c-186bca7b97dc"
      },
      "source": [
        "print(mylist)"
      ],
      "execution_count": 111,
      "outputs": [
        {
          "output_type": "stream",
          "text": [
            "[54, 26, 93, 17, 77, 31]\n"
          ],
          "name": "stdout"
        }
      ]
    },
    {
      "cell_type": "code",
      "metadata": {
        "colab": {
          "base_uri": "https://localhost:8080/"
        },
        "id": "O_CSWHb4jFRB",
        "outputId": "d760f873-2409-4281-8a9e-ab4dfcc55b75"
      },
      "source": [
        "mylist.length()"
      ],
      "execution_count": 112,
      "outputs": [
        {
          "output_type": "execute_result",
          "data": {
            "text/plain": [
              "6"
            ]
          },
          "metadata": {
            "tags": []
          },
          "execution_count": 112
        }
      ]
    },
    {
      "cell_type": "code",
      "metadata": {
        "colab": {
          "base_uri": "https://localhost:8080/"
        },
        "id": "o-w7_njsm4RI",
        "outputId": "27550f7d-cfab-46ff-f35c-f1edebc287a8"
      },
      "source": [
        "mylist.search(26)"
      ],
      "execution_count": 113,
      "outputs": [
        {
          "output_type": "execute_result",
          "data": {
            "text/plain": [
              "True"
            ]
          },
          "metadata": {
            "tags": []
          },
          "execution_count": 113
        }
      ]
    },
    {
      "cell_type": "code",
      "metadata": {
        "id": "YBpGSAYzm4Tz"
      },
      "source": [
        "mylist.remove(77)"
      ],
      "execution_count": 114,
      "outputs": []
    },
    {
      "cell_type": "code",
      "metadata": {
        "colab": {
          "base_uri": "https://localhost:8080/"
        },
        "id": "q7XyVeH8m4Wr",
        "outputId": "362c2608-4206-4360-f83f-f4e5f6e6f534"
      },
      "source": [
        "mylist.length()"
      ],
      "execution_count": 115,
      "outputs": [
        {
          "output_type": "execute_result",
          "data": {
            "text/plain": [
              "5"
            ]
          },
          "metadata": {
            "tags": []
          },
          "execution_count": 115
        }
      ]
    },
    {
      "cell_type": "code",
      "metadata": {
        "colab": {
          "base_uri": "https://localhost:8080/"
        },
        "id": "o8uLJxz8m4Y2",
        "outputId": "e2189fe8-a92c-4c6f-e6d2-51deac343798"
      },
      "source": [
        "print(mylist)"
      ],
      "execution_count": 116,
      "outputs": [
        {
          "output_type": "stream",
          "text": [
            "[54, 26, 93, 17, 31]\n"
          ],
          "name": "stdout"
        }
      ]
    },
    {
      "cell_type": "code",
      "metadata": {
        "colab": {
          "base_uri": "https://localhost:8080/"
        },
        "id": "TTEuGvYRuBjt",
        "outputId": "2b86d601-2c24-4353-a9d6-afe4d8c87b86"
      },
      "source": [
        "list = [1,2,3,4]\n",
        "print(list)\n",
        "print(type(list))\n",
        "print(str(list))\n",
        "print(type(str(list)))"
      ],
      "execution_count": 106,
      "outputs": [
        {
          "output_type": "stream",
          "text": [
            "[1, 2, 3, 4]\n",
            "<class 'list'>\n",
            "[1, 2, 3, 4]\n",
            "<class 'str'>\n"
          ],
          "name": "stdout"
        }
      ]
    },
    {
      "cell_type": "markdown",
      "metadata": {
        "id": "ZdDX5mDbut0a"
      },
      "source": [
        "# 有序列表"
      ]
    },
    {
      "cell_type": "code",
      "metadata": {
        "id": "83h_xTgWutap"
      },
      "source": [
        "class OrderedList:\n",
        "  def __init__(self):\n",
        "    self.head = None\n",
        "  \n",
        "  def isEmpty(self):\n",
        "    return self.head == None\n",
        "\n",
        "  def __str__(self):\n",
        "    out = []\n",
        "    current = self.head\n",
        "    while current != None:\n",
        "      out.append(current.getData())\n",
        "      current = current.getNext()\n",
        "    return str(out)\n",
        "\n",
        "  def add(self, item):\n",
        "    current = self.head\n",
        "    previous = None\n",
        "    stop = False\n",
        "    while current != None and not stop:\n",
        "      if current.getData() > item:\n",
        "        stop = True\n",
        "      else:\n",
        "        previous = current\n",
        "        current = current.getNext()\n",
        "    temp = Node(item)\n",
        "    if previous == None:\n",
        "      temp.setNext(self.head)\n",
        "      self.head = temp\n",
        "    else:\n",
        "      temp.setNext(current)\n",
        "      previous.setNext(temp)\n",
        "  def length(self):\n",
        "    current = self.head\n",
        "    count = 0\n",
        "    while current != None:\n",
        "      count = count + 1\n",
        "      current = current.getNext()\n",
        "    return count\n",
        "  def search(self, item):\n",
        "    current = self.head\n",
        "    found = False\n",
        "    stop = False\n",
        "    while current != None and not found and not stop:\n",
        "      if current.getData() == item:\n",
        "        found = True\n",
        "      else:\n",
        "        if current.getData() > item:\n",
        "          stop = True\n",
        "        else:\n",
        "          current = current.getNext()\n",
        "    return found\n",
        "  def remove(self, item):\n",
        "    current = self.head\n",
        "    previous = None\n",
        "    found = False\n",
        "    while not found:\n",
        "      if current.getData() == item:\n",
        "        found = True\n",
        "      else:\n",
        "        previous = current\n",
        "        current = current.getNext()\n",
        "    if previous == None:\n",
        "      self.head = current.getNext()\n",
        "    else:\n",
        "      previous.setNext(current.getNext())\n",
        "    "
      ],
      "execution_count": 117,
      "outputs": []
    },
    {
      "cell_type": "code",
      "metadata": {
        "colab": {
          "base_uri": "https://localhost:8080/"
        },
        "id": "MplnAZwDutdC",
        "outputId": "64d68ed7-95d3-42ab-8297-df24a6e24033"
      },
      "source": [
        "mylist = OrderedList()\n",
        "mylist.isEmpty()"
      ],
      "execution_count": 118,
      "outputs": [
        {
          "output_type": "execute_result",
          "data": {
            "text/plain": [
              "True"
            ]
          },
          "metadata": {
            "tags": []
          },
          "execution_count": 118
        }
      ]
    },
    {
      "cell_type": "code",
      "metadata": {
        "colab": {
          "base_uri": "https://localhost:8080/"
        },
        "id": "hZ0y-SmNutf7",
        "outputId": "4328e6e3-a361-43be-d58a-e296535fbebd"
      },
      "source": [
        "print(mylist)"
      ],
      "execution_count": 119,
      "outputs": [
        {
          "output_type": "stream",
          "text": [
            "[]\n"
          ],
          "name": "stdout"
        }
      ]
    },
    {
      "cell_type": "code",
      "metadata": {
        "id": "4ILXnCGwuthf"
      },
      "source": [
        "mylist.add(31)\n",
        "mylist.add(77)\n",
        "mylist.add(17)\n",
        "mylist.add(93)\n",
        "mylist.add(26)\n",
        "mylist.add(54)"
      ],
      "execution_count": 120,
      "outputs": []
    },
    {
      "cell_type": "code",
      "metadata": {
        "colab": {
          "base_uri": "https://localhost:8080/"
        },
        "id": "F5zElFTjzIh2",
        "outputId": "b5a24248-95cb-4e30-db3c-4c952bead526"
      },
      "source": [
        "print(mylist)"
      ],
      "execution_count": 121,
      "outputs": [
        {
          "output_type": "stream",
          "text": [
            "[17, 26, 31, 54, 77, 93]\n"
          ],
          "name": "stdout"
        }
      ]
    },
    {
      "cell_type": "code",
      "metadata": {
        "id": "x_CtZgxZzIj0"
      },
      "source": [
        ""
      ],
      "execution_count": null,
      "outputs": []
    }
  ]
}