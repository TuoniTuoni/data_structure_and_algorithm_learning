{
 "cells": [
  {
   "cell_type": "code",
   "execution_count": 10,
   "metadata": {},
   "outputs": [
    {
     "ename": "TypeError",
     "evalue": "sequence item 0: expected str instance, People found",
     "output_type": "error",
     "traceback": [
      "\u001b[1;31m---------------------------------------------------------------------------\u001b[0m",
      "\u001b[1;31mTypeError\u001b[0m                                 Traceback (most recent call last)",
      "\u001b[1;32m<ipython-input-10-08134931ecb8>\u001b[0m in \u001b[0;36m<module>\u001b[1;34m\u001b[0m\n\u001b[0;32m     11\u001b[0m \u001b[1;32mif\u001b[0m \u001b[0m__name__\u001b[0m \u001b[1;33m==\u001b[0m\u001b[1;34m\"__main__\"\u001b[0m\u001b[1;33m:\u001b[0m\u001b[1;33m\u001b[0m\u001b[1;33m\u001b[0m\u001b[0m\n\u001b[0;32m     12\u001b[0m     print(\"\\t\".join([item for item in sorted([People(\"abc\", 18),\n\u001b[1;32m---> 13\u001b[1;33m         People(\"abe\", 19), People(\"abe\", 12), People(\"abc\", 17)])]))\n\u001b[0m\u001b[0;32m     14\u001b[0m     \u001b[0mprint\u001b[0m\u001b[1;33m(\u001b[0m\u001b[0mstr\u001b[0m\u001b[1;33m(\u001b[0m\u001b[0mPeople\u001b[0m\u001b[1;33m(\u001b[0m\u001b[1;34m\"abc\"\u001b[0m\u001b[1;33m,\u001b[0m\u001b[1;36m34\u001b[0m\u001b[1;33m)\u001b[0m\u001b[1;33m)\u001b[0m\u001b[1;33m)\u001b[0m\u001b[1;33m\u001b[0m\u001b[1;33m\u001b[0m\u001b[0m\n",
      "\u001b[1;31mTypeError\u001b[0m: sequence item 0: expected str instance, People found"
     ]
    }
   ],
   "source": [
    "class People(object):\n",
    "    def __init__(self,name,age):\n",
    "        self.name = name\n",
    "        self.age = age\n",
    "        return \n",
    "    def __str__(self):\n",
    "        return self.name + \":\" + str(self.age)\n",
    "    def __lt__(self,other):\n",
    "        return self.name < other.name if self.name != other.name else self.age < other.age\n",
    "    \n",
    "if __name__ ==\"__main__\":\n",
    "    print(\"\\t\".join([str(item) for item in sorted([People(\"abc\", 18),\n",
    "        People(\"abe\", 19), People(\"abe\", 12), People(\"abc\", 17)])]))\n",
    "    print(str(People(\"abc\",34)))"
   ]
  },
  {
   "cell_type": "code",
   "execution_count": 16,
   "metadata": {},
   "outputs": [
    {
     "ename": "NameError",
     "evalue": "name 'unicode' is not defined",
     "output_type": "error",
     "traceback": [
      "\u001b[1;31m---------------------------------------------------------------------------\u001b[0m",
      "\u001b[1;31mNameError\u001b[0m                                 Traceback (most recent call last)",
      "\u001b[1;32m<ipython-input-16-3a3cdf27b991>\u001b[0m in \u001b[0;36m<module>\u001b[1;34m\u001b[0m\n\u001b[0;32m      5\u001b[0m         \u001b[1;32mreturn\u001b[0m \u001b[1;34mf\"the value is {self.a}\"\u001b[0m\u001b[1;33m\u001b[0m\u001b[1;33m\u001b[0m\u001b[0m\n\u001b[0;32m      6\u001b[0m \u001b[1;33m\u001b[0m\u001b[0m\n\u001b[1;32m----> 7\u001b[1;33m \u001b[0mprint\u001b[0m\u001b[1;33m(\u001b[0m\u001b[0municode\u001b[0m\u001b[1;33m(\u001b[0m\u001b[0mDemo\u001b[0m\u001b[1;33m(\u001b[0m\u001b[1;33m)\u001b[0m\u001b[1;33m)\u001b[0m\u001b[1;33m)\u001b[0m\u001b[1;33m\u001b[0m\u001b[1;33m\u001b[0m\u001b[0m\n\u001b[0m",
      "\u001b[1;31mNameError\u001b[0m: name 'unicode' is not defined"
     ]
    }
   ],
   "source": [
    "class Demo(object):\n",
    "    def __init__(self):\n",
    "        self.a = 1\n",
    "    def __unicode__(self):\n",
    "        return f\"the value is {self.a}\"\n",
    "\n",
    "print(unicode(Demo()))"
   ]
  },
  {
   "cell_type": "code",
   "execution_count": 17,
   "metadata": {},
   "outputs": [
    {
     "name": "stdout",
     "output_type": "stream",
     "text": [
      "你正在删除一个属性\n",
      "100\n",
      "'MyClass' object has no attribute 'work'\n"
     ]
    }
   ],
   "source": [
    "class MyClass:\n",
    "    def __init__(self, work, score):\n",
    "        self.work = work\n",
    "        self.score = score\n",
    "    def __delattr__(self, name):\n",
    "        print(\"你正在删除一个属性\")\n",
    "        return super().__delattr__(name)\n",
    "\n",
    "def main():\n",
    "    test = MyClass(work=\"math\", score=100)\n",
    "    # 删除work属性\n",
    "    del test.work\n",
    "    # work属性删除,score属性还在\n",
    "    print(test.score)\n",
    "    try:\n",
    "        print(test.work)\n",
    "    except AttributeError as f:\n",
    "        print(f)\n",
    "\n",
    "if __name__ == '__main__':\n",
    "    main()"
   ]
  },
  {
   "cell_type": "code",
   "execution_count": 20,
   "metadata": {},
   "outputs": [
    {
     "name": "stdout",
     "output_type": "stream",
     "text": [
      "调用 __init__() 方法构造对象\n",
      "调用__del__() 销毁对象，释放其空间\n",
      "***********\n"
     ]
    }
   ],
   "source": [
    "class CLanguage:\n",
    "    def __init__(self):\n",
    "        print(\"调用 __init__() 方法构造对象\")\n",
    "    def __del__(self):\n",
    "        print(\"调用__del__() 销毁对象，释放其空间\")\n",
    "clangs = CLanguage()\n",
    "#添加一个引用clangs对象的实例对象\n",
    "cl = clangs\n",
    "del clangs\n",
    "print(\"***********\")"
   ]
  },
  {
   "cell_type": "code",
   "execution_count": 21,
   "metadata": {},
   "outputs": [
    {
     "name": "stdout",
     "output_type": "stream",
     "text": [
      "调用 __init__() 方法构造对象\n",
      "调用__del__() 销毁对象，释放其空间\n",
      "***********\n"
     ]
    }
   ],
   "source": [
    "class CLanguage:\n",
    "    def __init__(self):\n",
    "        print(\"调用 __init__() 方法构造对象\")\n",
    "    def __del__(self):\n",
    "        print(\"调用__del__() 销毁对象，释放其空间\")\n",
    "clangs = CLanguage()\n",
    "#添加一个引用clangs对象的实例对象\n",
    "cl = clangs\n",
    "del clangs\n",
    "print(\"***********\")"
   ]
  },
  {
   "cell_type": "code",
   "execution_count": 22,
   "metadata": {},
   "outputs": [
    {
     "name": "stdout",
     "output_type": "stream",
     "text": [
      "{'__module__': '__main__', 'a': 1, 'b': 2, '__init__': <function CLanguage.__init__ at 0x0000028E074C1AE8>, '__dict__': <attribute '__dict__' of 'CLanguage' objects>, '__weakref__': <attribute '__weakref__' of 'CLanguage' objects>, '__doc__': None}\n",
      "{'name': 'C语言中文网', 'add': 'http://c.biancheng.net'}\n"
     ]
    }
   ],
   "source": [
    "class CLanguage:\n",
    "    a = 1\n",
    "    b = 2\n",
    "    def __init__ (self):\n",
    "        self.name = \"C语言中文网\"\n",
    "        self.add = \"http://c.biancheng.net\"\n",
    "#通过类名调用__dict__\n",
    "print(CLanguage.__dict__)\n",
    "#通过类实例对象调用 __dict__\n",
    "clangs = CLanguage()\n",
    "print(clangs.__dict__)"
   ]
  },
  {
   "cell_type": "code",
   "execution_count": 24,
   "metadata": {},
   "outputs": [
    {
     "name": "stdout",
     "output_type": "stream",
     "text": [
      "{'name': 'C语言中文网', 'add': 'http://c.biancheng.net'}\n",
      "Python教程\n",
      "{'name': 'Python教程', 'add': 'http://c.biancheng.net'}\n"
     ]
    }
   ],
   "source": [
    "class CLanguage:\n",
    "    a = \"aaa\"\n",
    "    b = 2\n",
    "    def __init__ (self):\n",
    "        self.name = \"C语言中文网\"\n",
    "        self.add = \"http://c.biancheng.net\"\n",
    "#通过类实例对象调用 __dict__\n",
    "clangs = CLanguage()\n",
    "print(clangs.__dict__)\n",
    "clangs.__dict__['name'] = \"Python教程\"\n",
    "print(clangs.name)\n",
    "print(clangs.__dict__)"
   ]
  },
  {
   "cell_type": "code",
   "execution_count": 26,
   "metadata": {},
   "outputs": [
    {
     "name": "stdout",
     "output_type": "stream",
     "text": [
      "调用 __init__() 方法构造对象\n",
      "调用__del__() 销毁对象，释放其空间\n"
     ]
    }
   ],
   "source": [
    "class CLanguage:\n",
    "    def __init__(self):\n",
    "        print(\"调用 __init__() 方法构造对象\")\n",
    "    def __del__(self):\n",
    "        print(\"调用__del__() 销毁对象，释放其空间\")\n",
    "clangs = CLanguage()\n",
    "del clangs"
   ]
  },
  {
   "cell_type": "code",
   "execution_count": 3,
   "metadata": {},
   "outputs": [
    {
     "name": "stdout",
     "output_type": "stream",
     "text": [
      "<__main__.CLanguage object at 0x000001B30E86CA90>\n",
      "<__main__.CLanguage object at 0x000001B30E86CA90>\n"
     ]
    }
   ],
   "source": [
    "class CLanguage:\n",
    "    n = 5\n",
    "clangs = CLanguage()\n",
    "print(clangs)\n",
    "print(clangs.__repr__())"
   ]
  },
  {
   "cell_type": "code",
   "execution_count": 6,
   "metadata": {},
   "outputs": [
    {
     "name": "stdout",
     "output_type": "stream",
     "text": [
      "CLanguage[name=C语言中文网,add=http://c.biancheng.net]\n"
     ]
    }
   ],
   "source": [
    "class CLanguage:\n",
    "    def __init__(self):\n",
    "        self.name = \"C语言中文网\"\n",
    "        self.add = \"http://c.biancheng.net\"\n",
    "    def __repr__(self):\n",
    "        return \"CLanguage[name=\"+ self.name +\",add=\" + self.add +\"]\"\n",
    "clangs = CLanguage()\n",
    "print(clangs)"
   ]
  },
  {
   "cell_type": "code",
   "execution_count": 13,
   "metadata": {},
   "outputs": [
    {
     "name": "stdout",
     "output_type": "stream",
     "text": [
      "CLanguage[name=C语言中文网,add=http://c.biancheng.net]\n"
     ]
    }
   ],
   "source": [
    "class CLanguage:\n",
    "    def __init__(self, name, add):\n",
    "        self.name = name\n",
    "        self.add = add\n",
    "    def __repr__(self,name,add):\n",
    "        return \"CLanguage[name=\"+ self.name +\",add=\" + self.add +\"]\"\n",
    "clangs = CLanguage(\"C语言中文网\",\"http://c.biancheng.net\" )\n",
    "print(clangs.__repr__(\"C语言中文网\",\"http://c.biancheng.net\"))"
   ]
  },
  {
   "cell_type": "code",
   "execution_count": 20,
   "metadata": {},
   "outputs": [
    {
     "name": "stdout",
     "output_type": "stream",
     "text": [
      "1\n",
      "名字是:汤姆 , 年龄是:30\n"
     ]
    }
   ],
   "source": [
    "class Cat:\n",
    "    \"\"\"定义一个猫类\"\"\"\n",
    "    num = 1\n",
    " \n",
    "    def __init__(self, new_name= \"汤姆\", new_age= 20):\n",
    "        \"\"\"在创建完对象之后 会自动调用, 它完成对象的初始化的功能\"\"\"\n",
    "        self.name = new_name\n",
    "        self.age = new_age  # 它是一个对象中的属性,在对象中存储,即只要这个对象还存在,那么这个变量就可以使用\n",
    "        num = 100  # 它是一个局部变量,当这个函数执行完之后,这个变量的空间就没有了,因此其他方法不能使用这个变量\n",
    " \n",
    "    def __str__(self):\n",
    "        \"\"\"返回一个对象的描述信息\"\"\"\n",
    "        #print(num)\n",
    "        return \"名字是:%s , 年龄是:%d\" % (self.name, self.age)\n",
    "\n",
    "# 创建了一个对象\n",
    "tom = Cat(\"汤姆\", 30)\n",
    "#print(tom.num)\n",
    "print(Cat.num)\n",
    "print(tom)"
   ]
  },
  {
   "cell_type": "code",
   "execution_count": 32,
   "metadata": {},
   "outputs": [
    {
     "name": "stdout",
     "output_type": "stream",
     "text": [
      "5\n"
     ]
    }
   ],
   "source": [
    "class Students():\n",
    "    def __init__(self, *args,**kwargs):\n",
    "        self.names = args\n",
    "        self.homes = kwargs\n",
    "    def __len__(self):\n",
    "        return len(self.homes) + len(self.names)\n",
    "    \n",
    "ss = Students(\"Bob\",\"Alice\",\"tim\")\n",
    "a= Students(\"Bob\",\"Alice\",\"tim\",shell教程=\"http://c.biancheng.net/shell/\",go教程=\"http://c.biancheng.net/golang/\")\n",
    "print(len(a))"
   ]
  },
  {
   "cell_type": "code",
   "execution_count": 35,
   "metadata": {},
   "outputs": [
    {
     "name": "stdout",
     "output_type": "stream",
     "text": [
      "名字是:23 , 年龄是:34\n"
     ]
    }
   ],
   "source": [
    "class GJH(object):\n",
    "    def __init__(self,length,tizhong):\n",
    "        self.length = length\n",
    "        self.tizhong = tizhong\n",
    "    \n",
    "    def __str__(self):\n",
    "        return \"名字是:%s , 年龄是:%d\" % (self.length, self.tizhong)\n",
    "gjh = GJH(23,34)\n",
    "print(gjh)"
   ]
  },
  {
   "cell_type": "code",
   "execution_count": 9,
   "metadata": {},
   "outputs": [
    {
     "name": "stdout",
     "output_type": "stream",
     "text": [
      "<__main__.Sentence object at 0x00000206CF3A0860>\n",
      "The\n",
      "time\n",
      "has\n",
      "come\n",
      "has\n"
     ]
    }
   ],
   "source": [
    "import re\n",
    "RE_WORD = re.compile(r'\\w+')\n",
    "class Sentence:\n",
    "    def __init__(self, text):\n",
    "        self.text = text\n",
    "        self.words = RE_WORD.findall(text)  # re.findall函数返回一个字符串列表，里面的元素是正则表达式的全部非重叠匹配\n",
    "    def __getitem__(self,index):\n",
    "        return self.words[index]\n",
    "    \n",
    "s = Sentence('The time has come has')\n",
    "print(s)\n",
    "#print(list(s))\n",
    "for word in s:\n",
    "    print(word)"
   ]
  },
  {
   "cell_type": "code",
   "execution_count": 3,
   "metadata": {},
   "outputs": [
    {
     "name": "stdout",
     "output_type": "stream",
     "text": [
      "['runoob', '123', 'google', '456']\n",
      "['run88oob123google456']\n"
     ]
    }
   ],
   "source": [
    "import re\n",
    " \n",
    "pattern = re.compile(r'\\w+')   # 查找数字\n",
    "result1 = pattern.findall('runoob 123 google 456')\n",
    "result2 = pattern.findall('run88oob123google456')\n",
    " \n",
    "print(result1)\n",
    "print(result2)"
   ]
  },
  {
   "cell_type": "code",
   "execution_count": 12,
   "metadata": {},
   "outputs": [
    {
     "name": "stdout",
     "output_type": "stream",
     "text": [
      "None\n"
     ]
    }
   ],
   "source": [
    "import re\n",
    "pattern = re.compile(r'\\d+')                    # 用于匹配至少一个数字\n",
    "m = pattern.match('one12twothree34four')        # 查找头部，没有匹配\n",
    "print (m)\n"
   ]
  },
  {
   "cell_type": "code",
   "execution_count": 40,
   "metadata": {},
   "outputs": [
    {
     "name": "stdout",
     "output_type": "stream",
     "text": [
      "<__main__.DataBase object at 0x00000206CF438080>\n",
      "{'id': 1, 'address': '192.168.2.11', 'd': {1: 1, '192.168.2.11': '192.168.10.10'}}\n",
      "{1: 1, '192.168.2.11': '192.168.10.10'}\n",
      "default\n",
      "192.168.10.10\n"
     ]
    }
   ],
   "source": [
    "class DataBase:\n",
    "    '''Python 3 中的类'''\n",
    "\n",
    "    def __init__(self, id, address):\n",
    "        '''初始化方法'''\n",
    "        self.id = id\n",
    "        self.address = address\n",
    "        self.d = {self.id: 1,\n",
    "                  self.address: \"192.168.10.10\",\n",
    "                  }\n",
    "\n",
    "    def __getitem__(self, key):\n",
    "        # return self.__dict__.get(key, \"100\")\n",
    "        return self.d.get(key, \"default\")\n",
    "\n",
    "\n",
    "data = DataBase(1, \"192.168.2.11\")\n",
    "print(data)\n",
    "print(data.__dict__)\n",
    "print(data.d)\n",
    "print(data[\"hi\"])\n",
    "print(data[\"192.168.2.11\"])\n",
    "#print(data.id)"
   ]
  },
  {
   "cell_type": "code",
   "execution_count": 16,
   "metadata": {},
   "outputs": [
    {
     "name": "stdout",
     "output_type": "stream",
     "text": [
      "P\n",
      "------------------------\n",
      "P\n",
      "Y\n",
      "T\n",
      "H\n",
      "O\n",
      "N\n"
     ]
    }
   ],
   "source": [
    "class STgetitem:\n",
    "\n",
    "    def __init__(self, text):\n",
    "        self.text = text\n",
    "\n",
    "    def __getitem__(self, index):\n",
    "        result = self.text[index].upper()\n",
    "        return result\n",
    "\n",
    "\n",
    "p = STgetitem(\"Python\")\n",
    "print(p[0])\n",
    "print(\"------------------------\")\n",
    "for char in p:\n",
    "    print(char)"
   ]
  },
  {
   "cell_type": "code",
   "execution_count": 39,
   "metadata": {},
   "outputs": [
    {
     "name": "stdout",
     "output_type": "stream",
     "text": [
      "<__main__.DataBase object at 0x00000206CF427E80>\n",
      "{'id': 1, 'address': '192.168.2.11'}\n",
      "100\n",
      "1\n",
      "192.168.2.11\n"
     ]
    }
   ],
   "source": [
    "class DataBase:\n",
    "    '''Python 3 中的类'''\n",
    "\n",
    "    def __init__(self, id, address):\n",
    "        '''初始化方法'''\n",
    "        self.id = id\n",
    "        self.address = address\n",
    "\n",
    "    def __getitem__(self, key):\n",
    "        return self.__dict__.get(key, \"100\")\n",
    "\n",
    "\n",
    "data = DataBase(1, \"192.168.2.11\")\n",
    "print(data)\n",
    "print(data.__dict__)\n",
    "print(data[\"hi\"])\n",
    "print(data[\"id\"])\n",
    "print(data[\"address\"])"
   ]
  },
  {
   "cell_type": "code",
   "execution_count": 36,
   "metadata": {},
   "outputs": [
    {
     "name": "stdout",
     "output_type": "stream",
     "text": [
      "5\n"
     ]
    }
   ],
   "source": [
    "def sum(a,b):\n",
    "    out = a+ b \n",
    "    return out\n",
    "print(sum(2,3))"
   ]
  },
  {
   "cell_type": "code",
   "execution_count": 42,
   "metadata": {},
   "outputs": [
    {
     "name": "stdout",
     "output_type": "stream",
     "text": [
      "__setitem__:Set B Value BB\n",
      "__setitem__:Set D Value DD\n"
     ]
    }
   ],
   "source": [
    "class A:\n",
    "    def __init__(self):\n",
    "        self['B']='BB'\n",
    "        self['D']='DD'\n",
    "        \n",
    "    def __setitem__(self,name,value):\n",
    " \n",
    "        print (\"__setitem__:Set %s Value %s\" %(name,value))\n",
    "        \n",
    "        \n",
    "if __name__=='__main__':\n",
    "    X=A()"
   ]
  },
  {
   "cell_type": "code",
   "execution_count": 52,
   "metadata": {},
   "outputs": [
    {
     "name": "stdout",
     "output_type": "stream",
     "text": [
      "<__main__.Tag object at 0x00000206CF456FD0>\n",
      "{'python': 'This is python', 'php': 'PHP is a good language'}\n",
      "{'python': 'This is python', 'php': 'PHP is a good language', 'java': 'java is coffee'}\n",
      "调用getitem\n",
      "PHP is a good language\n",
      "调用delitem\n",
      "{'python': 'This is python', 'java': 'java is coffee'}\n"
     ]
    }
   ],
   "source": [
    "class Tag:\n",
    "    def __init__(self):\n",
    "        self.change={'python':'This is python',\n",
    "                     'php':'PHP is a good language'}\n",
    " \n",
    "    def __getitem__(self, item):\n",
    "        print('调用getitem')\n",
    "        return self.change[item]\n",
    " \n",
    "    def __setitem__(self, key, value):\n",
    "        print('调用setitem')\n",
    "        self.change[key]=value\n",
    " \n",
    "    def __delitem__(self, key):\n",
    "        print('调用delitem')\n",
    "        del self.change[key]\n",
    " \n",
    "a=Tag()\n",
    "print(a)\n",
    "print(a.change)\n",
    "a.change['java'] = 'java is coffee'\n",
    "print(a.change)\n",
    "print(a['php'])\n",
    "del a['php']\n",
    "print(a.change)"
   ]
  },
  {
   "cell_type": "code",
   "execution_count": 56,
   "metadata": {},
   "outputs": [
    {
     "name": "stdout",
     "output_type": "stream",
     "text": [
      "<__main__.Graph object at 0x00000206CF4566D8>\n",
      "{'a': 1, 'b': 2, 'c': 3}\n",
      "True\n",
      "False\n",
      "False\n"
     ]
    }
   ],
   "source": [
    "class Graph():\n",
    "    def __init__(self):\n",
    "        self.items = {'a':1,'b':2,'c':3}\n",
    "    def __contains__(self,x): # 判断一个定点是否包含在里面\n",
    "        return x in self.items\n",
    "\n",
    "a = Graph()\n",
    "print(a)\n",
    "print(a.items)\n",
    "print('a' in a) # 返回True\n",
    "print('d' in a) # 返回False\n",
    "print( in a)"
   ]
  },
  {
   "cell_type": "code",
   "execution_count": 64,
   "metadata": {},
   "outputs": [
    {
     "name": "stdout",
     "output_type": "stream",
     "text": [
      "打印我干嘛\n",
      "True\n",
      "True\n",
      "False\n"
     ]
    },
    {
     "data": {
      "text/plain": [
       "打印我干嘛"
      ]
     },
     "execution_count": 64,
     "metadata": {},
     "output_type": "execute_result"
    }
   ],
   "source": [
    "class Graph():\n",
    "    def __init__(self):\n",
    "        self.items = {'a':1,'b':2,'c':3}\n",
    "\n",
    "    def __str__(self):\n",
    "        return '打印我干嘛'\n",
    "    \n",
    "    __repr__ = __str__\n",
    "    \n",
    "    \n",
    "    def __contains__(self,x): # x参数接受的就是我们手动传递的数据\n",
    "        if x<10 and x>0:\n",
    "            return True\n",
    "        else:\n",
    "            return False\n",
    "\n",
    "a = Graph()\n",
    "print(a)\n",
    "\n",
    "print(9 in Graph())\n",
    "print(5 in Graph())\n",
    "print(51 in Graph())\n",
    "a"
   ]
  },
  {
   "cell_type": "code",
   "execution_count": 66,
   "metadata": {},
   "outputs": [
    {
     "name": "stdout",
     "output_type": "stream",
     "text": [
      "{'__module__': '__main__', 'a': 1, 'b': 2, '__init__': <function CLanguage.__init__ at 0x00000206CF45A9D8>, '__dict__': <attribute '__dict__' of 'CLanguage' objects>, '__weakref__': <attribute '__weakref__' of 'CLanguage' objects>, '__doc__': None}\n",
      "================\n",
      "{'name': 'C语言中文网', 'add': 'http://c.biancheng.net'}\n"
     ]
    }
   ],
   "source": [
    "class CLanguage:\n",
    "    a = 1\n",
    "    b = 2\n",
    "    def __init__ (self):\n",
    "        self.name = \"C语言中文网\"\n",
    "        self.add = \"http://c.biancheng.net\"\n",
    "#通过类名调用__dict__\n",
    "print(CLanguage.__dict__)\n",
    "\n",
    "print(\"================\")\n",
    "clang = CLanguage()\n",
    "print(clang.__dict__)"
   ]
  },
  {
   "cell_type": "code",
   "execution_count": 67,
   "metadata": {},
   "outputs": [
    {
     "name": "stdout",
     "output_type": "stream",
     "text": [
      "4\n",
      "5\n",
      "6\n"
     ]
    }
   ],
   "source": [
    "class test():\n",
    "    def __init__(self,data=1):\n",
    "        self.data = data\n",
    "    def __iter__(self):\n",
    "        return self\n",
    "    def __next__(self):\n",
    "        if self.data > 5:\n",
    "            raise StopIteration\n",
    "        else:\n",
    "            self.data +=1\n",
    "            return self.data\n",
    "for item in test(3):\n",
    "    print(item)"
   ]
  },
  {
   "cell_type": "code",
   "execution_count": 70,
   "metadata": {},
   "outputs": [
    {
     "name": "stdout",
     "output_type": "stream",
     "text": [
      "<bound method test.__next__ of <__main__.test object at 0x00000206CF438BE0>>\n",
      "<bound method test.__next__ of <__main__.test object at 0x00000206CF438BE0>>\n",
      "<bound method test.__next__ of <__main__.test object at 0x00000206CF438BE0>>\n"
     ]
    }
   ],
   "source": [
    "class test():\n",
    "    def __init__(self,data=1):\n",
    "        self.data = data\n",
    "\n",
    "    def __next__(self):\n",
    "        if self.data > 5:\n",
    "            raise StopIteration\n",
    "        else:\n",
    "            self.data+=1\n",
    "            return self.data\n",
    "\n",
    "t = test(3)   \n",
    "for i in range(3):\n",
    "    print(t.__next__)\n",
    "    #print(t.__next__())"
   ]
  },
  {
   "cell_type": "code",
   "execution_count": 86,
   "metadata": {},
   "outputs": [
    {
     "name": "stdout",
     "output_type": "stream",
     "text": [
      "开始执行\n",
      "继续执行\n",
      "继续执行\n",
      "继续执行\n",
      "继续执行\n",
      "继续执行\n",
      "[0, 1, 2, 3, 4]\n"
     ]
    }
   ],
   "source": [
    "def intNum():\n",
    "    print(\"开始执行\")\n",
    "    for i in range(5):\n",
    "        yield i\n",
    "        print(\"继续执行\")\n",
    "num = intNum()\n",
    "print(list(num))"
   ]
  },
  {
   "cell_type": "code",
   "execution_count": 82,
   "metadata": {},
   "outputs": [
    {
     "name": "stdout",
     "output_type": "stream",
     "text": [
      "开始执行\n",
      "0\n"
     ]
    }
   ],
   "source": [
    "def intNum():\n",
    "    print(\"开始执行\")\n",
    "    for i in range(5):\n",
    "        return  i\n",
    "        print(\"继续执行\")\n",
    "num = intNum()\n",
    "print(num)"
   ]
  },
  {
   "cell_type": "code",
   "execution_count": 90,
   "metadata": {},
   "outputs": [
    {
     "data": {
      "text/plain": [
       "[1, 1, 2, 3, 5, 8, 13, 21, 34, 55, 89, 144, 233, 377, 610, 987]"
      ]
     },
     "execution_count": 90,
     "metadata": {},
     "output_type": "execute_result"
    }
   ],
   "source": [
    "def fib(end = 1000):\n",
    "    prev,curr=0,1\n",
    "    while curr < end:\n",
    "        yield curr\n",
    "        prev,curr=curr,curr+prev\n",
    "\n",
    "list(fib())"
   ]
  },
  {
   "cell_type": "code",
   "execution_count": 93,
   "metadata": {},
   "outputs": [
    {
     "name": "stdout",
     "output_type": "stream",
     "text": [
      "True\n",
      "True\n",
      "0\n",
      "1\n",
      "2\n",
      "3\n",
      "4\n"
     ]
    }
   ],
   "source": [
    "class MyRange(object):\n",
    "    def __init__(self, end):\n",
    "        self.start = 0\n",
    "        self.end = end\n",
    "\n",
    "    def __iter__(self):\n",
    "        return self\n",
    "\n",
    "    def __next__(self):\n",
    "        if self.start < self.end:\n",
    "            ret = self.start\n",
    "            self.start += 1\n",
    "            return ret\n",
    "        else:\n",
    "            raise StopIteration\n",
    "\n",
    "\n",
    "a = MyRange(5)\n",
    "print(isinstance(a, Iterable))\n",
    "print(isinstance(a, Iterator))\n",
    "\n",
    "for i in a:\n",
    "    print(i)\n"
   ]
  },
  {
   "cell_type": "code",
   "execution_count": 94,
   "metadata": {},
   "outputs": [
    {
     "name": "stdout",
     "output_type": "stream",
     "text": [
      "True\n",
      "True\n",
      "0\n",
      "1\n",
      "2\n",
      "3\n",
      "4\n"
     ]
    }
   ],
   "source": [
    "class MyRange(object):\n",
    "    def __init__(self,end):\n",
    "        self.start = 0\n",
    "        self.end = end\n",
    "    def __iter__(self):\n",
    "        return self\n",
    "    def __next__(self):\n",
    "        if self.start < self.end:\n",
    "            ret = self.start\n",
    "            self.start += 1\n",
    "            return ret\n",
    "        else:\n",
    "            raise StopIteration\n",
    "a = MyRange(5)\n",
    "print(isinstance(a,Iterable))\n",
    "print(isinstance(a,Iterator))\n",
    "for i in a:\n",
    "    print(i)"
   ]
  },
  {
   "cell_type": "code",
   "execution_count": 95,
   "metadata": {},
   "outputs": [
    {
     "name": "stdout",
     "output_type": "stream",
     "text": [
      "0\n",
      "1\n",
      "2\n",
      "3\n",
      "4\n"
     ]
    },
    {
     "ename": "StopIteration",
     "evalue": "",
     "output_type": "error",
     "traceback": [
      "\u001b[1;31m---------------------------------------------------------------------------\u001b[0m",
      "\u001b[1;31mStopIteration\u001b[0m                             Traceback (most recent call last)",
      "\u001b[1;32m<ipython-input-95-b61fcd32ee4d>\u001b[0m in \u001b[0;36m<module>\u001b[1;34m\u001b[0m\n\u001b[0;32m     21\u001b[0m \u001b[0mprint\u001b[0m\u001b[1;33m(\u001b[0m\u001b[0mnext\u001b[0m\u001b[1;33m(\u001b[0m\u001b[0ma\u001b[0m\u001b[1;33m)\u001b[0m\u001b[1;33m)\u001b[0m\u001b[1;33m\u001b[0m\u001b[1;33m\u001b[0m\u001b[0m\n\u001b[0;32m     22\u001b[0m \u001b[0mprint\u001b[0m\u001b[1;33m(\u001b[0m\u001b[0mnext\u001b[0m\u001b[1;33m(\u001b[0m\u001b[0ma\u001b[0m\u001b[1;33m)\u001b[0m\u001b[1;33m)\u001b[0m\u001b[1;33m\u001b[0m\u001b[1;33m\u001b[0m\u001b[0m\n\u001b[1;32m---> 23\u001b[1;33m \u001b[0mprint\u001b[0m\u001b[1;33m(\u001b[0m\u001b[0mnext\u001b[0m\u001b[1;33m(\u001b[0m\u001b[0ma\u001b[0m\u001b[1;33m)\u001b[0m\u001b[1;33m)\u001b[0m \u001b[1;31m# 其实到这里已经完成了，我们在运行一次查看异常\u001b[0m\u001b[1;33m\u001b[0m\u001b[1;33m\u001b[0m\u001b[0m\n\u001b[0m",
      "\u001b[1;32m<ipython-input-95-b61fcd32ee4d>\u001b[0m in \u001b[0;36m__next__\u001b[1;34m(self)\u001b[0m\n\u001b[0;32m     13\u001b[0m             \u001b[1;32mreturn\u001b[0m \u001b[0mret\u001b[0m\u001b[1;33m\u001b[0m\u001b[1;33m\u001b[0m\u001b[0m\n\u001b[0;32m     14\u001b[0m         \u001b[1;32melse\u001b[0m\u001b[1;33m:\u001b[0m\u001b[1;33m\u001b[0m\u001b[1;33m\u001b[0m\u001b[0m\n\u001b[1;32m---> 15\u001b[1;33m             \u001b[1;32mraise\u001b[0m \u001b[0mStopIteration\u001b[0m\u001b[1;33m\u001b[0m\u001b[1;33m\u001b[0m\u001b[0m\n\u001b[0m\u001b[0;32m     16\u001b[0m \u001b[1;33m\u001b[0m\u001b[0m\n\u001b[0;32m     17\u001b[0m \u001b[0ma\u001b[0m \u001b[1;33m=\u001b[0m \u001b[0mMyRange\u001b[0m\u001b[1;33m(\u001b[0m\u001b[1;36m5\u001b[0m\u001b[1;33m)\u001b[0m\u001b[1;33m\u001b[0m\u001b[1;33m\u001b[0m\u001b[0m\n",
      "\u001b[1;31mStopIteration\u001b[0m: "
     ]
    }
   ],
   "source": [
    "class MyRange(object):\n",
    "    def __init__(self, end):\n",
    "        self.start = 0\n",
    "        self.end = end\n",
    "\n",
    "    def __iter__(self):\n",
    "        return self\n",
    "\n",
    "    def __next__(self):\n",
    "        if self.start < self.end:\n",
    "            ret = self.start\n",
    "            self.start += 1\n",
    "            return ret\n",
    "        else:\n",
    "            raise StopIteration\n",
    "\n",
    "a = MyRange(5)\n",
    "print(next(a))\n",
    "print(next(a))\n",
    "print(next(a))\n",
    "print(next(a))\n",
    "print(next(a))\n",
    "print(next(a)) # 其实到这里已经完成了，我们在运行一次查看异常"
   ]
  },
  {
   "cell_type": "code",
   "execution_count": 2,
   "metadata": {},
   "outputs": [
    {
     "name": "stdout",
     "output_type": "stream",
     "text": [
      "True\n",
      "True\n",
      "0\n",
      "1\n",
      "2\n",
      "3\n",
      "4\n"
     ]
    }
   ],
   "source": [
    "class MyRange(object):\n",
    "    def __init__(self, end):\n",
    "        self.start = 0\n",
    "        self.end = end\n",
    "\n",
    "    def __iter__(self):\n",
    "        return self\n",
    "\n",
    "    def __next__(self):\n",
    "        if self.start < self.end:\n",
    "            ret = self.start\n",
    "            self.start += 1\n",
    "            return ret\n",
    "        else:\n",
    "            raise StopIteration\n",
    "\n",
    "#from collections.abc import *\n",
    "from collections.abc import *\n",
    "\n",
    "a = MyRange(5)\n",
    "print(isinstance(a, Iterable))\n",
    "print(isinstance(a, Iterator))\n",
    "\n",
    "for i in a:\n",
    "    print(i)"
   ]
  },
  {
   "cell_type": "code",
   "execution_count": 4,
   "metadata": {},
   "outputs": [
    {
     "name": "stdout",
     "output_type": "stream",
     "text": [
      "调用__call__()方法 C语言中文网 http://c.biancheng.net\n",
      "调用__call__()方法 C语言中文网 http://c.biancheng.net\n"
     ]
    }
   ],
   "source": [
    "class CLanguage:\n",
    "    # 定义__call__方法\n",
    "    def __call__(self,name,add):\n",
    "        print(\"调用__call__()方法\",name,add)\n",
    "\n",
    "clangs = CLanguage()\n",
    "clangs(\"C语言中文网\",\"http://c.biancheng.net\")\n",
    "clangs.__call__(\"C语言中文网\",\"http://c.biancheng.net\")"
   ]
  },
  {
   "cell_type": "code",
   "execution_count": 5,
   "metadata": {},
   "outputs": [
    {
     "name": "stdout",
     "output_type": "stream",
     "text": [
      "False\n",
      "**********\n",
      "True\n"
     ]
    }
   ],
   "source": [
    "class CLanguage:\n",
    "    def __init__ (self):\n",
    "        self.name = \"C语言中文网\"\n",
    "        self.add = \"http://c.biancheng.net\"\n",
    "    def say(self):\n",
    "        print(\"我正在学Python\")\n",
    "clangs = CLanguage()\n",
    "if hasattr(clangs,\"name\"):\n",
    "    print(hasattr(clangs.name,\"__call__\"))\n",
    "print(\"**********\")\n",
    "if hasattr(clangs,\"say\"):\n",
    "    print(hasattr(clangs.say,\"__call__\"))"
   ]
  },
  {
   "cell_type": "code",
   "execution_count": 7,
   "metadata": {},
   "outputs": [
    {
     "name": "stdout",
     "output_type": "stream",
     "text": [
      "True\n"
     ]
    }
   ],
   "source": [
    "class Fun:\n",
    "    def __init__(self):\n",
    "        pass\n",
    "    def __call__(self,*args,**kwargs):\n",
    "        pass\n",
    "\n",
    "a = Fun()\n",
    "print(callable(a))"
   ]
  },
  {
   "cell_type": "code",
   "execution_count": 16,
   "metadata": {},
   "outputs": [
    {
     "name": "stdout",
     "output_type": "stream",
     "text": [
      "矩形的面积是： 30\n"
     ]
    }
   ],
   "source": [
    "class Rect:\n",
    "    def __init__(self,area):\n",
    "        self.__area = area\n",
    "    @property\n",
    "    def area(self):\n",
    "        return self.__area\n",
    "    @area.setter\n",
    "    def area(self,value):\n",
    "        self.__area = value\n",
    "    @area.deleter\n",
    "    def area(self):\n",
    "        self.__area = 0\n",
    "rect = Rect(30)\n",
    "#直接通过方法名来访问 area 方法\n",
    "print(\"矩形的面积是：\",rect.area)"
   ]
  },
  {
   "cell_type": "code",
   "execution_count": 15,
   "metadata": {},
   "outputs": [
    {
     "name": "stdout",
     "output_type": "stream",
     "text": [
      "修改后的面积： 90\n"
     ]
    }
   ],
   "source": [
    "rect.area = 90\n",
    "print(\"修改后的面积：\",rect.area)"
   ]
  },
  {
   "cell_type": "code",
   "execution_count": 17,
   "metadata": {},
   "outputs": [
    {
     "name": "stdout",
     "output_type": "stream",
     "text": [
      "删除后的area值为： 0\n"
     ]
    }
   ],
   "source": [
    "del rect.area\n",
    "print(\"删除后的area值为：\",rect.area)"
   ]
  },
  {
   "cell_type": "code",
   "execution_count": 18,
   "metadata": {},
   "outputs": [
    {
     "name": "stdout",
     "output_type": "stream",
     "text": [
      "faker2021\n",
      "上下文管理器with语句：\n",
      "before：auto do something before statements body of with executed\n",
      "faker2021\n",
      "after：auto do something after statements body of with executed\n",
      "---------end-----------\n"
     ]
    }
   ],
   "source": [
    "class User(object):\n",
    "    def __init__(self, username, password):\n",
    "\n",
    "        self._username = username\n",
    "        self._password = password\n",
    "\n",
    "    @property\n",
    "    def username(self):\n",
    "        return self._username\n",
    "\n",
    "    @username.setter\n",
    "    def username(self, username):\n",
    "        self._username = username\n",
    "\n",
    "    @property\n",
    "    def password(self):\n",
    "        return self._password\n",
    "\n",
    "    @password.setter\n",
    "    def password(self, password):\n",
    "        self._password = password\n",
    "\n",
    "    def __enter__(self):\n",
    "        print('before：auto do something before statements body of with executed')\n",
    "        return self\n",
    "\n",
    "    def __exit__(self, exc_type, exc_val, exc_tb):\n",
    "        print('after：auto do something after statements body of with executed')\n",
    "\n",
    "\n",
    "if __name__ == '__main__':\n",
    "    boy = User('faker', 'faker2021')\n",
    "    print(boy.password)\n",
    "    print(\"上下文管理器with语句：\")\n",
    "    with User('faker', 'faker2021') as user:\n",
    "        print(user.password)\n",
    "    print('---------end-----------')"
   ]
  },
  {
   "cell_type": "code",
   "execution_count": 23,
   "metadata": {},
   "outputs": [
    {
     "name": "stdout",
     "output_type": "stream",
     "text": [
      "faker2021\n",
      "上下文管理器with语句：\n",
      "before：auto do something before statements body of with executed\n",
      "faker2021\n",
      "after execption\n",
      "auto do something after statements body of with executed\n",
      "exc_type: None\n",
      "exc_val: None\n",
      "exc_tb: None\n",
      "---------end-----------\n"
     ]
    }
   ],
   "source": [
    "class User(object):\n",
    "    def __init__(self, username, password):\n",
    "\n",
    "        self._username = username\n",
    "        self._password = password\n",
    "\n",
    "    @property\n",
    "    def username(self):\n",
    "        return self._username\n",
    "\n",
    "    @username.setter\n",
    "    def username(self, username):\n",
    "        self._username = username\n",
    "\n",
    "    @property\n",
    "    def password(self):\n",
    "        return self._password\n",
    "\n",
    "    @password.setter\n",
    "    def password(self, password):\n",
    "        self._password = password\n",
    "\n",
    "    def __enter__(self):\n",
    "        print('before：auto do something before statements body of with executed')\n",
    "        return self\n",
    "\n",
    "    def __exit__(self, exc_type, exc_val, exc_tb):\n",
    "        print('auto do something after statements body of with executed')\n",
    "\n",
    "        print('exc_type:', exc_type)\n",
    "        print('exc_val:', exc_val)\n",
    "        print('exc_tb:', exc_tb)\n",
    "        return True\n",
    "\n",
    "\n",
    "if __name__ == '__main__':\n",
    "    boy = User('faker', 'faker2021')\n",
    "    print(boy.password)\n",
    "    print(\"上下文管理器with语句：\")\n",
    "    with User('faker', 'faker2021') as user:\n",
    "        print(user.password)\n",
    "        #12/0\n",
    "        print('after execption')\n",
    "    print('---------end-----------')"
   ]
  },
  {
   "cell_type": "code",
   "execution_count": 25,
   "metadata": {},
   "outputs": [
    {
     "name": "stdout",
     "output_type": "stream",
     "text": [
      "__new__(): <class '__main__.demoClass'> ('abc',) {}\n",
      "__init__(): <__main__.demoClass object at 0x0000022BCDD905F8> abc\n",
      "__new__(): <class '__main__.demoClass'> ('xyz',) {}\n",
      "__init__(): <__main__.demoClass object at 0x0000022BCDD906D8> xyz\n"
     ]
    }
   ],
   "source": [
    "class demoClass:\n",
    "    instances_created = 0\n",
    "    def __new__(cls,*args,**kwargs):\n",
    "        print(\"__new__():\",cls,args,kwargs)\n",
    "        instance = super().__new__(cls)\n",
    "        instance.number = cls.instances_created\n",
    "        cls.instances_created += 1\n",
    "        return instance\n",
    "    def __init__(self,attribute):\n",
    "        print(\"__init__():\",self,attribute)\n",
    "        self.attribute = attribute\n",
    "test1 = demoClass(\"abc\")\n",
    "test2 = demoClass(\"xyz\")\n",
    "#print(test1.number,test1.instances_created)\n",
    "#print(test2.number,test2.instances_created)"
   ]
  },
  {
   "cell_type": "code",
   "execution_count": 28,
   "metadata": {},
   "outputs": [
    {
     "name": "stdout",
     "output_type": "stream",
     "text": [
      "__init__()\n",
      "<class '__main__.nonZero'>\n",
      "<class 'NoneType'>\n"
     ]
    }
   ],
   "source": [
    "class nonZero(int):\n",
    "    def __new__(cls,value):\n",
    "        return super().__new__(cls,value) if value != 0 else None\n",
    "    def __init__(self,skipped_value):\n",
    "        #此例中会跳过此方法\n",
    "        print(\"__init__()\")\n",
    "        super().__init__()\n",
    "print(type(nonZero(-12)))\n",
    "print(type(nonZero(0)))"
   ]
  },
  {
   "cell_type": "code",
   "execution_count": 29,
   "metadata": {},
   "outputs": [
    {
     "name": "stdout",
     "output_type": "stream",
     "text": [
      "True\n",
      "True\n",
      "True\n",
      "False\n"
     ]
    }
   ],
   "source": [
    "class CLanguage:\n",
    "    def __init__ (self):\n",
    "        self.name = \"C语言中文网\"\n",
    "        self.add = \"http://c.biancheng.net\"\n",
    "    def say(self):\n",
    "        print(\"我正在学Python\")\n",
    "clangs = CLanguage()\n",
    "print(hasattr(clangs,\"name\"))\n",
    "print(hasattr(clangs,\"add\"))\n",
    "print(hasattr(clangs,\"say\"))\n",
    "print(hasattr(clangs,\"swo\"))"
   ]
  },
  {
   "cell_type": "code",
   "execution_count": 30,
   "metadata": {},
   "outputs": [
    {
     "name": "stdout",
     "output_type": "stream",
     "text": [
      "C语言中文网\n",
      "http://c.biancheng.net\n",
      "<bound method CLanguage.say of <__main__.CLanguage object at 0x0000022BCDD90E80>>\n",
      "nodisplay\n"
     ]
    },
    {
     "ename": "AttributeError",
     "evalue": "'CLanguage' object has no attribute 'display'",
     "output_type": "error",
     "traceback": [
      "\u001b[1;31m---------------------------------------------------------------------------\u001b[0m",
      "\u001b[1;31mAttributeError\u001b[0m                            Traceback (most recent call last)",
      "\u001b[1;32m<ipython-input-30-0aa1d0aa8188>\u001b[0m in \u001b[0;36m<module>\u001b[1;34m\u001b[0m\n\u001b[0;32m     10\u001b[0m \u001b[0mprint\u001b[0m\u001b[1;33m(\u001b[0m\u001b[0mgetattr\u001b[0m\u001b[1;33m(\u001b[0m\u001b[0mclangs\u001b[0m\u001b[1;33m,\u001b[0m\u001b[1;34m\"say\"\u001b[0m\u001b[1;33m)\u001b[0m\u001b[1;33m)\u001b[0m\u001b[1;33m\u001b[0m\u001b[1;33m\u001b[0m\u001b[0m\n\u001b[0;32m     11\u001b[0m \u001b[0mprint\u001b[0m\u001b[1;33m(\u001b[0m\u001b[0mgetattr\u001b[0m\u001b[1;33m(\u001b[0m\u001b[0mclangs\u001b[0m\u001b[1;33m,\u001b[0m\u001b[1;34m\"display\"\u001b[0m\u001b[1;33m,\u001b[0m\u001b[1;34m'nodisplay'\u001b[0m\u001b[1;33m)\u001b[0m\u001b[1;33m)\u001b[0m\u001b[1;33m\u001b[0m\u001b[1;33m\u001b[0m\u001b[0m\n\u001b[1;32m---> 12\u001b[1;33m \u001b[0mprint\u001b[0m\u001b[1;33m(\u001b[0m\u001b[0mgetattr\u001b[0m\u001b[1;33m(\u001b[0m\u001b[0mclangs\u001b[0m\u001b[1;33m,\u001b[0m\u001b[1;34m\"display\"\u001b[0m\u001b[1;33m)\u001b[0m\u001b[1;33m)\u001b[0m\u001b[1;33m\u001b[0m\u001b[1;33m\u001b[0m\u001b[0m\n\u001b[0m",
      "\u001b[1;31mAttributeError\u001b[0m: 'CLanguage' object has no attribute 'display'"
     ]
    }
   ],
   "source": [
    "class CLanguage:\n",
    "    def __init__ (self):\n",
    "        self.name = \"C语言中文网\"\n",
    "        self.add = \"http://c.biancheng.net\"\n",
    "    def say(self):\n",
    "        print(\"我正在学Python\")\n",
    "clangs = CLanguage()\n",
    "print(getattr(clangs,\"name\"))\n",
    "print(getattr(clangs,\"add\"))\n",
    "print(getattr(clangs,\"say\"))\n",
    "print(getattr(clangs,\"display\",'nodisplay'))\n",
    "print(getattr(clangs,\"display\"))"
   ]
  },
  {
   "cell_type": "code",
   "execution_count": 32,
   "metadata": {},
   "outputs": [
    {
     "ename": "TypeError",
     "evalue": "setattr expected 3 arguments, got 2",
     "output_type": "error",
     "traceback": [
      "\u001b[1;31m---------------------------------------------------------------------------\u001b[0m",
      "\u001b[1;31mTypeError\u001b[0m                                 Traceback (most recent call last)",
      "\u001b[1;32m<ipython-input-32-1903b412374c>\u001b[0m in \u001b[0;36m<module>\u001b[1;34m\u001b[0m\n\u001b[0;32m      4\u001b[0m     \u001b[1;32mpass\u001b[0m\u001b[1;33m\u001b[0m\u001b[1;33m\u001b[0m\u001b[0m\n\u001b[0;32m      5\u001b[0m \u001b[0mclangs\u001b[0m \u001b[1;33m=\u001b[0m \u001b[0mCLanguage\u001b[0m\u001b[1;33m(\u001b[0m\u001b[1;33m)\u001b[0m\u001b[1;33m\u001b[0m\u001b[1;33m\u001b[0m\u001b[0m\n\u001b[1;32m----> 6\u001b[1;33m \u001b[0msetattr\u001b[0m\u001b[1;33m(\u001b[0m\u001b[0mclangs\u001b[0m\u001b[1;33m,\u001b[0m\u001b[1;34m\"name\"\u001b[0m\u001b[1;33m)\u001b[0m\u001b[1;33m\u001b[0m\u001b[1;33m\u001b[0m\u001b[0m\n\u001b[0m\u001b[0;32m      7\u001b[0m \u001b[0msetattr\u001b[0m\u001b[1;33m(\u001b[0m\u001b[0mclangs\u001b[0m\u001b[1;33m,\u001b[0m\u001b[1;34m\"say\"\u001b[0m\u001b[1;33m,\u001b[0m\u001b[0msay\u001b[0m\u001b[1;33m)\u001b[0m\u001b[1;33m\u001b[0m\u001b[1;33m\u001b[0m\u001b[0m\n\u001b[0;32m      8\u001b[0m \u001b[0mprint\u001b[0m\u001b[1;33m(\u001b[0m\u001b[0mclangs\u001b[0m\u001b[1;33m.\u001b[0m\u001b[0mname\u001b[0m\u001b[1;33m)\u001b[0m\u001b[1;33m\u001b[0m\u001b[1;33m\u001b[0m\u001b[0m\n",
      "\u001b[1;31mTypeError\u001b[0m: setattr expected 3 arguments, got 2"
     ]
    }
   ],
   "source": [
    "def say(self):\n",
    "    print(\"我正在学Python\")\n",
    "class CLanguage:\n",
    "    pass\n",
    "clangs = CLanguage()\n",
    "setattr(clangs,\"name\")\n",
    "setattr(clangs,\"say\",say)\n",
    "print(clangs.name)\n",
    "clangs.say(clangs)"
   ]
  },
  {
   "cell_type": "code",
   "execution_count": 37,
   "metadata": {},
   "outputs": [
    {
     "name": "stdout",
     "output_type": "stream",
     "text": [
      "我正在学Python\n",
      "None\n"
     ]
    }
   ],
   "source": [
    "def say(self):\n",
    "    print(\"我正在学Python\")\n",
    "\n",
    "print(say('swe'))"
   ]
  },
  {
   "cell_type": "code",
   "execution_count": 40,
   "metadata": {},
   "outputs": [
    {
     "name": "stdout",
     "output_type": "stream",
     "text": [
      "10\n",
      "into __getattr__\n",
      "can not find\n"
     ]
    }
   ],
   "source": [
    "class A(object):\n",
    "    def __init__(self, value):\n",
    "        self.value = value\n",
    "\n",
    "    def __getattr__(self, item):\n",
    "        print(\"into __getattr__\")\n",
    "        return \"can not find\"\n",
    "\n",
    "\n",
    "a = A(10)\n",
    "print(a.value)\n",
    "print(a.name)"
   ]
  },
  {
   "cell_type": "code",
   "execution_count": 42,
   "metadata": {},
   "outputs": [
    {
     "name": "stdout",
     "output_type": "stream",
     "text": [
      "{'name': 'Liu'}\n",
      "{'name': 'Liu', 'age': 12}\n",
      "{'name': 'Liu', 'age': 12, 'male': True}\n"
     ]
    }
   ],
   "source": [
    "class AnotherFun:\n",
    "    def __init__(self):\n",
    "        self.name = \"Liu\"\n",
    "        print(self.__dict__)\n",
    "        self.age = 12\n",
    "        print(self.__dict__)\n",
    "        self.male = True\n",
    "        print(self.__dict__)\n",
    "another_fun = AnotherFun()"
   ]
  },
  {
   "cell_type": "code",
   "execution_count": 46,
   "metadata": {},
   "outputs": [
    {
     "name": "stdout",
     "output_type": "stream",
     "text": [
      "**************************************************\n",
      "setting:name,  with:Liu\n",
      "current __dict__ : {'name': 'Liu'}\n",
      "**************************************************\n",
      "setting:age,  with:12\n",
      "current __dict__ : {'name': 'Liu', 'age': 12}\n",
      "**************************************************\n",
      "setting:male,  with:True\n",
      "current __dict__ : {'name': 'Liu', 'age': 12, 'male': True}\n"
     ]
    }
   ],
   "source": [
    "class Fun:\n",
    "    def __init__(self):\n",
    "        self.name = \"Liu\"\n",
    "        self.age = 12\n",
    "        self.male = True\n",
    "        \n",
    "    def __setattr__(self, key, value):\n",
    "        print(\"*\"*50)\n",
    "        print(\"setting:{},  with:{}\".format(key, value))\n",
    "        self.__dict__[key] = value\n",
    "        print(\"current __dict__ : {}\".format(self.__dict__))\n",
    "        # 属性注册\n",
    "        #self.__dict__[key] = value\n",
    "fun = Fun()  "
   ]
  },
  {
   "cell_type": "code",
   "execution_count": 47,
   "metadata": {},
   "outputs": [
    {
     "ename": "AttributeError",
     "evalue": "'NotFun' object has no attribute 'name'",
     "output_type": "error",
     "traceback": [
      "\u001b[1;31m---------------------------------------------------------------------------\u001b[0m",
      "\u001b[1;31mAttributeError\u001b[0m                            Traceback (most recent call last)",
      "\u001b[1;32m<ipython-input-47-6158d7aaef71>\u001b[0m in \u001b[0;36m<module>\u001b[1;34m\u001b[0m\n\u001b[0;32m      8\u001b[0m         \u001b[1;32mpass\u001b[0m\u001b[1;33m\u001b[0m\u001b[1;33m\u001b[0m\u001b[0m\n\u001b[0;32m      9\u001b[0m \u001b[0mnot_fun\u001b[0m \u001b[1;33m=\u001b[0m \u001b[0mNotFun\u001b[0m\u001b[1;33m(\u001b[0m\u001b[1;33m)\u001b[0m\u001b[1;33m\u001b[0m\u001b[1;33m\u001b[0m\u001b[0m\n\u001b[1;32m---> 10\u001b[1;33m \u001b[0mprint\u001b[0m\u001b[1;33m(\u001b[0m\u001b[0mnot_fun\u001b[0m\u001b[1;33m.\u001b[0m\u001b[0mname\u001b[0m\u001b[1;33m)\u001b[0m\u001b[1;33m\u001b[0m\u001b[1;33m\u001b[0m\u001b[0m\n\u001b[0m",
      "\u001b[1;31mAttributeError\u001b[0m: 'NotFun' object has no attribute 'name'"
     ]
    }
   ],
   "source": [
    "class NotFun:\n",
    "    def __init__(self):\n",
    "        self.name = \"Liu\"\n",
    "        self.age = 12\n",
    "        self.male = True\n",
    "    \n",
    "    def __setattr__(self, key, value):\n",
    "        pass\n",
    "not_fun = NotFun()\n",
    "print(not_fun.name)"
   ]
  },
  {
   "cell_type": "code",
   "execution_count": 51,
   "metadata": {},
   "outputs": [
    {
     "name": "stdout",
     "output_type": "stream",
     "text": [
      "大树\n",
      "plant\n"
     ]
    }
   ],
   "source": [
    "class Tree(object):\n",
    "    def __init__(self,name):\n",
    "        self.name = name\n",
    "        self.cate = \"plant\"\n",
    "    def __getattribute__(self,*args,**kwargs):\n",
    "        if args[0] == \"大树\":\n",
    "            print(\"log 大树\")\n",
    "            return \"我爱大树\"\n",
    "        else:\n",
    "            return object.__getattribute__(self,*args,**kwargs)\n",
    "aa = Tree(\"大树\")\n",
    "print(aa.name)\n",
    "print(aa.cate)"
   ]
  },
  {
   "cell_type": "code",
   "execution_count": 53,
   "metadata": {},
   "outputs": [
    {
     "name": "stdout",
     "output_type": "stream",
     "text": [
      "大树\n",
      "plant\n"
     ]
    }
   ],
   "source": [
    "class Tree(object):\n",
    "    def __init__(self,name):\n",
    "        self.name = name\n",
    "        self.cate = \"plant\"\n",
    "    def __getattribute__(self,*args,**kwargs):\n",
    "        if args[0] == \"大树\":\n",
    "            print(\"log 大树\")\n",
    "            return \"我爱大树\"\n",
    "        else:\n",
    "            return object.__getattribute__(self,*args,**kwargs)\n",
    "aa = Tree(\"大树\")\n",
    "print(aa.name)\n",
    "print(aa.cate)"
   ]
  },
  {
   "cell_type": "code",
   "execution_count": 60,
   "metadata": {},
   "outputs": [
    {
     "name": "stdout",
     "output_type": "stream",
     "text": [
      "哈哈\n",
      "大树\n",
      "哈哈\n",
      "plant\n"
     ]
    }
   ],
   "source": [
    "class Tree(object):\n",
    "    def __init__(self,name):\n",
    "        self.name = name\n",
    "        self.cate = \"plant\"\n",
    "    def __getattribute__(self,obj):\n",
    "        print(\"哈哈\")\n",
    "        return object.__getattribute__(self,obj)\n",
    "aa = Tree(\"大树\")\n",
    "print(aa.name)\n",
    "print(aa.cate)"
   ]
  },
  {
   "cell_type": "code",
   "execution_count": 5,
   "metadata": {},
   "outputs": [
    {
     "name": "stdout",
     "output_type": "stream",
     "text": [
      "('name',)\n",
      "{}\n",
      "log tree\n",
      "I love tree\n",
      "('cate',)\n",
      "{}\n",
      "plant\n"
     ]
    }
   ],
   "source": [
    "class Tree(object):\n",
    "    def __init__(self,name):\n",
    "        self.name = name\n",
    "        self.cate = \"plant\"\n",
    "    def __getattribute__(self,*args,**kwargs):\n",
    "        #print(\"start:\")\n",
    "        print(args)\n",
    "        print(kwargs)\n",
    "        if args[0] == \"name\":\n",
    "            print(\"log tree\")\n",
    "            return \"I love tree\"\n",
    "        else:\n",
    "            return object.__getattribute__(self,*args,**kwargs)\n",
    "aa = Tree(\"tree\")\n",
    "print(aa.name)\n",
    "print(aa.cate)"
   ]
  },
  {
   "cell_type": "code",
   "execution_count": 1,
   "metadata": {},
   "outputs": [
    {
     "data": {
      "text/plain": [
       "2"
      ]
     },
     "execution_count": 1,
     "metadata": {},
     "output_type": "execute_result"
    }
   ],
   "source": [
    "1 + 1"
   ]
  },
  {
   "cell_type": "code",
   "execution_count": 19,
   "metadata": {},
   "outputs": [
    {
     "ename": "RecursionError",
     "evalue": "maximum recursion depth exceeded while calling a Python object",
     "output_type": "error",
     "traceback": [
      "\u001b[1;31m---------------------------------------------------------------------------\u001b[0m",
      "\u001b[1;31mRecursionError\u001b[0m                            Traceback (most recent call last)",
      "\u001b[1;32m<ipython-input-19-c1f184b89d62>\u001b[0m in \u001b[0;36m<module>\u001b[1;34m\u001b[0m\n\u001b[0;32m     14\u001b[0m \u001b[0maa\u001b[0m \u001b[1;33m=\u001b[0m \u001b[0mTree\u001b[0m\u001b[1;33m(\u001b[0m\u001b[1;34m\"大树\"\u001b[0m\u001b[1;33m)\u001b[0m\u001b[1;33m\u001b[0m\u001b[1;33m\u001b[0m\u001b[0m\n\u001b[0;32m     15\u001b[0m \u001b[1;31m#print(aa.cate)#因为name是以e结尾，所以返回的还是name，所以打印出\"大树\"\u001b[0m\u001b[1;33m\u001b[0m\u001b[1;33m\u001b[0m\u001b[1;33m\u001b[0m\u001b[0m\n\u001b[1;32m---> 16\u001b[1;33m \u001b[0mprint\u001b[0m\u001b[1;33m(\u001b[0m\u001b[0maa\u001b[0m\u001b[1;33m.\u001b[0m\u001b[0mcatm\u001b[0m\u001b[1;33m)\u001b[0m\u001b[1;33m\u001b[0m\u001b[1;33m\u001b[0m\u001b[0m\n\u001b[0m",
      "\u001b[1;32m<ipython-input-19-c1f184b89d62>\u001b[0m in \u001b[0;36m__getattribute__\u001b[1;34m(self, obj)\u001b[0m\n\u001b[0;32m      9\u001b[0m             \u001b[1;32mreturn\u001b[0m \u001b[0mobject\u001b[0m\u001b[1;33m.\u001b[0m\u001b[0m__getattribute__\u001b[0m\u001b[1;33m(\u001b[0m\u001b[0mself\u001b[0m\u001b[1;33m,\u001b[0m\u001b[0mobj\u001b[0m\u001b[1;33m)\u001b[0m\u001b[1;33m\u001b[0m\u001b[1;33m\u001b[0m\u001b[0m\n\u001b[0;32m     10\u001b[0m         \u001b[1;32melse\u001b[0m\u001b[1;33m:\u001b[0m\u001b[1;33m\u001b[0m\u001b[1;33m\u001b[0m\u001b[0m\n\u001b[1;32m---> 11\u001b[1;33m             \u001b[1;32mreturn\u001b[0m \u001b[0mself\u001b[0m\u001b[1;33m.\u001b[0m\u001b[0mcall_wind\u001b[0m\u001b[1;33m(\u001b[0m\u001b[1;33m)\u001b[0m\u001b[1;33m\u001b[0m\u001b[1;33m\u001b[0m\u001b[0m\n\u001b[0m\u001b[0;32m     12\u001b[0m     \u001b[1;32mdef\u001b[0m \u001b[0mcall_wind\u001b[0m\u001b[1;33m(\u001b[0m\u001b[0mself\u001b[0m\u001b[1;33m)\u001b[0m\u001b[1;33m:\u001b[0m\u001b[1;33m\u001b[0m\u001b[1;33m\u001b[0m\u001b[0m\n\u001b[0;32m     13\u001b[0m         \u001b[1;32mreturn\u001b[0m \u001b[1;34m\"mke\"\u001b[0m\u001b[1;33m\u001b[0m\u001b[1;33m\u001b[0m\u001b[0m\n",
      "... last 1 frames repeated, from the frame below ...\n",
      "\u001b[1;32m<ipython-input-19-c1f184b89d62>\u001b[0m in \u001b[0;36m__getattribute__\u001b[1;34m(self, obj)\u001b[0m\n\u001b[0;32m      9\u001b[0m             \u001b[1;32mreturn\u001b[0m \u001b[0mobject\u001b[0m\u001b[1;33m.\u001b[0m\u001b[0m__getattribute__\u001b[0m\u001b[1;33m(\u001b[0m\u001b[0mself\u001b[0m\u001b[1;33m,\u001b[0m\u001b[0mobj\u001b[0m\u001b[1;33m)\u001b[0m\u001b[1;33m\u001b[0m\u001b[1;33m\u001b[0m\u001b[0m\n\u001b[0;32m     10\u001b[0m         \u001b[1;32melse\u001b[0m\u001b[1;33m:\u001b[0m\u001b[1;33m\u001b[0m\u001b[1;33m\u001b[0m\u001b[0m\n\u001b[1;32m---> 11\u001b[1;33m             \u001b[1;32mreturn\u001b[0m \u001b[0mself\u001b[0m\u001b[1;33m.\u001b[0m\u001b[0mcall_wind\u001b[0m\u001b[1;33m(\u001b[0m\u001b[1;33m)\u001b[0m\u001b[1;33m\u001b[0m\u001b[1;33m\u001b[0m\u001b[0m\n\u001b[0m\u001b[0;32m     12\u001b[0m     \u001b[1;32mdef\u001b[0m \u001b[0mcall_wind\u001b[0m\u001b[1;33m(\u001b[0m\u001b[0mself\u001b[0m\u001b[1;33m)\u001b[0m\u001b[1;33m:\u001b[0m\u001b[1;33m\u001b[0m\u001b[1;33m\u001b[0m\u001b[0m\n\u001b[0;32m     13\u001b[0m         \u001b[1;32mreturn\u001b[0m \u001b[1;34m\"mke\"\u001b[0m\u001b[1;33m\u001b[0m\u001b[1;33m\u001b[0m\u001b[0m\n",
      "\u001b[1;31mRecursionError\u001b[0m: maximum recursion depth exceeded while calling a Python object"
     ]
    }
   ],
   "source": [
    "class Tree(object):\n",
    "    def __init__(self,name):\n",
    "        self.name = name\n",
    "        self.cate = \"plane\"\n",
    "    def __getattribute__(self,obj):\n",
    "        #print(obj)\n",
    "        #print(type(obj))\n",
    "        if obj.endswith(\"e\"):\n",
    "            return object.__getattribute__(self,obj)\n",
    "        else:\n",
    "            return self.call_wind()\n",
    "    def call_wind(self):\n",
    "        return \"mke\"\n",
    "aa = Tree(\"大树\")\n",
    "#print(aa.cate)#因为name是以e结尾，所以返回的还是name，所以打印出\"大树\"\n",
    "print(aa.catm)"
   ]
  },
  {
   "cell_type": "code",
   "execution_count": 20,
   "metadata": {},
   "outputs": [
    {
     "name": "stdout",
     "output_type": "stream",
     "text": [
      "['__class__', '__delattr__', '__dict__', '__dir__', '__doc__', '__eq__', '__format__', '__ge__', '__getattribute__', '__gt__', '__hash__', '__init__', '__init_subclass__', '__le__', '__lt__', '__module__', '__ne__', '__new__', '__reduce__', '__reduce_ex__', '__repr__', '__setattr__', '__sizeof__', '__str__', '__subclasshook__', '__weakref__', 'add', 'name', 'say']\n"
     ]
    }
   ],
   "source": [
    "class CLanguage:\n",
    "    def __init__ (self,):\n",
    "        self.name = \"C语言中文网\"\n",
    "        self.add = \"http://c.biancheng.net\"\n",
    "    def say():\n",
    "        pass\n",
    "clangs = CLanguage()\n",
    "print(dir(clangs))\n"
   ]
  },
  {
   "cell_type": "code",
   "execution_count": 21,
   "metadata": {},
   "outputs": [
    {
     "name": "stdout",
     "output_type": "stream",
     "text": [
      "['name', 'add', '__module__', '__init__', 'say', '__dict__', '__weakref__', '__doc__', '__repr__', '__hash__', '__str__', '__getattribute__', '__setattr__', '__delattr__', '__lt__', '__le__', '__eq__', '__ne__', '__gt__', '__ge__', '__new__', '__reduce_ex__', '__reduce__', '__subclasshook__', '__init_subclass__', '__format__', '__sizeof__', '__dir__', '__class__']\n"
     ]
    }
   ],
   "source": [
    "class CLanguage:\n",
    "    def __init__ (self,):\n",
    "        self.name = \"C语言中文网\"\n",
    "        self.add = \"http://c.biancheng.net\"\n",
    "    def say():\n",
    "        pass\n",
    "clangs = CLanguage()\n",
    "print(clangs.__dir__())"
   ]
  },
  {
   "cell_type": "code",
   "execution_count": 27,
   "metadata": {},
   "outputs": [
    {
     "name": "stdout",
     "output_type": "stream",
     "text": [
      "哈哈\n",
      "大树\n",
      "哈哈\n",
      "plant\n",
      "哈哈\n",
      "I say something\n",
      "hhh\n"
     ]
    }
   ],
   "source": [
    "class Tree(object):\n",
    "    def __init__(self,name):\n",
    "        self.name = name\n",
    "        self.cate = \"plant\"\n",
    "    def __getattribute__(self,obj):\n",
    "        print(\"哈哈\")\n",
    "        return object.__getattribute__(self,obj)\n",
    "    def say(self):\n",
    "        print(\"I say something\")\n",
    "        return \"hhh\"\n",
    "aa = Tree(\"大树\")\n",
    "print(aa.name)\n",
    "print(aa.cate)\n",
    "print(aa.say())"
   ]
  },
  {
   "cell_type": "code",
   "execution_count": 28,
   "metadata": {},
   "outputs": [],
   "source": [
    "class Foo: #在python3中Foo是新式类,它实现了三种方法,这个类就被称作一个描述符\n",
    "    def __get__(self, instance, owner):\n",
    "        pass\n",
    "    def __set__(self, instance, value):\n",
    "        pass\n",
    "    def __delete__(self, instance):\n",
    "        pass"
   ]
  },
  {
   "cell_type": "code",
   "execution_count": 29,
   "metadata": {},
   "outputs": [],
   "source": [
    "class Foo:\n",
    "    def __get__(self, instance, owner):\n",
    "        print('触发get')\n",
    "    def __set__(self, instance, value):\n",
    "        print('触发set')\n",
    "    def __delete__(self, instance):\n",
    "        print('触发delete')\n",
    " \n",
    "#包含这三个方法的新式类称为描述符,由这个类产生的实例进行属性的调用/赋值/删除,并不会触发这三个方法\n",
    "f1=Foo()\n",
    "f1.name='egon'\n",
    "f1.name\n",
    "del f1.name"
   ]
  },
  {
   "cell_type": "code",
   "execution_count": 36,
   "metadata": {},
   "outputs": [
    {
     "name": "stdout",
     "output_type": "stream",
     "text": [
      "Str设置...\n",
      "<__main__.People object at 0x000002D3B893CA20> long\n",
      "Str调用\n",
      "<__main__.People object at 0x000002D3B893CA20> <class '__main__.People'>\n",
      "Str设置...\n",
      "<__main__.People object at 0x000002D3B893CA20> sss\n",
      "Str删除...\n",
      "<__main__.People object at 0x000002D3B893CA20>\n",
      "{}\n",
      "{'__module__': '__main__', 'name': <__main__.Str object at 0x000002D3B893C9E8>, '__init__': <function People.__init__ at 0x000002D3B8948268>, '__dict__': <attribute '__dict__' of 'People' objects>, '__weakref__': <attribute '__weakref__' of 'People' objects>, '__doc__': None}\n"
     ]
    }
   ],
   "source": [
    "#描述符Str\n",
    "# 该描述符的作用是为另外一个类的类属性进行服务,另外一个类就是描述符的对象\n",
    "class Str:\n",
    "    def __get__(self, instance, owner):\n",
    "        print('Str调用')\n",
    "        print(instance, owner)\n",
    "    def __set__(self, instance, value):\n",
    "        print('Str设置...')\n",
    "        print(instance,value)\n",
    "    def __delete__(self, instance):\n",
    "        print('Str删除...')\n",
    "        print(instance)\n",
    " \n",
    " \n",
    "class People:\n",
    "    name = Str()  # name 属性被代理,将这个类作用于另外一个类的属性来使用\n",
    " \n",
    "    def __init__(self,name): #name被Str类代理\n",
    "        self.name = name\n",
    " \n",
    "p1 = People('long')\n",
    " \n",
    "# 描述符Str的使用\n",
    "p1.name\n",
    "p1.name = 'sss'\n",
    "del p1.name\n",
    " \n",
    "print(p1.__dict__)\n",
    "print(People.__dict__)"
   ]
  },
  {
   "cell_type": "code",
   "execution_count": 38,
   "metadata": {},
   "outputs": [
    {
     "name": "stdout",
     "output_type": "stream",
     "text": [
      "set方法\n",
      "{'name': 'asd', 'age': 18, 'salary': 330}\n",
      "-----------------\n",
      "set方法\n",
      "{'name': 'log', 'age': 18, 'salary': 330}\n",
      "------------------\n",
      "get方法\n",
      "log\n",
      "------------------\n",
      "delete方法\n",
      "{'age': 18, 'salary': 330}\n",
      "set方法\n"
     ]
    },
    {
     "ename": "TypeError",
     "evalue": "你传入的值不是字符类型",
     "output_type": "error",
     "traceback": [
      "\u001b[1;31m---------------------------------------------------------------------------\u001b[0m",
      "\u001b[1;31mTypeError\u001b[0m                                 Traceback (most recent call last)",
      "\u001b[1;32m<ipython-input-38-bf09c95a36bb>\u001b[0m in \u001b[0;36m<module>\u001b[1;34m\u001b[0m\n\u001b[0;32m     42\u001b[0m \u001b[1;32mdel\u001b[0m \u001b[0mp1\u001b[0m\u001b[1;33m.\u001b[0m\u001b[0mname\u001b[0m\u001b[1;33m\u001b[0m\u001b[1;33m\u001b[0m\u001b[0m\n\u001b[0;32m     43\u001b[0m \u001b[0mprint\u001b[0m\u001b[1;33m(\u001b[0m\u001b[0mp1\u001b[0m\u001b[1;33m.\u001b[0m\u001b[0m__dict__\u001b[0m\u001b[1;33m)\u001b[0m\u001b[1;33m\u001b[0m\u001b[1;33m\u001b[0m\u001b[0m\n\u001b[1;32m---> 44\u001b[1;33m \u001b[0mp2\u001b[0m \u001b[1;33m=\u001b[0m \u001b[0mPeople\u001b[0m\u001b[1;33m(\u001b[0m\u001b[1;36m321\u001b[0m\u001b[1;33m,\u001b[0m\u001b[1;36m18\u001b[0m\u001b[1;33m,\u001b[0m\u001b[1;36m330\u001b[0m\u001b[1;33m)\u001b[0m\u001b[1;33m\u001b[0m\u001b[1;33m\u001b[0m\u001b[0m\n\u001b[0m",
      "\u001b[1;32m<ipython-input-38-bf09c95a36bb>\u001b[0m in \u001b[0;36m__init__\u001b[1;34m(self, name, age, salary)\u001b[0m\n\u001b[0;32m     27\u001b[0m     \u001b[0mname\u001b[0m \u001b[1;33m=\u001b[0m \u001b[0mTyped\u001b[0m\u001b[1;33m(\u001b[0m\u001b[1;34m'name'\u001b[0m\u001b[1;33m)\u001b[0m  \u001b[1;31m# 代理类\u001b[0m\u001b[1;33m\u001b[0m\u001b[1;33m\u001b[0m\u001b[0m\n\u001b[0;32m     28\u001b[0m     \u001b[1;32mdef\u001b[0m \u001b[0m__init__\u001b[0m\u001b[1;33m(\u001b[0m\u001b[0mself\u001b[0m\u001b[1;33m,\u001b[0m\u001b[0mname\u001b[0m\u001b[1;33m,\u001b[0m\u001b[0mage\u001b[0m\u001b[1;33m,\u001b[0m\u001b[0msalary\u001b[0m\u001b[1;33m)\u001b[0m\u001b[1;33m:\u001b[0m\u001b[1;33m\u001b[0m\u001b[1;33m\u001b[0m\u001b[0m\n\u001b[1;32m---> 29\u001b[1;33m         \u001b[0mself\u001b[0m\u001b[1;33m.\u001b[0m\u001b[0mname\u001b[0m \u001b[1;33m=\u001b[0m \u001b[0mname\u001b[0m\u001b[1;33m\u001b[0m\u001b[1;33m\u001b[0m\u001b[0m\n\u001b[0m\u001b[0;32m     30\u001b[0m         \u001b[0mself\u001b[0m\u001b[1;33m.\u001b[0m\u001b[0mage\u001b[0m \u001b[1;33m=\u001b[0m \u001b[0mage\u001b[0m\u001b[1;33m\u001b[0m\u001b[1;33m\u001b[0m\u001b[0m\n\u001b[0;32m     31\u001b[0m         \u001b[0mself\u001b[0m\u001b[1;33m.\u001b[0m\u001b[0msalary\u001b[0m \u001b[1;33m=\u001b[0m \u001b[0msalary\u001b[0m\u001b[1;33m\u001b[0m\u001b[1;33m\u001b[0m\u001b[0m\n",
      "\u001b[1;32m<ipython-input-38-bf09c95a36bb>\u001b[0m in \u001b[0;36m__set__\u001b[1;34m(self, instance, value)\u001b[0m\n\u001b[0;32m     16\u001b[0m         \u001b[1;31m# print('value参数：%s'%value)\u001b[0m\u001b[1;33m\u001b[0m\u001b[1;33m\u001b[0m\u001b[1;33m\u001b[0m\u001b[0m\n\u001b[0;32m     17\u001b[0m         \u001b[1;32mif\u001b[0m \u001b[1;32mnot\u001b[0m \u001b[0misinstance\u001b[0m\u001b[1;33m(\u001b[0m\u001b[0mvalue\u001b[0m\u001b[1;33m,\u001b[0m\u001b[0mstr\u001b[0m\u001b[1;33m)\u001b[0m\u001b[1;33m:\u001b[0m\u001b[1;33m\u001b[0m\u001b[1;33m\u001b[0m\u001b[0m\n\u001b[1;32m---> 18\u001b[1;33m             \u001b[1;32mraise\u001b[0m \u001b[0mTypeError\u001b[0m\u001b[1;33m(\u001b[0m\u001b[1;34m'你传入的值不是字符类型'\u001b[0m\u001b[1;33m)\u001b[0m\u001b[1;33m\u001b[0m\u001b[1;33m\u001b[0m\u001b[0m\n\u001b[0m\u001b[0;32m     19\u001b[0m         \u001b[0minstance\u001b[0m\u001b[1;33m.\u001b[0m\u001b[0m__dict__\u001b[0m\u001b[1;33m[\u001b[0m\u001b[0mself\u001b[0m\u001b[1;33m.\u001b[0m\u001b[0mkey\u001b[0m\u001b[1;33m]\u001b[0m \u001b[1;33m=\u001b[0m \u001b[0mvalue\u001b[0m\u001b[1;33m\u001b[0m\u001b[1;33m\u001b[0m\u001b[0m\n\u001b[0;32m     20\u001b[0m \u001b[1;33m\u001b[0m\u001b[0m\n",
      "\u001b[1;31mTypeError\u001b[0m: 你传入的值不是字符类型"
     ]
    }
   ],
   "source": [
    "#描述符\n",
    "class Typed:\n",
    "    def __init__(self,key):\n",
    "        self.key = key\n",
    " \n",
    "    def __get__(self, instance, owner):\n",
    "        print('get方法')\n",
    "        # print('instance参数：%s'%instance) # People object\n",
    "        # print('owner参数：%s'%owner)\n",
    "        return instance.__dict__[self.key]\n",
    " \n",
    "    def __set__(self, instance, value):\n",
    "        # 代理的好处:可以对传进来的值进行下一步判断\n",
    "        print('set方法')\n",
    "        # print('instance参数：%s'%instance) # People Object\n",
    "        # print('value参数：%s'%value)\n",
    "        if not isinstance(value,str):\n",
    "            raise TypeError('你传入的值不是字符类型')\n",
    "        instance.__dict__[self.key] = value\n",
    " \n",
    "    def __delete__(self, instance):\n",
    "        print('delete方法')\n",
    "        # print('instance参数：%s'%instance) # People object\n",
    "        instance.__dict__.pop(self.key)\n",
    " \n",
    "class People:\n",
    "    name = Typed('name')  # 代理类\n",
    "    def __init__(self,name,age,salary):\n",
    "        self.name = name\n",
    "        self.age = age\n",
    "        self.salary = salary\n",
    " \n",
    "p1 = People('asd',18,330)  # (数据描述符>实例)创建实例时，触发__set__\n",
    "print(p1.__dict__)\n",
    "print('-----------------')\n",
    "p1.name = 'log'\n",
    "print(p1.__dict__)\n",
    "print('------------------')\n",
    "name = p1.name\n",
    "print(name)\n",
    "print('------------------')\n",
    "del p1.name\n",
    "print(p1.__dict__)\n",
    "p2 = People(321,18,330)"
   ]
  },
  {
   "cell_type": "code",
   "execution_count": 39,
   "metadata": {},
   "outputs": [
    {
     "name": "stdout",
     "output_type": "stream",
     "text": [
      "set方法\n",
      "set方法\n"
     ]
    },
    {
     "ename": "TypeError",
     "evalue": "18不是<class 'int'>",
     "output_type": "error",
     "traceback": [
      "\u001b[1;31m---------------------------------------------------------------------------\u001b[0m",
      "\u001b[1;31mTypeError\u001b[0m                                 Traceback (most recent call last)",
      "\u001b[1;32m<ipython-input-39-da863a7d5b90>\u001b[0m in \u001b[0;36m<module>\u001b[1;34m\u001b[0m\n\u001b[0;32m     35\u001b[0m \u001b[1;33m\u001b[0m\u001b[0m\n\u001b[0;32m     36\u001b[0m \u001b[1;31m# ----------------------3 多个值进行判断-------------------\u001b[0m\u001b[1;33m\u001b[0m\u001b[1;33m\u001b[0m\u001b[1;33m\u001b[0m\u001b[0m\n\u001b[1;32m---> 37\u001b[1;33m \u001b[0mp1\u001b[0m \u001b[1;33m=\u001b[0m \u001b[0mPeople\u001b[0m\u001b[1;33m(\u001b[0m\u001b[1;34m'long'\u001b[0m\u001b[1;33m,\u001b[0m\u001b[1;34m'18'\u001b[0m\u001b[1;33m,\u001b[0m\u001b[1;36m2000\u001b[0m\u001b[1;33m)\u001b[0m\u001b[1;33m\u001b[0m\u001b[1;33m\u001b[0m\u001b[0m\n\u001b[0m",
      "\u001b[1;32m<ipython-input-39-da863a7d5b90>\u001b[0m in \u001b[0;36m__init__\u001b[1;34m(self, name, age, salary)\u001b[0m\n\u001b[0;32m     30\u001b[0m     \u001b[1;32mdef\u001b[0m \u001b[0m__init__\u001b[0m\u001b[1;33m(\u001b[0m\u001b[0mself\u001b[0m\u001b[1;33m,\u001b[0m\u001b[0mname\u001b[0m\u001b[1;33m,\u001b[0m\u001b[0mage\u001b[0m\u001b[1;33m,\u001b[0m\u001b[0msalary\u001b[0m\u001b[1;33m)\u001b[0m\u001b[1;33m:\u001b[0m\u001b[1;33m\u001b[0m\u001b[1;33m\u001b[0m\u001b[0m\n\u001b[0;32m     31\u001b[0m         \u001b[0mself\u001b[0m\u001b[1;33m.\u001b[0m\u001b[0mname\u001b[0m \u001b[1;33m=\u001b[0m \u001b[0mname\u001b[0m\u001b[1;33m\u001b[0m\u001b[1;33m\u001b[0m\u001b[0m\n\u001b[1;32m---> 32\u001b[1;33m         \u001b[0mself\u001b[0m\u001b[1;33m.\u001b[0m\u001b[0mage\u001b[0m \u001b[1;33m=\u001b[0m \u001b[0mage\u001b[0m\u001b[1;33m\u001b[0m\u001b[1;33m\u001b[0m\u001b[0m\n\u001b[0m\u001b[0;32m     33\u001b[0m         \u001b[0mself\u001b[0m\u001b[1;33m.\u001b[0m\u001b[0msalary\u001b[0m \u001b[1;33m=\u001b[0m \u001b[0msalary\u001b[0m\u001b[1;33m\u001b[0m\u001b[1;33m\u001b[0m\u001b[0m\n\u001b[0;32m     34\u001b[0m \u001b[1;33m\u001b[0m\u001b[0m\n",
      "\u001b[1;32m<ipython-input-39-da863a7d5b90>\u001b[0m in \u001b[0;36m__set__\u001b[1;34m(self, instance, value)\u001b[0m\n\u001b[0;32m     16\u001b[0m         \u001b[1;31m# print('value参数：%s'%value)\u001b[0m\u001b[1;33m\u001b[0m\u001b[1;33m\u001b[0m\u001b[1;33m\u001b[0m\u001b[0m\n\u001b[0;32m     17\u001b[0m         \u001b[1;32mif\u001b[0m \u001b[1;32mnot\u001b[0m \u001b[0misinstance\u001b[0m\u001b[1;33m(\u001b[0m\u001b[0mvalue\u001b[0m\u001b[1;33m,\u001b[0m\u001b[0mself\u001b[0m\u001b[1;33m.\u001b[0m\u001b[0mkey_type\u001b[0m\u001b[1;33m)\u001b[0m\u001b[1;33m:\u001b[0m\u001b[1;33m\u001b[0m\u001b[1;33m\u001b[0m\u001b[0m\n\u001b[1;32m---> 18\u001b[1;33m             \u001b[1;32mraise\u001b[0m \u001b[0mTypeError\u001b[0m\u001b[1;33m(\u001b[0m\u001b[1;34m'%s不是%s'\u001b[0m\u001b[1;33m%\u001b[0m\u001b[1;33m(\u001b[0m\u001b[0mvalue\u001b[0m\u001b[1;33m,\u001b[0m\u001b[0mself\u001b[0m\u001b[1;33m.\u001b[0m\u001b[0mkey_type\u001b[0m\u001b[1;33m)\u001b[0m\u001b[1;33m)\u001b[0m\u001b[1;33m\u001b[0m\u001b[1;33m\u001b[0m\u001b[0m\n\u001b[0m\u001b[0;32m     19\u001b[0m \u001b[1;33m\u001b[0m\u001b[0m\n\u001b[0;32m     20\u001b[0m         \u001b[0minstance\u001b[0m\u001b[1;33m.\u001b[0m\u001b[0m__dict__\u001b[0m\u001b[1;33m[\u001b[0m\u001b[0mself\u001b[0m\u001b[1;33m.\u001b[0m\u001b[0mkey\u001b[0m\u001b[1;33m]\u001b[0m \u001b[1;33m=\u001b[0m \u001b[0mvalue\u001b[0m\u001b[1;33m\u001b[0m\u001b[1;33m\u001b[0m\u001b[0m\n",
      "\u001b[1;31mTypeError\u001b[0m: 18不是<class 'int'>"
     ]
    }
   ],
   "source": [
    "#描述符\n",
    "class Typed:\n",
    "    def __init__(self,key,key_type):\n",
    "        self.key = key\n",
    "        self.key_type = key_type\n",
    "    def __get__(self, instance, owner):\n",
    "        print('get方法')\n",
    "        # print('instance参数：%s'%instance) # People object\n",
    "        # print('owner参数：%s'%owner)\n",
    "        return instance.__dict__[self.key]\n",
    " \n",
    "    def __set__(self, instance, value):\n",
    "        # 代理的好处:可以对传进来的值进行下一步判断\n",
    "        print('set方法')\n",
    "        # print('instance参数：%s'%instance) # People Object\n",
    "        # print('value参数：%s'%value)\n",
    "        if not isinstance(value,self.key_type):\n",
    "            raise TypeError('%s不是%s'%(value,self.key_type))\n",
    " \n",
    "        instance.__dict__[self.key] = value\n",
    " \n",
    "    def __delete__(self, instance):\n",
    "        print('delete方法')\n",
    "        # print('instance参数：%s'%instance) # People object\n",
    "        instance.__dict__.pop(self.key)\n",
    " \n",
    "class People:\n",
    "    name = Typed('name',str)  # 代理类\n",
    "    age = Typed('age',int)\n",
    "    def __init__(self,name,age,salary):\n",
    "        self.name = name\n",
    "        self.age = age\n",
    "        self.salary = salary\n",
    " \n",
    " \n",
    "# ----------------------3 多个值进行判断-------------------\n",
    "p1 = People('long','18',2000)\n"
   ]
  },
  {
   "cell_type": "code",
   "execution_count": 40,
   "metadata": {},
   "outputs": [
    {
     "ename": "NameError",
     "evalue": "name 'unicode' is not defined",
     "output_type": "error",
     "traceback": [
      "\u001b[1;31m---------------------------------------------------------------------------\u001b[0m",
      "\u001b[1;31mNameError\u001b[0m                                 Traceback (most recent call last)",
      "\u001b[1;32m<ipython-input-40-107f6b66eebb>\u001b[0m in \u001b[0;36m<module>\u001b[1;34m\u001b[0m\n\u001b[0;32m      5\u001b[0m                 \u001b[1;32mreturn\u001b[0m \u001b[1;34mf\"the value is {self.a}\"\u001b[0m\u001b[1;33m\u001b[0m\u001b[1;33m\u001b[0m\u001b[0m\n\u001b[0;32m      6\u001b[0m \u001b[1;33m\u001b[0m\u001b[0m\n\u001b[1;32m----> 7\u001b[1;33m \u001b[0mprint\u001b[0m\u001b[1;33m(\u001b[0m\u001b[0municode\u001b[0m\u001b[1;33m(\u001b[0m\u001b[0mDemo\u001b[0m\u001b[1;33m(\u001b[0m\u001b[1;33m)\u001b[0m\u001b[1;33m)\u001b[0m\u001b[1;33m)\u001b[0m\u001b[1;33m\u001b[0m\u001b[1;33m\u001b[0m\u001b[0m\n\u001b[0m",
      "\u001b[1;31mNameError\u001b[0m: name 'unicode' is not defined"
     ]
    }
   ],
   "source": [
    "class Demo(object):\n",
    "        def __init__(self):\n",
    "                self.a = 1\n",
    "        def __unicode__(self):\n",
    "                return f\"the value is {self.a}\"\n",
    "\n",
    "print(unicode(Demo()))"
   ]
  },
  {
   "cell_type": "code",
   "execution_count": 41,
   "metadata": {},
   "outputs": [
    {
     "name": "stdout",
     "output_type": "stream",
     "text": [
      "你正在删除一个属性\n",
      "100\n",
      "'MyClass' object has no attribute 'work'\n"
     ]
    }
   ],
   "source": [
    "class MyClass:\n",
    "    def __init__(self, work, score):\n",
    "        self.work = work\n",
    "        self.score = score\n",
    "    def __delattr__(self, name):\n",
    "        print(\"你正在删除一个属性\")\n",
    "        return super().__delattr__(name)\n",
    "\n",
    "def main():\n",
    "    test = MyClass(work=\"math\", score=100)\n",
    "    # 删除work属性\n",
    "    del test.work\n",
    "    # work属性删除,score属性还在\n",
    "    print(test.score)\n",
    "    try:\n",
    "        print(test.work)\n",
    "    except AttributeError as reason:\n",
    "        print(reason)\n",
    "\n",
    "if __name__ == '__main__':\n",
    "    main()"
   ]
  },
  {
   "cell_type": "code",
   "execution_count": 43,
   "metadata": {},
   "outputs": [
    {
     "name": "stdout",
     "output_type": "stream",
     "text": [
      "调用 __init__() 方法构造对象\n",
      "调用__del__() 销毁对象，释放其空间\n",
      "***********\n"
     ]
    }
   ],
   "source": [
    "class CLanguage:\n",
    "    def __init__(self):\n",
    "        print(\"调用 __init__() 方法构造对象\")\n",
    "    def __del__(self):\n",
    "        print(\"调用__del__() 销毁对象，释放其空间\")\n",
    "clangs = CLanguage()\n",
    "#添加一个引用clangs对象的实例对象\n",
    "cl = clangs\n",
    "del clangs\n",
    "print(\"***********\")"
   ]
  },
  {
   "cell_type": "code",
   "execution_count": 45,
   "metadata": {},
   "outputs": [
    {
     "name": "stdout",
     "output_type": "stream",
     "text": [
      "调用 __init__() 方法构造对象\n",
      "***********\n",
      "调用__del__() 销毁对象，释放其空间\n",
      "-----------\n"
     ]
    }
   ],
   "source": [
    "class CLanguage:\n",
    "    def __init__(self):\n",
    "        print(\"调用 __init__() 方法构造对象\")\n",
    "    def __del__(self):\n",
    "        print(\"调用__del__() 销毁对象，释放其空间\")\n",
    "clangs = CLanguage()\n",
    "#添加一个引用clangs对象的实例对象\n",
    "cl = clangs\n",
    "del clangs\n",
    "print(\"***********\")\n",
    "del cl\n",
    "print(\"-----------\")"
   ]
  },
  {
   "cell_type": "code",
   "execution_count": 47,
   "metadata": {},
   "outputs": [
    {
     "name": "stdout",
     "output_type": "stream",
     "text": [
      "调用子类 __del__() 方法\n"
     ]
    }
   ],
   "source": [
    "class CLanguage:\n",
    "    def __del__(self):\n",
    "        print(\"调用父类 __del__() 方法\")\n",
    "class cl(CLanguage):\n",
    "    def __del__(self):\n",
    "        print(\"调用子类 __del__() 方法\")\n",
    "c = cl()\n",
    "del c"
   ]
  },
  {
   "cell_type": "code",
   "execution_count": 49,
   "metadata": {},
   "outputs": [
    {
     "name": "stdout",
     "output_type": "stream",
     "text": [
      "调用父类 __del__() 方法\n",
      "调用子类 __del__() 方法\n"
     ]
    }
   ],
   "source": [
    "class CLanguage:\n",
    "    def __del__(self):\n",
    "        print(\"调用父类 __del__() 方法\")\n",
    "class cl(CLanguage):\n",
    "    def __del__(self):\n",
    "        super(cl,self).__del__()\n",
    "        print(\"调用子类 __del__() 方法\")\n",
    "c = cl()\n",
    "del c"
   ]
  },
  {
   "cell_type": "code",
   "execution_count": 50,
   "metadata": {},
   "outputs": [
    {
     "name": "stdout",
     "output_type": "stream",
     "text": [
      "{'__module__': '__main__', 'a': 1, 'b': 2, '__init__': <function CLanguage.__init__ at 0x000002D3B85A2158>, '__dict__': <attribute '__dict__' of 'CLanguage' objects>, '__weakref__': <attribute '__weakref__' of 'CLanguage' objects>, '__doc__': None}\n",
      "{'name': 'C语言中文网', 'add': 'http://c.biancheng.net'}\n"
     ]
    }
   ],
   "source": [
    "class CLanguage:\n",
    "    a = 1\n",
    "    b = 2\n",
    "    def __init__ (self):\n",
    "        self.name = \"C语言中文网\"\n",
    "        self.add = \"http://c.biancheng.net\"\n",
    "#通过类名调用__dict__\n",
    "print(CLanguage.__dict__)\n",
    "#通过类实例对象调用 __dict__\n",
    "clangs = CLanguage()\n",
    "print(clangs.__dict__)"
   ]
  },
  {
   "cell_type": "code",
   "execution_count": 51,
   "metadata": {},
   "outputs": [
    {
     "name": "stdout",
     "output_type": "stream",
     "text": [
      "{'__module__': '__main__', 'a': 1, 'b': 2, '__init__': <function CLanguage.__init__ at 0x000002D3B8948158>, '__dict__': <attribute '__dict__' of 'CLanguage' objects>, '__weakref__': <attribute '__weakref__' of 'CLanguage' objects>, '__doc__': None}\n",
      "{'__module__': '__main__', 'c': 1, 'd': 2, '__init__': <function CL.__init__ at 0x000002D3B8658F28>, '__doc__': None}\n",
      "{'name': 'C语言中文网', 'add': 'http://c.biancheng.net'}\n",
      "{'na': 'Python教程', 'ad': 'http://c.biancheng.net/python'}\n"
     ]
    }
   ],
   "source": [
    "class CLanguage:\n",
    "    a = 1\n",
    "    b = 2\n",
    "    def __init__ (self):\n",
    "        self.name = \"C语言中文网\"\n",
    "        self.add = \"http://c.biancheng.net\"\n",
    "       \n",
    "class CL(CLanguage):\n",
    "    c = 1\n",
    "    d = 2\n",
    "    def __init__ (self):\n",
    "        self.na = \"Python教程\"\n",
    "        self.ad = \"http://c.biancheng.net/python\"\n",
    "#父类名调用__dict__\n",
    "print(CLanguage.__dict__)\n",
    "#子类名调用__dict__\n",
    "print(CL.__dict__)\n",
    "#父类实例对象调用 __dict__\n",
    "clangs = CLanguage()\n",
    "print(clangs.__dict__)\n",
    "#子类实例对象调用 __dict__\n",
    "cl = CL()\n",
    "print(cl.__dict__)"
   ]
  },
  {
   "cell_type": "code",
   "execution_count": 52,
   "metadata": {},
   "outputs": [],
   "source": [
    "!python bb.py"
   ]
  },
  {
   "cell_type": "code",
   "execution_count": 1,
   "metadata": {},
   "outputs": [
    {
     "ename": "NameError",
     "evalue": "name 'A' is not defined",
     "output_type": "error",
     "traceback": [
      "\u001b[1;31m---------------------------------------------------------------------------\u001b[0m",
      "\u001b[1;31mNameError\u001b[0m                                 Traceback (most recent call last)",
      "\u001b[1;32m<ipython-input-1-9444ac351c61>\u001b[0m in \u001b[0;36m<module>\u001b[1;34m\u001b[0m\n\u001b[0;32m      1\u001b[0m \u001b[1;32mfrom\u001b[0m \u001b[0mbb\u001b[0m \u001b[1;32mimport\u001b[0m \u001b[1;33m*\u001b[0m\u001b[1;33m\u001b[0m\u001b[1;33m\u001b[0m\u001b[0m\n\u001b[1;32m----> 2\u001b[1;33m \u001b[0ma\u001b[0m\u001b[1;33m=\u001b[0m\u001b[0mA\u001b[0m\u001b[1;33m(\u001b[0m\u001b[1;34m'zhansan'\u001b[0m\u001b[1;33m,\u001b[0m\u001b[1;34m'18'\u001b[0m\u001b[1;33m)\u001b[0m\u001b[1;33m\u001b[0m\u001b[1;33m\u001b[0m\u001b[0m\n\u001b[0m\u001b[0;32m      3\u001b[0m \u001b[0mprint\u001b[0m\u001b[1;33m(\u001b[0m\u001b[0ma\u001b[0m\u001b[1;33m.\u001b[0m\u001b[0mname\u001b[0m\u001b[1;33m,\u001b[0m\u001b[0ma\u001b[0m\u001b[1;33m.\u001b[0m\u001b[0mage\u001b[0m\u001b[1;33m)\u001b[0m\u001b[1;33m\u001b[0m\u001b[1;33m\u001b[0m\u001b[0m\n\u001b[0;32m      4\u001b[0m \u001b[0mfunc\u001b[0m\u001b[1;33m(\u001b[0m\u001b[1;33m)\u001b[0m\u001b[1;33m\u001b[0m\u001b[1;33m\u001b[0m\u001b[0m\n\u001b[0;32m      5\u001b[0m \u001b[1;31m#b=B(\"lisi\",1001)\u001b[0m\u001b[1;33m\u001b[0m\u001b[1;33m\u001b[0m\u001b[1;33m\u001b[0m\u001b[0m\n",
      "\u001b[1;31mNameError\u001b[0m: name 'A' is not defined"
     ]
    }
   ],
   "source": [
    "from bb import *\n",
    "a=A('zhansan','18')\n",
    "print(a.name,a.age)\n",
    "func()\n",
    "#b=B(\"lisi\",1001)\n",
    "#NameError: name 'B' is not defined\n",
    "#func1()\n",
    "#NameError: name 'func1' is not defined 　"
   ]
  },
  {
   "cell_type": "code",
   "execution_count": 78,
   "metadata": {},
   "outputs": [
    {
     "name": "stdout",
     "output_type": "stream",
     "text": [
      "4\n",
      "4\n"
     ]
    }
   ],
   "source": [
    "class A():\n",
    "    num = 4\n",
    "    def __init__(self,name,age):\n",
    "        self.name = name\n",
    "        self.age = age\n",
    "a = A('ee',23)\n",
    "print(a.num)\n",
    "print(A('eed',12).num)"
   ]
  },
  {
   "cell_type": "code",
   "execution_count": 3,
   "metadata": {},
   "outputs": [
    {
     "name": "stdout",
     "output_type": "stream",
     "text": [
      "func() is run!\n"
     ]
    },
    {
     "ename": "NameError",
     "evalue": "name '_func' is not defined",
     "output_type": "error",
     "traceback": [
      "\u001b[1;31m---------------------------------------------------------------------------\u001b[0m",
      "\u001b[1;31mNameError\u001b[0m                                 Traceback (most recent call last)",
      "\u001b[1;32m<ipython-input-3-f49db59d0e9d>\u001b[0m in \u001b[0;36m<module>\u001b[1;34m\u001b[0m\n\u001b[0;32m      1\u001b[0m \u001b[1;32mfrom\u001b[0m \u001b[0mbb\u001b[0m \u001b[1;32mimport\u001b[0m \u001b[1;33m*\u001b[0m  \u001b[1;31m#此方式只能导入公有的属性、方法、类【无法导入以单下划线开头（protected）或以双下划线开头(private)的属性、方法、类】\u001b[0m\u001b[1;33m\u001b[0m\u001b[1;33m\u001b[0m\u001b[0m\n\u001b[0;32m      2\u001b[0m \u001b[0mfunc\u001b[0m\u001b[1;33m(\u001b[0m\u001b[1;33m)\u001b[0m\u001b[1;33m\u001b[0m\u001b[1;33m\u001b[0m\u001b[0m\n\u001b[1;32m----> 3\u001b[1;33m \u001b[0m_func\u001b[0m\u001b[1;33m(\u001b[0m\u001b[1;33m)\u001b[0m\u001b[1;33m\u001b[0m\u001b[1;33m\u001b[0m\u001b[0m\n\u001b[0m\u001b[0;32m      4\u001b[0m \u001b[1;31m#__func()\u001b[0m\u001b[1;33m\u001b[0m\u001b[1;33m\u001b[0m\u001b[1;33m\u001b[0m\u001b[0m\n",
      "\u001b[1;31mNameError\u001b[0m: name '_func' is not defined"
     ]
    }
   ],
   "source": [
    "from bb import *  #此方式只能导入公有的属性、方法、类【无法导入以单下划线开头（protected）或以双下划线开头(private)的属性、方法、类】\n",
    "func()\n",
    "_func()\n",
    "#__func()"
   ]
  },
  {
   "cell_type": "code",
   "execution_count": null,
   "metadata": {},
   "outputs": [],
   "source": []
  }
 ],
 "metadata": {
  "kernelspec": {
   "display_name": "aaa",
   "language": "python",
   "name": "aaa"
  },
  "language_info": {
   "codemirror_mode": {
    "name": "ipython",
    "version": 3
   },
   "file_extension": ".py",
   "mimetype": "text/x-python",
   "name": "python",
   "nbconvert_exporter": "python",
   "pygments_lexer": "ipython3",
   "version": "3.6.9"
  }
 },
 "nbformat": 4,
 "nbformat_minor": 2
}
