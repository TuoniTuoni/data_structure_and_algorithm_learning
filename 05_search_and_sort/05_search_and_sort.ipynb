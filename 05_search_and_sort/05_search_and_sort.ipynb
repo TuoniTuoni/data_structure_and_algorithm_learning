{
  "nbformat": 4,
  "nbformat_minor": 0,
  "metadata": {
    "colab": {
      "name": "05_search_and_sort.ipynb",
      "provenance": [],
      "collapsed_sections": []
    },
    "kernelspec": {
      "name": "python3",
      "display_name": "Python 3"
    },
    "language_info": {
      "name": "python"
    }
  },
  "cells": [
    {
      "cell_type": "markdown",
      "metadata": {
        "id": "932TSpduvN8u"
      },
      "source": [
        "# 二分查找"
      ]
    },
    {
      "cell_type": "code",
      "metadata": {
        "id": "MMOIVYyzc_hD"
      },
      "source": [
        "def binarySearch(alist, item):\n",
        "  first = 0\n",
        "  last = len(alist) - 1\n",
        "  found = False\n",
        "  while first <= last and not found:\n",
        "    midpoint = (first + last) // 2\n",
        "    if alist[midpoint] == item:\n",
        "      found = True\n",
        "    else:\n",
        "      if item < alist[midpoint]:\n",
        "        last = midpoint - 1\n",
        "      else:\n",
        "        first = midpoint + 1\n",
        "  return found"
      ],
      "execution_count": 7,
      "outputs": []
    },
    {
      "cell_type": "code",
      "metadata": {
        "colab": {
          "base_uri": "https://localhost:8080/"
        },
        "id": "MyeVt8mGdDaw",
        "outputId": "fe1724f6-e622-46f7-db78-76707eb37742"
      },
      "source": [
        "alist = [1,2,3,4,5,6,7,8]\n",
        "item = 3\n",
        "binarySearch(alist, item)"
      ],
      "execution_count": 8,
      "outputs": [
        {
          "output_type": "execute_result",
          "data": {
            "text/plain": [
              "True"
            ]
          },
          "metadata": {
            "tags": []
          },
          "execution_count": 8
        }
      ]
    },
    {
      "cell_type": "markdown",
      "metadata": {
        "id": "64qcUY35vTfO"
      },
      "source": [
        "# 递归二分查找"
      ]
    },
    {
      "cell_type": "code",
      "metadata": {
        "id": "YBWIuIzMdDds"
      },
      "source": [
        "def binaryRecursion(alist, item):\n",
        "  if len(alist) == 0:\n",
        "    return False\n",
        "  else:\n",
        "    midpoint = len(alist) // 2\n",
        "    if alist[midpoint] == item:\n",
        "      return True\n",
        "    else:\n",
        "      if item < alist[midpoint]:\n",
        "        return binaryRecursion(alist[:midpoint], item)\n",
        "      else:\n",
        "        return binaryRecusion(alist[midpoint+1:]. item)\n",
        "  "
      ],
      "execution_count": 10,
      "outputs": []
    },
    {
      "cell_type": "code",
      "metadata": {
        "colab": {
          "base_uri": "https://localhost:8080/"
        },
        "id": "FysKX8dAdDff",
        "outputId": "90059d5c-cfc6-4c49-f82d-fc9303adf71e"
      },
      "source": [
        "alist = [1,2,3,4,5,6,7,8]\n",
        "item = 3\n",
        "binaryRecursion(alist, item)"
      ],
      "execution_count": 11,
      "outputs": [
        {
          "output_type": "execute_result",
          "data": {
            "text/plain": [
              "True"
            ]
          },
          "metadata": {
            "tags": []
          },
          "execution_count": 11
        }
      ]
    },
    {
      "cell_type": "markdown",
      "metadata": {
        "id": "ENNJhCZpvY22"
      },
      "source": [
        "# 散列表"
      ]
    },
    {
      "cell_type": "code",
      "metadata": {
        "colab": {
          "base_uri": "https://localhost:8080/"
        },
        "id": "jouWaxBrdDh3",
        "outputId": "57f98c8f-61b9-4d26-9cd8-f3fbb136a488"
      },
      "source": [
        "ord('c')"
      ],
      "execution_count": 12,
      "outputs": [
        {
          "output_type": "execute_result",
          "data": {
            "text/plain": [
              "99"
            ]
          },
          "metadata": {
            "tags": []
          },
          "execution_count": 12
        }
      ]
    },
    {
      "cell_type": "code",
      "metadata": {
        "colab": {
          "base_uri": "https://localhost:8080/"
        },
        "id": "98TxFPAydDkk",
        "outputId": "eb3688bf-ce25-4cfb-8ced-e495a5b26451"
      },
      "source": [
        "ord('a')"
      ],
      "execution_count": 13,
      "outputs": [
        {
          "output_type": "execute_result",
          "data": {
            "text/plain": [
              "97"
            ]
          },
          "metadata": {
            "tags": []
          },
          "execution_count": 13
        }
      ]
    },
    {
      "cell_type": "code",
      "metadata": {
        "colab": {
          "base_uri": "https://localhost:8080/"
        },
        "id": "iouQFz54dDm9",
        "outputId": "3582683a-5fa0-4833-c2ee-0c7060aa32c9"
      },
      "source": [
        "def hash(astring, tablesize):\n",
        "  sum = 0\n",
        "  for pos in range(len(astring)):\n",
        "    sum = sum + ord(astring[pos])\n",
        "  return sum%tablesize\n",
        "hash('cat',11)"
      ],
      "execution_count": 14,
      "outputs": [
        {
          "output_type": "execute_result",
          "data": {
            "text/plain": [
              "4"
            ]
          },
          "metadata": {
            "tags": []
          },
          "execution_count": 14
        }
      ]
    },
    {
      "cell_type": "code",
      "metadata": {
        "id": "lZn5ahnRi6Fe"
      },
      "source": [
        "class HashTable:\n",
        "  def __init__(self):\n",
        "    self.size = 11\n",
        "    self.slots = [None] * self.size\n",
        "    self.data = [None] * self.size\n",
        "  def hashfunction(self, key, size):\n",
        "    return key % size\n",
        "  def rehash(self, oldhash, size):\n",
        "    return (oldhash + 1) % size\n",
        "  def put(self, key, data):\n",
        "    hashvalue = self.hashfunction(key, len(self.slots))\n",
        "    if self.slots[hashvalue] == None:\n",
        "      self.slots[hashvalue] = key\n",
        "      self.data[hashvalue] = data\n",
        "    else:\n",
        "      if self.slots[hashvalue] == key:\n",
        "        self.data[hashvalue] = data #替换\n",
        "      else:\n",
        "        nextslot = self.rehash(hashvalue, len(self.slots))\n",
        "        while self.slots[nextslot] != None and \\\n",
        "                self.slots[nextslot] != key:\n",
        "          nextslot = self.rehash(nextslot, len(self.slots))\n",
        "        if self.slots[nextslot] == None:\n",
        "          self.slots[nextslot] = key\n",
        "          self.data[nextslot] = data\n",
        "        else:\n",
        "          self.data[nextslot] = data #替换\n",
        "  def get(self, key):\n",
        "    startslot = self.hashfunction(key, len(self.slots))\n",
        "    data = None\n",
        "    stop = False\n",
        "    found = False\n",
        "    position = startslot\n",
        "    while self.slots[position] != None and \\\n",
        "        not found and not stop:\n",
        "      if self.slots[position] == key:\n",
        "        found = True\n",
        "        data = self.data[position]\n",
        "      else:\n",
        "        position = self.rehash(position, len(self.slots))\n",
        "        if position == startslot:\n",
        "          stop = True\n",
        "    return data\n",
        "  def __getitem__(self, key):\n",
        "    return self.get(key)\n",
        "  def __setitem__(self, key, data):\n",
        "    self.put(key, data)"
      ],
      "execution_count": 26,
      "outputs": []
    },
    {
      "cell_type": "code",
      "metadata": {
        "id": "qCRR82xYkLKx"
      },
      "source": [
        "H = HashTable()\n",
        "H[54] = \"cat\"\n",
        "H[26] = \"dog\"\n",
        "H[93] = \"lion\"\n",
        "H[17] = \"tiger\"\n",
        "H[77] = \"bird\"\n",
        "H[31] = \"cow\"\n",
        "H[44] = \"goat\"\n",
        "H[55] = \"pig\"\n",
        "H[20] = \"chicken\""
      ],
      "execution_count": 27,
      "outputs": []
    },
    {
      "cell_type": "code",
      "metadata": {
        "colab": {
          "base_uri": "https://localhost:8080/"
        },
        "id": "_oM-Yn8Cu3R0",
        "outputId": "89eb12ac-c7cc-4dae-badc-9254c12a4a1c"
      },
      "source": [
        "H.slots"
      ],
      "execution_count": 28,
      "outputs": [
        {
          "output_type": "execute_result",
          "data": {
            "text/plain": [
              "[77, 44, 55, 20, 26, 93, 17, None, None, 31, 54]"
            ]
          },
          "metadata": {
            "tags": []
          },
          "execution_count": 28
        }
      ]
    },
    {
      "cell_type": "code",
      "metadata": {
        "colab": {
          "base_uri": "https://localhost:8080/"
        },
        "id": "lmO27wnju3Uc",
        "outputId": "f013783a-dc2b-42d0-bc3b-5ae11132d449"
      },
      "source": [
        "H.data"
      ],
      "execution_count": 29,
      "outputs": [
        {
          "output_type": "execute_result",
          "data": {
            "text/plain": [
              "['bird',\n",
              " 'goat',\n",
              " 'pig',\n",
              " 'chicken',\n",
              " 'dog',\n",
              " 'lion',\n",
              " 'tiger',\n",
              " None,\n",
              " None,\n",
              " 'cow',\n",
              " 'cat']"
            ]
          },
          "metadata": {
            "tags": []
          },
          "execution_count": 29
        }
      ]
    },
    {
      "cell_type": "code",
      "metadata": {
        "colab": {
          "base_uri": "https://localhost:8080/",
          "height": 35
        },
        "id": "yMyEmG1au3Wy",
        "outputId": "11a40467-12c0-452f-c262-f9987361db09"
      },
      "source": [
        "H[20] = 'duck'\n",
        "H[20]"
      ],
      "execution_count": 30,
      "outputs": [
        {
          "output_type": "execute_result",
          "data": {
            "application/vnd.google.colaboratory.intrinsic+json": {
              "type": "string"
            },
            "text/plain": [
              "'duck'"
            ]
          },
          "metadata": {
            "tags": []
          },
          "execution_count": 30
        }
      ]
    },
    {
      "cell_type": "code",
      "metadata": {
        "colab": {
          "base_uri": "https://localhost:8080/"
        },
        "id": "mWaw3gt-kLNC",
        "outputId": "3eec0028-565c-4eaa-9efd-db0cbaad7f00"
      },
      "source": [
        "H.data"
      ],
      "execution_count": 31,
      "outputs": [
        {
          "output_type": "execute_result",
          "data": {
            "text/plain": [
              "['bird',\n",
              " 'goat',\n",
              " 'pig',\n",
              " 'duck',\n",
              " 'dog',\n",
              " 'lion',\n",
              " 'tiger',\n",
              " None,\n",
              " None,\n",
              " 'cow',\n",
              " 'cat']"
            ]
          },
          "metadata": {
            "tags": []
          },
          "execution_count": 31
        }
      ]
    },
    {
      "cell_type": "markdown",
      "metadata": {
        "id": "5f9FKobnwkeN"
      },
      "source": [
        "# 冒泡排序"
      ]
    },
    {
      "cell_type": "code",
      "metadata": {
        "id": "fHhiBpBCi6IL"
      },
      "source": [
        "def shortBubblesort(alist):\n",
        "  exchanges = True\n",
        "  passnum = len(alist) - 1\n",
        "  while passnum > 0 and exchanges:\n",
        "    exchanges = False\n",
        "    for i in range(passnum):\n",
        "      if alist[i] > alist[i+1]:\n",
        "        exchanges = True\n",
        "        temp = alist[i]\n",
        "        alist[i] = alist[i+1]\n",
        "        alist[i+1] = temp\n",
        "    passnum = passnum - 1"
      ],
      "execution_count": 32,
      "outputs": []
    },
    {
      "cell_type": "code",
      "metadata": {
        "colab": {
          "base_uri": "https://localhost:8080/"
        },
        "id": "SNS9SEfYwnpF",
        "outputId": "846b3b7d-ee15-4f56-ea77-f460826601b6"
      },
      "source": [
        "alist = [2,5,7,1,9,4,3,8]\n",
        "shortBubblesort(alist)\n",
        "print(alist)"
      ],
      "execution_count": 34,
      "outputs": [
        {
          "output_type": "stream",
          "text": [
            "[1, 2, 3, 4, 5, 7, 8, 9]\n"
          ],
          "name": "stdout"
        }
      ]
    },
    {
      "cell_type": "markdown",
      "metadata": {
        "id": "kdx1nCsyyJxV"
      },
      "source": [
        "# 选择排序"
      ]
    },
    {
      "cell_type": "code",
      "metadata": {
        "id": "scymTEfzwnrp"
      },
      "source": [
        "def selectionSort(alist):\n",
        "  for fillslot in range(len(alist)-1, 0, -1):\n",
        "    positionOfMax = 0\n",
        "    for location in range(1, fillslot+1):\n",
        "      if alist[location] > alist[positionOfMax]:\n",
        "        positionOfMax = location\n",
        "    \n",
        "    temp = alist[fillslot]\n",
        "    alist[fillslot] = alist[positionOfMax]\n",
        "    alist[positionOfMax] = temp\n",
        "  return alist"
      ],
      "execution_count": 37,
      "outputs": []
    },
    {
      "cell_type": "code",
      "metadata": {
        "colab": {
          "base_uri": "https://localhost:8080/"
        },
        "id": "zyhIJbiTz-kW",
        "outputId": "7eb53846-d686-4030-8044-15b16127e28c"
      },
      "source": [
        "alist = [2,5,7,1,9,4,3,8]\n",
        "selectionSort(alist)\n",
        "print(alist)"
      ],
      "execution_count": 41,
      "outputs": [
        {
          "output_type": "stream",
          "text": [
            "[1, 2, 3, 4, 5, 7, 8, 9]\n"
          ],
          "name": "stdout"
        }
      ]
    },
    {
      "cell_type": "code",
      "metadata": {
        "colab": {
          "base_uri": "https://localhost:8080/"
        },
        "id": "Y-zoYjFWwnt3",
        "outputId": "22af01d4-d08f-4c0a-f44a-e8e591d86169"
      },
      "source": [
        "for i in range(0, 5):\n",
        "  print(i)"
      ],
      "execution_count": 36,
      "outputs": [
        {
          "output_type": "stream",
          "text": [
            "0\n",
            "1\n",
            "2\n",
            "3\n",
            "4\n"
          ],
          "name": "stdout"
        }
      ]
    },
    {
      "cell_type": "markdown",
      "metadata": {
        "id": "cHMcDvZA1GrC"
      },
      "source": [
        "# 插入排序"
      ]
    },
    {
      "cell_type": "code",
      "metadata": {
        "id": "nThubGj9dDpn"
      },
      "source": [
        "def insertionSort(alist):\n",
        "  for index in range(1, len(alist)):\n",
        "    currentvalue = alist[index]\n",
        "    position = index\n",
        "    while position > 0 and alist[position-1] > currentvalue:\n",
        "      alist[position] = alist[position-1]\n",
        "      position = position - 1\n",
        "    \n",
        "    alist[position] = currentvalue\n"
      ],
      "execution_count": 42,
      "outputs": []
    },
    {
      "cell_type": "code",
      "metadata": {
        "colab": {
          "base_uri": "https://localhost:8080/"
        },
        "id": "dSkblHWB1JEg",
        "outputId": "3ac56679-c075-40e9-f5cb-033eff7ccb31"
      },
      "source": [
        "alist = [2,5,7,1,9,4,3,8]\n",
        "insertionSort(alist)\n",
        "print(alist)"
      ],
      "execution_count": 43,
      "outputs": [
        {
          "output_type": "stream",
          "text": [
            "[1, 2, 3, 4, 5, 7, 8, 9]\n"
          ],
          "name": "stdout"
        }
      ]
    },
    {
      "cell_type": "markdown",
      "metadata": {
        "id": "ne3-vXrw5rhT"
      },
      "source": [
        "# 希尔排序"
      ]
    },
    {
      "cell_type": "code",
      "metadata": {
        "id": "31Ul6cdc1JHI"
      },
      "source": [
        "def shellSort(alist):\n",
        "  sublistcount = len(alist) // 2\n",
        "  while sublistcount > 0:\n",
        "    for startposition in range(sublistcount):\n",
        "      gapInsertionSort(alist, startposition, sublistcount)\n",
        "    print(\"After increments of size\", sublistcount, \"The list is\", alist)\n",
        "    sublistcount = sublistcount // 2\n",
        "def gapInsertionSort(alist, start, gap):\n",
        "  for i in range(start+gap, len(alist), gap):\n",
        "    currentvalue = alist[i]\n",
        "    position = i\n",
        "    while position >= gap and \\\n",
        "        alist[position-gap] > currentvalue:\n",
        "      alist[position] = alist[position-gap]\n",
        "      position = position - gap\n",
        "    alist[position] = currentvalue"
      ],
      "execution_count": 44,
      "outputs": []
    },
    {
      "cell_type": "code",
      "metadata": {
        "colab": {
          "base_uri": "https://localhost:8080/"
        },
        "id": "5M9Z8dB21JJ6",
        "outputId": "d1d2ec03-fdc4-416d-b987-2224b73842f9"
      },
      "source": [
        "alist = [54, 26, 93, 17, 77, 31, 44, 55, 20]\n",
        "shellSort(alist)"
      ],
      "execution_count": 45,
      "outputs": [
        {
          "output_type": "stream",
          "text": [
            "After increments of size 4 The list is [20, 26, 44, 17, 54, 31, 93, 55, 77]\n",
            "After increments of size 2 The list is [20, 17, 44, 26, 54, 31, 77, 55, 93]\n",
            "After increments of size 1 The list is [17, 20, 26, 31, 44, 54, 55, 77, 93]\n"
          ],
          "name": "stdout"
        }
      ]
    },
    {
      "cell_type": "markdown",
      "metadata": {
        "id": "aCdnD2Wz_nG2"
      },
      "source": [
        "# 归并排序"
      ]
    },
    {
      "cell_type": "code",
      "metadata": {
        "id": "kp8zhz5k8Eqj"
      },
      "source": [
        "def mergeSort(alist):\n",
        "  print(\"Splitting \",alist)\n",
        "  if len(alist) > 1:\n",
        "    mid = len(alist) // 2\n",
        "    lefthalf = alist[:mid]\n",
        "    righthalf = alist[mid:]\n",
        "\n",
        "    mergeSort(lefthalf)\n",
        "    mergeSort(righthalf)\n",
        "    i = 0\n",
        "    j = 0\n",
        "    k = 0\n",
        "    while i < len(lefthalf) and j < len(righthalf):\n",
        "      if lefthalf[i] < righthalf[j]:\n",
        "        alist[k] = lefthalf[i]\n",
        "        i = i + 1\n",
        "      else:\n",
        "        alist[k] = righthalf[j]\n",
        "        j = j + 1\n",
        "      k = k + 1\n",
        "    while i < len(lefthalf):\n",
        "      alist[k] = lefthalf[i]\n",
        "      i = i + 1\n",
        "      k = k + 1\n",
        "    while j < len(righthalf):\n",
        "      alist[k] = righthalf[j]\n",
        "      j = j + 1\n",
        "      k = k + 1\n",
        "\n",
        "    #mergeSort(lefthalf)\n",
        "    #mergeSort(righthalf)\n",
        "  print(\"Merging \", alist)\n"
      ],
      "execution_count": 54,
      "outputs": []
    },
    {
      "cell_type": "code",
      "metadata": {
        "colab": {
          "base_uri": "https://localhost:8080/"
        },
        "id": "IayPgoDR8EwR",
        "outputId": "79daee9f-9e5a-4edf-dc04-f697309bad24"
      },
      "source": [
        "b = [54, 26, 93, 17, 77, 31, 44, 55, 20]\n",
        "mergeSort(b)"
      ],
      "execution_count": 55,
      "outputs": [
        {
          "output_type": "stream",
          "text": [
            "Splitting  [54, 26, 93, 17, 77, 31, 44, 55, 20]\n",
            "Splitting  [54, 26, 93, 17]\n",
            "Splitting  [54, 26]\n",
            "Splitting  [54]\n",
            "Merging  [54]\n",
            "Splitting  [26]\n",
            "Merging  [26]\n",
            "Merging  [26, 54]\n",
            "Splitting  [93, 17]\n",
            "Splitting  [93]\n",
            "Merging  [93]\n",
            "Splitting  [17]\n",
            "Merging  [17]\n",
            "Merging  [17, 93]\n",
            "Merging  [17, 26, 54, 93]\n",
            "Splitting  [77, 31, 44, 55, 20]\n",
            "Splitting  [77, 31]\n",
            "Splitting  [77]\n",
            "Merging  [77]\n",
            "Splitting  [31]\n",
            "Merging  [31]\n",
            "Merging  [31, 77]\n",
            "Splitting  [44, 55, 20]\n",
            "Splitting  [44]\n",
            "Merging  [44]\n",
            "Splitting  [55, 20]\n",
            "Splitting  [55]\n",
            "Merging  [55]\n",
            "Splitting  [20]\n",
            "Merging  [20]\n",
            "Merging  [20, 55]\n",
            "Merging  [20, 44, 55]\n",
            "Merging  [20, 31, 44, 55, 77]\n",
            "Merging  [17, 20, 26, 31, 44, 54, 55, 77, 93]\n"
          ],
          "name": "stdout"
        }
      ]
    },
    {
      "cell_type": "markdown",
      "metadata": {
        "id": "0BO26b_qGzuw"
      },
      "source": [
        "# 快速排序"
      ]
    },
    {
      "cell_type": "code",
      "metadata": {
        "id": "IS9KxBOlGzNY"
      },
      "source": [
        "def quickSort(alist):\n",
        "  quickSortHelper(alist, 0, len(alist) - 1)\n",
        "def quickSortHelper(alist, first, last):\n",
        "  if first < last:\n",
        "    splitpoint = partition(alist, first, last)\n",
        "    quickSortHelper(alist, first, splitpoint-1)\n",
        "    quickSortHelper(alist, splitpoint+1, last)\n",
        "def partition(alist, first, last):\n",
        "  pivotvalue = alist[first]\n",
        "  leftmark = first + 1\n",
        "  rightmark = last\n",
        "  done = False\n",
        "  while not done:\n",
        "    while leftmark <= rightmark and \\\n",
        "        alist[leftmark] <= pivotvalue:\n",
        "      leftmark = leftmark + 1\n",
        "    while alist[rightmark] >= pivotvalue and \\\n",
        "        rightmark >= leftmark:\n",
        "      rightmark = rightmark - 1\n",
        "    if rightmark < leftmark:\n",
        "      done = True\n",
        "    else:\n",
        "      temp = alist[leftmark]\n",
        "      alist[leftmark] = alist[rightmark]\n",
        "      alist[rightmark] = temp\n",
        "  \n",
        "  temp = alist[first]\n",
        "  alist[first] = alist[rightmark]\n",
        "  alist[rightmark] = temp\n",
        "\n",
        "  return rightmark"
      ],
      "execution_count": 56,
      "outputs": []
    },
    {
      "cell_type": "code",
      "metadata": {
        "colab": {
          "base_uri": "https://localhost:8080/"
        },
        "id": "QIT2ZWoHGzP4",
        "outputId": "c23e55d3-9fcb-40f7-c029-441c2ce5a68a"
      },
      "source": [
        "b = [54, 26, 93, 17, 77, 31, 44, 55, 20]\n",
        "quickSort(b)\n",
        "print(b)"
      ],
      "execution_count": 58,
      "outputs": [
        {
          "output_type": "stream",
          "text": [
            "[17, 20, 26, 31, 44, 54, 55, 77, 93]\n"
          ],
          "name": "stdout"
        }
      ]
    },
    {
      "cell_type": "code",
      "metadata": {
        "id": "w1x6WkahGzS6"
      },
      "source": [
        ""
      ],
      "execution_count": null,
      "outputs": []
    },
    {
      "cell_type": "code",
      "metadata": {
        "id": "K3efFWWEGzU2"
      },
      "source": [
        ""
      ],
      "execution_count": null,
      "outputs": []
    },
    {
      "cell_type": "code",
      "metadata": {
        "id": "eiNVxBGIGzWS"
      },
      "source": [
        ""
      ],
      "execution_count": null,
      "outputs": []
    }
  ]
}