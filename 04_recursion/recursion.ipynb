{
  "nbformat": 4,
  "nbformat_minor": 0,
  "metadata": {
    "colab": {
      "name": "recursion.ipynb",
      "provenance": [],
      "collapsed_sections": []
    },
    "kernelspec": {
      "name": "python3",
      "display_name": "Python 3"
    },
    "language_info": {
      "name": "python"
    }
  },
  "cells": [
    {
      "cell_type": "markdown",
      "metadata": {
        "id": "RU5-SW-PWIQ2"
      },
      "source": [
        "## 递归求和函数"
      ]
    },
    {
      "cell_type": "code",
      "metadata": {
        "colab": {
          "base_uri": "https://localhost:8080/"
        },
        "id": "pgjv60ce9zwk",
        "outputId": "0176d11b-9c17-4178-feca-d9a078a5168f"
      },
      "source": [
        "def listsum(numList):\n",
        "  if len(numList) == 1:\n",
        "    return numList[0]\n",
        "  else:\n",
        "    return numList[0] + listsum(numList[1:])\n",
        "listsum([1,3,5,7,9])"
      ],
      "execution_count": 1,
      "outputs": [
        {
          "output_type": "execute_result",
          "data": {
            "text/plain": [
              "25"
            ]
          },
          "metadata": {
            "tags": []
          },
          "execution_count": 1
        }
      ]
    },
    {
      "cell_type": "markdown",
      "metadata": {
        "id": "BjgSoA_CWL4f"
      },
      "source": [
        "## 整数转换任意进制"
      ]
    },
    {
      "cell_type": "code",
      "metadata": {
        "colab": {
          "base_uri": "https://localhost:8080/",
          "height": 35
        },
        "id": "xT-oVaxM97Ma",
        "outputId": "89c659b6-9904-4a19-b648-ba934affd1b4"
      },
      "source": [
        "def toStr(n, base):\n",
        "  convertString = \"0123456789ABCDEF\"\n",
        "  if n < base:\n",
        "    return  convertString[n]\n",
        "  else:\n",
        "    return toStr(n//base, base) + convertString[n%base]\n",
        "toStr(789,10)"
      ],
      "execution_count": 3,
      "outputs": [
        {
          "output_type": "execute_result",
          "data": {
            "application/vnd.google.colaboratory.intrinsic+json": {
              "type": "string"
            },
            "text/plain": [
              "'789'"
            ]
          },
          "metadata": {
            "tags": []
          },
          "execution_count": 3
        }
      ]
    },
    {
      "cell_type": "code",
      "metadata": {
        "colab": {
          "base_uri": "https://localhost:8080/",
          "height": 35
        },
        "id": "jXn_YMvX97PX",
        "outputId": "fbc9524c-31ad-4e25-938b-3d1fd3d7e7f8"
      },
      "source": [
        "toStr(10,2)"
      ],
      "execution_count": 4,
      "outputs": [
        {
          "output_type": "execute_result",
          "data": {
            "application/vnd.google.colaboratory.intrinsic+json": {
              "type": "string"
            },
            "text/plain": [
              "'1010'"
            ]
          },
          "metadata": {
            "tags": []
          },
          "execution_count": 4
        }
      ]
    },
    {
      "cell_type": "code",
      "metadata": {
        "id": "taxpqo9597Ry"
      },
      "source": [
        "class Stack:\n",
        "    def __init__(self):\n",
        "        self.items = []\n",
        "\n",
        "    def isEmpty(self):\n",
        "        return self.items == []\n",
        "\n",
        "    def push(self, item):\n",
        "        self.items.append(item)\n",
        "\n",
        "    def pop(self):\n",
        "        return self.items.pop()\n",
        "\n",
        "    def peek(self):\n",
        "        return self.items[len(self.items)-1]\n",
        "\n",
        "    def size(self):\n",
        "        return len(self.items)"
      ],
      "execution_count": 5,
      "outputs": []
    },
    {
      "cell_type": "code",
      "metadata": {
        "colab": {
          "base_uri": "https://localhost:8080/"
        },
        "id": "qTIbI39T97UK",
        "outputId": "25312a56-f640-4e51-91c1-e859a7a6562f"
      },
      "source": [
        "rStack = Stack()\n",
        "\n",
        "def toStr(n, base):\n",
        "  convertString = \"0123456789ABCDEF\"\n",
        "  if n < base:\n",
        "    rStack.push(convertString[n])\n",
        "  else:\n",
        "    rStack.push(convertString[n % base])\n",
        "    toStr(n // base, base)\n",
        "  return rStack\n",
        "\n",
        "  \n",
        "s = \"\"\n",
        "out = toStr(789,10)\n",
        "while not out.isEmpty():\n",
        "  s = s + out.pop()\n",
        "print(s)"
      ],
      "execution_count": 19,
      "outputs": [
        {
          "output_type": "stream",
          "text": [
            "789\n"
          ],
          "name": "stdout"
        }
      ]
    },
    {
      "cell_type": "code",
      "metadata": {
        "colab": {
          "base_uri": "https://localhost:8080/"
        },
        "id": "dNG7bWFr97Wy",
        "outputId": "1521ee4d-e78a-4c8d-c875-30ef4cdde0c7"
      },
      "source": [
        "rStack = Stack()\n",
        "\n",
        "def toStr(n, base):\n",
        "  convertString = \"0123456789ABCDEF\"\n",
        "  if n < base:\n",
        "    rStack.push(convertString[n])\n",
        "  else:\n",
        "    rStack.push(convertString[n % base])\n",
        "    toStr(n // base, base)\n",
        "  return rStack\n",
        "\n",
        "s = \"\"\n",
        "out = toStr(10,2)\n",
        "while not out.isEmpty():\n",
        "  s = s + out.pop()\n",
        "print(s)"
      ],
      "execution_count": 20,
      "outputs": [
        {
          "output_type": "stream",
          "text": [
            "1010\n"
          ],
          "name": "stdout"
        }
      ]
    },
    {
      "cell_type": "markdown",
      "metadata": {
        "id": "15khSj_qWXOn"
      },
      "source": [
        "## 递归可视化"
      ]
    },
    {
      "cell_type": "code",
      "metadata": {
        "colab": {
          "base_uri": "https://localhost:8080/",
          "height": 374
        },
        "id": "gtfXJ_Ud97b6",
        "outputId": "4d28f175-062f-4bd8-f8dc-0fd9a118bf21"
      },
      "source": [
        "from turtle import *\n",
        "\n",
        "myTurtle = Turtle()\n",
        "myWin = myTurtle.getscreen()\n",
        "def drawSpiral(myTurtle, lineLen):\n",
        "  if lineLen > 0:\n",
        "    myTurtle.forward(lineLen)\n",
        "    myTurtle.right(90)\n",
        "    drawSpiral(myTurtle, lineLen - 5)\n",
        "drawSpiral(myTurtle, 100)\n",
        "myWin.exitonclick()"
      ],
      "execution_count": 23,
      "outputs": [
        {
          "output_type": "error",
          "ename": "TclError",
          "evalue": "ignored",
          "traceback": [
            "\u001b[0;31m---------------------------------------------------------------------------\u001b[0m",
            "\u001b[0;31mTclError\u001b[0m                                  Traceback (most recent call last)",
            "\u001b[0;32m<ipython-input-23-4eeb092c25a9>\u001b[0m in \u001b[0;36m<module>\u001b[0;34m()\u001b[0m\n\u001b[1;32m      1\u001b[0m \u001b[0;32mfrom\u001b[0m \u001b[0mturtle\u001b[0m \u001b[0;32mimport\u001b[0m \u001b[0;34m*\u001b[0m\u001b[0;34m\u001b[0m\u001b[0;34m\u001b[0m\u001b[0m\n\u001b[1;32m      2\u001b[0m \u001b[0;34m\u001b[0m\u001b[0m\n\u001b[0;32m----> 3\u001b[0;31m \u001b[0mmyTurtle\u001b[0m \u001b[0;34m=\u001b[0m \u001b[0mTurtle\u001b[0m\u001b[0;34m(\u001b[0m\u001b[0;34m)\u001b[0m\u001b[0;34m\u001b[0m\u001b[0;34m\u001b[0m\u001b[0m\n\u001b[0m\u001b[1;32m      4\u001b[0m \u001b[0mmyWin\u001b[0m \u001b[0;34m=\u001b[0m \u001b[0mmyTurtle\u001b[0m\u001b[0;34m.\u001b[0m\u001b[0mgetscreen\u001b[0m\u001b[0;34m(\u001b[0m\u001b[0;34m)\u001b[0m\u001b[0;34m\u001b[0m\u001b[0;34m\u001b[0m\u001b[0m\n\u001b[1;32m      5\u001b[0m \u001b[0;32mdef\u001b[0m \u001b[0mdrawSpiral\u001b[0m\u001b[0;34m(\u001b[0m\u001b[0mmyTurtle\u001b[0m\u001b[0;34m,\u001b[0m \u001b[0mlineLen\u001b[0m\u001b[0;34m)\u001b[0m\u001b[0;34m:\u001b[0m\u001b[0;34m\u001b[0m\u001b[0;34m\u001b[0m\u001b[0m\n",
            "\u001b[0;32m/usr/lib/python3.7/turtle.py\u001b[0m in \u001b[0;36m__init__\u001b[0;34m(self, shape, undobuffersize, visible)\u001b[0m\n\u001b[1;32m   3810\u001b[0m                  visible=_CFG[\"visible\"]):\n\u001b[1;32m   3811\u001b[0m         \u001b[0;32mif\u001b[0m \u001b[0mTurtle\u001b[0m\u001b[0;34m.\u001b[0m\u001b[0m_screen\u001b[0m \u001b[0;32mis\u001b[0m \u001b[0;32mNone\u001b[0m\u001b[0;34m:\u001b[0m\u001b[0;34m\u001b[0m\u001b[0;34m\u001b[0m\u001b[0m\n\u001b[0;32m-> 3812\u001b[0;31m             \u001b[0mTurtle\u001b[0m\u001b[0;34m.\u001b[0m\u001b[0m_screen\u001b[0m \u001b[0;34m=\u001b[0m \u001b[0mScreen\u001b[0m\u001b[0;34m(\u001b[0m\u001b[0;34m)\u001b[0m\u001b[0;34m\u001b[0m\u001b[0;34m\u001b[0m\u001b[0m\n\u001b[0m\u001b[1;32m   3813\u001b[0m         RawTurtle.__init__(self, Turtle._screen,\n\u001b[1;32m   3814\u001b[0m                            \u001b[0mshape\u001b[0m\u001b[0;34m=\u001b[0m\u001b[0mshape\u001b[0m\u001b[0;34m,\u001b[0m\u001b[0;34m\u001b[0m\u001b[0;34m\u001b[0m\u001b[0m\n",
            "\u001b[0;32m/usr/lib/python3.7/turtle.py\u001b[0m in \u001b[0;36mScreen\u001b[0;34m()\u001b[0m\n\u001b[1;32m   3660\u001b[0m     else return the existing one.\"\"\"\n\u001b[1;32m   3661\u001b[0m     \u001b[0;32mif\u001b[0m \u001b[0mTurtle\u001b[0m\u001b[0;34m.\u001b[0m\u001b[0m_screen\u001b[0m \u001b[0;32mis\u001b[0m \u001b[0;32mNone\u001b[0m\u001b[0;34m:\u001b[0m\u001b[0;34m\u001b[0m\u001b[0;34m\u001b[0m\u001b[0m\n\u001b[0;32m-> 3662\u001b[0;31m         \u001b[0mTurtle\u001b[0m\u001b[0;34m.\u001b[0m\u001b[0m_screen\u001b[0m \u001b[0;34m=\u001b[0m \u001b[0m_Screen\u001b[0m\u001b[0;34m(\u001b[0m\u001b[0;34m)\u001b[0m\u001b[0;34m\u001b[0m\u001b[0;34m\u001b[0m\u001b[0m\n\u001b[0m\u001b[1;32m   3663\u001b[0m     \u001b[0;32mreturn\u001b[0m \u001b[0mTurtle\u001b[0m\u001b[0;34m.\u001b[0m\u001b[0m_screen\u001b[0m\u001b[0;34m\u001b[0m\u001b[0;34m\u001b[0m\u001b[0m\n\u001b[1;32m   3664\u001b[0m \u001b[0;34m\u001b[0m\u001b[0m\n",
            "\u001b[0;32m/usr/lib/python3.7/turtle.py\u001b[0m in \u001b[0;36m__init__\u001b[0;34m(self)\u001b[0m\n\u001b[1;32m   3676\u001b[0m         \u001b[0;31m# preserved (perhaps by passing it as an optional parameter)\u001b[0m\u001b[0;34m\u001b[0m\u001b[0;34m\u001b[0m\u001b[0;34m\u001b[0m\u001b[0m\n\u001b[1;32m   3677\u001b[0m         \u001b[0;32mif\u001b[0m \u001b[0m_Screen\u001b[0m\u001b[0;34m.\u001b[0m\u001b[0m_root\u001b[0m \u001b[0;32mis\u001b[0m \u001b[0;32mNone\u001b[0m\u001b[0;34m:\u001b[0m\u001b[0;34m\u001b[0m\u001b[0;34m\u001b[0m\u001b[0m\n\u001b[0;32m-> 3678\u001b[0;31m             \u001b[0m_Screen\u001b[0m\u001b[0;34m.\u001b[0m\u001b[0m_root\u001b[0m \u001b[0;34m=\u001b[0m \u001b[0mself\u001b[0m\u001b[0;34m.\u001b[0m\u001b[0m_root\u001b[0m \u001b[0;34m=\u001b[0m \u001b[0m_Root\u001b[0m\u001b[0;34m(\u001b[0m\u001b[0;34m)\u001b[0m\u001b[0;34m\u001b[0m\u001b[0;34m\u001b[0m\u001b[0m\n\u001b[0m\u001b[1;32m   3679\u001b[0m             \u001b[0mself\u001b[0m\u001b[0;34m.\u001b[0m\u001b[0m_root\u001b[0m\u001b[0;34m.\u001b[0m\u001b[0mtitle\u001b[0m\u001b[0;34m(\u001b[0m\u001b[0m_Screen\u001b[0m\u001b[0;34m.\u001b[0m\u001b[0m_title\u001b[0m\u001b[0;34m)\u001b[0m\u001b[0;34m\u001b[0m\u001b[0;34m\u001b[0m\u001b[0m\n\u001b[1;32m   3680\u001b[0m             \u001b[0mself\u001b[0m\u001b[0;34m.\u001b[0m\u001b[0m_root\u001b[0m\u001b[0;34m.\u001b[0m\u001b[0mondestroy\u001b[0m\u001b[0;34m(\u001b[0m\u001b[0mself\u001b[0m\u001b[0;34m.\u001b[0m\u001b[0m_destroy\u001b[0m\u001b[0;34m)\u001b[0m\u001b[0;34m\u001b[0m\u001b[0;34m\u001b[0m\u001b[0m\n",
            "\u001b[0;32m/usr/lib/python3.7/turtle.py\u001b[0m in \u001b[0;36m__init__\u001b[0;34m(self)\u001b[0m\n\u001b[1;32m    432\u001b[0m     \u001b[0;34m\"\"\"Root class for Screen based on Tkinter.\"\"\"\u001b[0m\u001b[0;34m\u001b[0m\u001b[0;34m\u001b[0m\u001b[0m\n\u001b[1;32m    433\u001b[0m     \u001b[0;32mdef\u001b[0m \u001b[0m__init__\u001b[0m\u001b[0;34m(\u001b[0m\u001b[0mself\u001b[0m\u001b[0;34m)\u001b[0m\u001b[0;34m:\u001b[0m\u001b[0;34m\u001b[0m\u001b[0;34m\u001b[0m\u001b[0m\n\u001b[0;32m--> 434\u001b[0;31m         \u001b[0mTK\u001b[0m\u001b[0;34m.\u001b[0m\u001b[0mTk\u001b[0m\u001b[0;34m.\u001b[0m\u001b[0m__init__\u001b[0m\u001b[0;34m(\u001b[0m\u001b[0mself\u001b[0m\u001b[0;34m)\u001b[0m\u001b[0;34m\u001b[0m\u001b[0;34m\u001b[0m\u001b[0m\n\u001b[0m\u001b[1;32m    435\u001b[0m \u001b[0;34m\u001b[0m\u001b[0m\n\u001b[1;32m    436\u001b[0m     \u001b[0;32mdef\u001b[0m \u001b[0msetupcanvas\u001b[0m\u001b[0;34m(\u001b[0m\u001b[0mself\u001b[0m\u001b[0;34m,\u001b[0m \u001b[0mwidth\u001b[0m\u001b[0;34m,\u001b[0m \u001b[0mheight\u001b[0m\u001b[0;34m,\u001b[0m \u001b[0mcwidth\u001b[0m\u001b[0;34m,\u001b[0m \u001b[0mcheight\u001b[0m\u001b[0;34m)\u001b[0m\u001b[0;34m:\u001b[0m\u001b[0;34m\u001b[0m\u001b[0;34m\u001b[0m\u001b[0m\n",
            "\u001b[0;32m/usr/lib/python3.7/tkinter/__init__.py\u001b[0m in \u001b[0;36m__init__\u001b[0;34m(self, screenName, baseName, className, useTk, sync, use)\u001b[0m\n\u001b[1;32m   2021\u001b[0m                 \u001b[0mbaseName\u001b[0m \u001b[0;34m=\u001b[0m \u001b[0mbaseName\u001b[0m \u001b[0;34m+\u001b[0m \u001b[0mext\u001b[0m\u001b[0;34m\u001b[0m\u001b[0;34m\u001b[0m\u001b[0m\n\u001b[1;32m   2022\u001b[0m         \u001b[0minteractive\u001b[0m \u001b[0;34m=\u001b[0m \u001b[0;36m0\u001b[0m\u001b[0;34m\u001b[0m\u001b[0;34m\u001b[0m\u001b[0m\n\u001b[0;32m-> 2023\u001b[0;31m         \u001b[0mself\u001b[0m\u001b[0;34m.\u001b[0m\u001b[0mtk\u001b[0m \u001b[0;34m=\u001b[0m \u001b[0m_tkinter\u001b[0m\u001b[0;34m.\u001b[0m\u001b[0mcreate\u001b[0m\u001b[0;34m(\u001b[0m\u001b[0mscreenName\u001b[0m\u001b[0;34m,\u001b[0m \u001b[0mbaseName\u001b[0m\u001b[0;34m,\u001b[0m \u001b[0mclassName\u001b[0m\u001b[0;34m,\u001b[0m \u001b[0minteractive\u001b[0m\u001b[0;34m,\u001b[0m \u001b[0mwantobjects\u001b[0m\u001b[0;34m,\u001b[0m \u001b[0museTk\u001b[0m\u001b[0;34m,\u001b[0m \u001b[0msync\u001b[0m\u001b[0;34m,\u001b[0m \u001b[0muse\u001b[0m\u001b[0;34m)\u001b[0m\u001b[0;34m\u001b[0m\u001b[0;34m\u001b[0m\u001b[0m\n\u001b[0m\u001b[1;32m   2024\u001b[0m         \u001b[0;32mif\u001b[0m \u001b[0museTk\u001b[0m\u001b[0;34m:\u001b[0m\u001b[0;34m\u001b[0m\u001b[0;34m\u001b[0m\u001b[0m\n\u001b[1;32m   2025\u001b[0m             \u001b[0mself\u001b[0m\u001b[0;34m.\u001b[0m\u001b[0m_loadtk\u001b[0m\u001b[0;34m(\u001b[0m\u001b[0;34m)\u001b[0m\u001b[0;34m\u001b[0m\u001b[0;34m\u001b[0m\u001b[0m\n",
            "\u001b[0;31mTclError\u001b[0m: no display name and no $DISPLAY environment variable"
          ]
        }
      ]
    },
    {
      "cell_type": "code",
      "metadata": {
        "id": "rLBNwlTo97eO"
      },
      "source": [
        "from turtle import *\n",
        "\n",
        "def tree(branchLen, t):\n",
        "    if branchLen > 5:\n",
        "        t.forward(branchLen)\n",
        "        t.right(20)\n",
        "        tree(branchLen - 15, t)\n",
        "        t.left(40)\n",
        "        tree(branchLen - 10, t)\n",
        "        t.right(20)\n",
        "        t.backward(branchLen)\n",
        "\n",
        "t = Turtle()\n",
        "myWin = t.getscreen()\n",
        "t.left(90)\n",
        "t.up()\n",
        "t.backward(300)\n",
        "t.down()\n",
        "t.color('green')\n",
        "tree(110, t)\n",
        "myWin.exitonclick()"
      ],
      "execution_count": null,
      "outputs": []
    },
    {
      "cell_type": "markdown",
      "metadata": {
        "id": "Vf6IA4xoWcDA"
      },
      "source": [
        "## 汉诺塔问题"
      ]
    },
    {
      "cell_type": "code",
      "metadata": {
        "colab": {
          "base_uri": "https://localhost:8080/"
        },
        "id": "7nl-XKy997iy",
        "outputId": "3cfeaf6a-21d7-4559-bec4-3588dcf29c91"
      },
      "source": [
        "def moveTower(height, fromPole, toPole, withPole):\n",
        "  if height >= 1:\n",
        "    moveTower(height - 1, fromPole, withPole, toPole)\n",
        "    moveDisk(fromPole, toPole)\n",
        "    moveTower(height - 1, withPole,toPole, fromPole)\n",
        "def moveDisk(fp, tp):\n",
        "  print(\"moving disk from\", fp, \"to\", tp)\n",
        "moveTower(3, 'a','b','c')"
      ],
      "execution_count": 25,
      "outputs": [
        {
          "output_type": "stream",
          "text": [
            "moving disk from a to b\n",
            "moving disk from a to c\n",
            "moving disk from b to c\n",
            "moving disk from a to b\n",
            "moving disk from c to a\n",
            "moving disk from c to b\n",
            "moving disk from a to b\n"
          ],
          "name": "stdout"
        }
      ]
    },
    {
      "cell_type": "markdown",
      "metadata": {
        "id": "NLa2HvVrbOF9"
      },
      "source": [
        "## 递归计算数的阶乘"
      ]
    },
    {
      "cell_type": "code",
      "metadata": {
        "colab": {
          "base_uri": "https://localhost:8080/"
        },
        "id": "vQqaJoAwbSNi",
        "outputId": "ef703e74-8204-4cbf-f3a0-482d19343a07"
      },
      "source": [
        "def factorial(num):\n",
        "  if num == 1:\n",
        "    return 1\n",
        "  else:\n",
        "    return num * factorial(num - 1)\n",
        "\n",
        "print(factorial(2))  # 2*1\n",
        "print(factorial(3))  # 3*2*1\n",
        "print(factorial(4))  # 4* 3* 2*1\n",
        "print(factorial(5))  # 5*4*3*2*1\n",
        "print(factorial(10))"
      ],
      "execution_count": 55,
      "outputs": [
        {
          "output_type": "stream",
          "text": [
            "2\n",
            "6\n",
            "24\n",
            "120\n",
            "3628800\n"
          ],
          "name": "stdout"
        }
      ]
    },
    {
      "cell_type": "markdown",
      "metadata": {
        "id": "awVKGBZBcB8l"
      },
      "source": [
        "## 动态规划"
      ]
    },
    {
      "cell_type": "code",
      "metadata": {
        "colab": {
          "base_uri": "https://localhost:8080/"
        },
        "id": "VrgA4ViUcD2A",
        "outputId": "43105ead-aa26-4223-8d22-3a3c9f873bad"
      },
      "source": [
        "def recMC(coinValueList, change):\n",
        "  minCoins = change\n",
        "  if change in coinValueList:\n",
        "    return 1\n",
        "  else:\n",
        "    for i in [c for c in coinValueList if c <= change]:\n",
        "      numCoins = 1 + recMC(coinValueList, change - i)\n",
        "      if numCoins < minCoins:\n",
        "        minCoins = numCoins\n",
        "  return minCoins\n",
        "recMC([1,5,10,25],63)"
      ],
      "execution_count": 56,
      "outputs": [
        {
          "output_type": "execute_result",
          "data": {
            "text/plain": [
              "6"
            ]
          },
          "metadata": {
            "tags": []
          },
          "execution_count": 56
        }
      ]
    },
    {
      "cell_type": "code",
      "metadata": {
        "id": "6zEuuIh9cD4k"
      },
      "source": [
        "def dpMakeChange(coinValueList, change, minCoins, coinsUsed):\n",
        "  for cents in range(change+1):\n",
        "    coinCount = cents\n",
        "    newCoin = 1\n",
        "    for j in [c for c in coinValueList if c <= change]:\n",
        "      if minCoins[cents - j] + 1 < coinCount:\n",
        "        coinCount = minCoins[cents - j] + 1\n",
        "        newCoin = j\n",
        "    minCoins[cents] = coinCount\n",
        "    coinsUsed[cents] = newCoin\n",
        "  return minCoins[change]\n",
        "\n",
        "def printCoins(coinsUsed, change):\n",
        "  coin = change\n",
        "  while coin > 0:\n",
        "    thisCoin = coinsUsed[coin]\n",
        "    print(thisCoin)\n",
        "    coin = coin - thisCoin"
      ],
      "execution_count": 58,
      "outputs": []
    },
    {
      "cell_type": "code",
      "metadata": {
        "colab": {
          "base_uri": "https://localhost:8080/"
        },
        "id": "qa868mbrjkl-",
        "outputId": "ece3c2e9-2560-4138-a8ff-36eba5a452f1"
      },
      "source": [
        "c1 = [1, 5, 10, 21, 25]\n",
        "coinsUsed = [0] * 64\n",
        "coinCount = [0] * 64\n",
        "dpMakeChange(c1,63,coinCount,coinsUsed)"
      ],
      "execution_count": 60,
      "outputs": [
        {
          "output_type": "execute_result",
          "data": {
            "text/plain": [
              "3"
            ]
          },
          "metadata": {
            "tags": []
          },
          "execution_count": 60
        }
      ]
    },
    {
      "cell_type": "code",
      "metadata": {
        "colab": {
          "base_uri": "https://localhost:8080/"
        },
        "id": "UrkZnKPRcD7o",
        "outputId": "61b9cda2-2cb4-4c30-b389-2c3337929333"
      },
      "source": [
        "printCoins(coinsUsed, 63)\n",
        "printCoins(coinsUsed, 52)"
      ],
      "execution_count": 62,
      "outputs": [
        {
          "output_type": "stream",
          "text": [
            "21\n",
            "21\n",
            "21\n",
            "5\n",
            "25\n",
            "25\n"
          ],
          "name": "stdout"
        }
      ]
    },
    {
      "cell_type": "code",
      "metadata": {
        "colab": {
          "base_uri": "https://localhost:8080/"
        },
        "id": "QExK9UCAnBLq",
        "outputId": "dbea6038-ea57-4bd6-b8d0-d3a995ce1706"
      },
      "source": [
        "print(coinCount)"
      ],
      "execution_count": 66,
      "outputs": [
        {
          "output_type": "stream",
          "text": [
            "[0, 1, 1, 1, 1, 1, 1, 1, 1, 1, 1, 1, 1, 1, 1, 1, 1, 1, 1, 1, 1, 1, 1, 1, 1, 1, 2, 2, 2, 2, 2, 2, 2, 2, 2, 2, 2, 2, 2, 2, 2, 2, 2, 2, 2, 2, 2, 2, 2, 2, 2, 3, 3, 3, 3, 3, 3, 3, 3, 3, 3, 3, 3, 3]\n"
          ],
          "name": "stdout"
        }
      ]
    },
    {
      "cell_type": "code",
      "metadata": {
        "colab": {
          "base_uri": "https://localhost:8080/"
        },
        "id": "9oUmFuWSl13w",
        "outputId": "f951684e-53ae-4856-e50d-a7c59a623728"
      },
      "source": [
        "coinsUsed"
      ],
      "execution_count": 64,
      "outputs": [
        {
          "output_type": "execute_result",
          "data": {
            "text/plain": [
              "[1,\n",
              " 1,\n",
              " 5,\n",
              " 5,\n",
              " 5,\n",
              " 5,\n",
              " 10,\n",
              " 10,\n",
              " 10,\n",
              " 10,\n",
              " 10,\n",
              " 21,\n",
              " 21,\n",
              " 21,\n",
              " 21,\n",
              " 21,\n",
              " 21,\n",
              " 21,\n",
              " 21,\n",
              " 21,\n",
              " 21,\n",
              " 21,\n",
              " 25,\n",
              " 25,\n",
              " 25,\n",
              " 25,\n",
              " 1,\n",
              " 5,\n",
              " 5,\n",
              " 5,\n",
              " 5,\n",
              " 10,\n",
              " 10,\n",
              " 10,\n",
              " 10,\n",
              " 10,\n",
              " 21,\n",
              " 21,\n",
              " 21,\n",
              " 21,\n",
              " 21,\n",
              " 21,\n",
              " 21,\n",
              " 21,\n",
              " 21,\n",
              " 21,\n",
              " 21,\n",
              " 25,\n",
              " 25,\n",
              " 25,\n",
              " 25,\n",
              " 1,\n",
              " 5,\n",
              " 5,\n",
              " 5,\n",
              " 5,\n",
              " 10,\n",
              " 10,\n",
              " 10,\n",
              " 10,\n",
              " 10,\n",
              " 21,\n",
              " 21,\n",
              " 21]"
            ]
          },
          "metadata": {
            "tags": []
          },
          "execution_count": 64
        }
      ]
    },
    {
      "cell_type": "markdown",
      "metadata": {
        "id": "1zce-IE_Wf3H"
      },
      "source": [
        "## python __getitem__()"
      ]
    },
    {
      "cell_type": "code",
      "metadata": {
        "colab": {
          "base_uri": "https://localhost:8080/"
        },
        "id": "ri1jq-va97lc",
        "outputId": "20e649a3-d067-4e70-ffa5-763fe2f81ac2"
      },
      "source": [
        "# -*- coding:utf-8 -*-\n",
        "class DataTest:\n",
        "    def __init__(self,id,address):\n",
        "        self.id=id\n",
        "        self.address=address\n",
        "        self.d={self.id:1,\n",
        "                self.address:\"192.168.1.1\"\n",
        "                }\n",
        "        \n",
        "    def __getitem__(self,key):\n",
        "        return \"hello\"\n",
        "    \n",
        " \n",
        "data=DataTest(1,\"192.168.2.11\")\n",
        "print (data[2])\n",
        "print(data[0])\n",
        "print(data[100])\n",
        "print(data['hi'])\n",
        "print(data[data.id])"
      ],
      "execution_count": 31,
      "outputs": [
        {
          "output_type": "stream",
          "text": [
            "hello\n",
            "hello\n",
            "hello\n",
            "hello\n",
            "hello\n"
          ],
          "name": "stdout"
        }
      ]
    },
    {
      "cell_type": "code",
      "metadata": {
        "colab": {
          "base_uri": "https://localhost:8080/"
        },
        "id": "YL3P8ITrT1Gl",
        "outputId": "53375dfe-03d1-486c-f096-13c885b3dedf"
      },
      "source": [
        "class DataBase:\n",
        "    '''Python 3 中的类'''\n",
        "\n",
        "    def __init__(self, id, address):\n",
        "        '''初始化方法'''\n",
        "        self.id = id\n",
        "        self.address = address\n",
        "        self.d = {self.id: 2,\n",
        "                  self.address: \"192.168.1.2\",\n",
        "                  }\n",
        "\n",
        "    def __getitem__(self, key):\n",
        "        # return self.__dict__.get(key, \"100\")\n",
        "        return self.d.get(key, \"default\")\n",
        "       \n",
        "\n",
        "data = DataBase(1, \"192.168.2.11\")\n",
        "print(data[\"hi\"])\n",
        "print(data[data.id])\n",
        "print(data[data.address])"
      ],
      "execution_count": 36,
      "outputs": [
        {
          "output_type": "stream",
          "text": [
            "default\n",
            "2\n",
            "192.168.1.2\n"
          ],
          "name": "stdout"
        }
      ]
    },
    {
      "cell_type": "code",
      "metadata": {
        "colab": {
          "base_uri": "https://localhost:8080/"
        },
        "id": "-QnqqL5BT1JH",
        "outputId": "840d12d2-d2d6-4417-9b13-889fab05a46c"
      },
      "source": [
        "class DataBase:\n",
        "    '''Python 3 中的类'''\n",
        "\n",
        "    def __init__(self, id, address):\n",
        "        '''初始化方法'''\n",
        "        self.id = id\n",
        "        self.address = address\n",
        "\n",
        "    def __getitem__(self, key):\n",
        "        return self.__dict__.get(key, \"100\")\n",
        "\n",
        "\n",
        "data = DataBase(1, \"192.168.2.11\")\n",
        "print(data[\"hi\"])\n",
        "print(data[\"id\"])\n",
        "print(data['asdfgh'])\n",
        "print(data['address'])\n",
        "print(data.id)\n",
        "print(data.address)\n",
        "print(data[data.id])\n",
        "print(data[data.address])"
      ],
      "execution_count": 42,
      "outputs": [
        {
          "output_type": "stream",
          "text": [
            "100\n",
            "1\n",
            "100\n",
            "192.168.2.11\n",
            "1\n",
            "192.168.2.11\n",
            "100\n",
            "100\n"
          ],
          "name": "stdout"
        }
      ]
    },
    {
      "cell_type": "code",
      "metadata": {
        "colab": {
          "base_uri": "https://localhost:8080/"
        },
        "id": "PKcBG0tkT1MF",
        "outputId": "ccc8a985-be05-4aa6-91c8-848cb3a5bfbd"
      },
      "source": [
        "#对象的迭代\n",
        "class STgetitem:\n",
        "\n",
        "    def __init__(self, text):\n",
        "        self.text = text\n",
        "\n",
        "    def __getitem__(self, index):\n",
        "        result = self.text[index].upper()\n",
        "        return result\n",
        "\n",
        "\n",
        "p = STgetitem(\"你好Python\")\n",
        "print(p[0])\n",
        "print(\"------------------------\")\n",
        "for char in p:\n",
        "    print(char)"
      ],
      "execution_count": 44,
      "outputs": [
        {
          "output_type": "stream",
          "text": [
            "你\n",
            "------------------------\n",
            "你\n",
            "好\n",
            "P\n",
            "Y\n",
            "T\n",
            "H\n",
            "O\n",
            "N\n"
          ],
          "name": "stdout"
        }
      ]
    },
    {
      "cell_type": "code",
      "metadata": {
        "id": "9bObTFTYT1OK"
      },
      "source": [
        "class Fib(object):\n",
        "      def __getitem__(self, n):\n",
        "          a, b = 1, 1\n",
        "          for x in range(n):\n",
        "              a, b = b, a + b\n",
        "          return a"
      ],
      "execution_count": 45,
      "outputs": []
    },
    {
      "cell_type": "code",
      "metadata": {
        "colab": {
          "base_uri": "https://localhost:8080/"
        },
        "id": "FbWCGUatYeWy",
        "outputId": "36fd1dd0-254c-46ce-ffc5-afab695325eb"
      },
      "source": [
        "f = Fib()\n",
        "f[0]    #输出：1\n",
        "print(f[2])"
      ],
      "execution_count": 54,
      "outputs": [
        {
          "output_type": "stream",
          "text": [
            "2\n"
          ],
          "name": "stdout"
        }
      ]
    },
    {
      "cell_type": "code",
      "metadata": {
        "colab": {
          "base_uri": "https://localhost:8080/"
        },
        "id": "fuguoRmCYeZH",
        "outputId": "65fd04fb-8c9e-4c18-c96d-4261cedc3ad1"
      },
      "source": [
        "class Fib(object):\n",
        "    def __getitem__(self, n):\n",
        "        if isinstance(n, int): # n是索引\n",
        "            a, b = 1, 1\n",
        "            for x in range(n):\n",
        "                a, b = b, a + b\n",
        "            return a\n",
        "        if isinstance(n, slice): # n是切片\n",
        "            start = n.start\n",
        "            stop = n.stop\n",
        "            if start is None:\n",
        "                start = 0\n",
        "            a, b = 1, 1\n",
        "            L = []\n",
        "            for x in range(stop):\n",
        "                if x >= start:\n",
        "                    L.append(a)\n",
        "                a, b = b, a + b\n",
        "            return L\n",
        "f = Fib()        \n",
        "f[2:5]    #输出：[1, 1, 2, 3, 5]\n",
        "#f[:10]    #输出：[1, 1, 2, 3, 5, 8, 13, 21, 34, 55]\n",
        "#该例没有对step参数作处理，也没有对负数作处理，所以，要正确实现一个__getitem__()还是有很多工作要做的"
      ],
      "execution_count": 53,
      "outputs": [
        {
          "output_type": "execute_result",
          "data": {
            "text/plain": [
              "[2, 3, 5]"
            ]
          },
          "metadata": {
            "tags": []
          },
          "execution_count": 53
        }
      ]
    },
    {
      "cell_type": "code",
      "metadata": {
        "id": "EJjPJd8rYebo"
      },
      "source": [
        ""
      ],
      "execution_count": null,
      "outputs": []
    },
    {
      "cell_type": "code",
      "metadata": {
        "id": "qC4RzQqAYeeT"
      },
      "source": [
        ""
      ],
      "execution_count": null,
      "outputs": []
    },
    {
      "cell_type": "code",
      "metadata": {
        "id": "pXvG8f0iYehC"
      },
      "source": [
        ""
      ],
      "execution_count": null,
      "outputs": []
    }
  ]
}