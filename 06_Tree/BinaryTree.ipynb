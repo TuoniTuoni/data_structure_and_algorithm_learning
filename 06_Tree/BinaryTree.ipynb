{
  "nbformat": 4,
  "nbformat_minor": 0,
  "metadata": {
    "colab": {
      "name": "BinaryTree.ipynb",
      "provenance": [],
      "collapsed_sections": []
    },
    "kernelspec": {
      "name": "python3",
      "display_name": "Python 3"
    },
    "language_info": {
      "name": "python"
    }
  },
  "cells": [
    {
      "cell_type": "markdown",
      "metadata": {
        "id": "v21ubwrimLAv"
      },
      "source": [
        "# 列表函数BinaryTree"
      ]
    },
    {
      "cell_type": "code",
      "metadata": {
        "id": "4RZxkengaw3T"
      },
      "source": [
        "def BinaryTree(r):\n",
        "  return [r, [], []]"
      ],
      "execution_count": 7,
      "outputs": []
    },
    {
      "cell_type": "code",
      "metadata": {
        "id": "fz8jdB5BaycF"
      },
      "source": [
        "def insertLeft(root, newBranch):\n",
        "  t = root.pop(1)\n",
        "  if len(t) > 1:\n",
        "    root.insert(1, [newBranch, t, []])\n",
        "  else:\n",
        "    root.insert(1, [newBranch, [], []])\n",
        "  return root"
      ],
      "execution_count": 8,
      "outputs": []
    },
    {
      "cell_type": "code",
      "metadata": {
        "id": "1axoYFOtaye7"
      },
      "source": [
        "def insertRight(root, newBranch):\n",
        "  t = root.pop(2)\n",
        "  if len(t) > 1:\n",
        "    root.insert(2, [newBranch, [], t])\n",
        "  else:\n",
        "    root.insert(2, [newBranch, [], []])\n",
        "  return root"
      ],
      "execution_count": 9,
      "outputs": []
    },
    {
      "cell_type": "code",
      "metadata": {
        "id": "kkjhnPuAayhQ"
      },
      "source": [
        "def getRootVal(root):\n",
        "  return root[0]\n",
        "def setRootVal(root, newVal):\n",
        "  root[0] = newVal\n",
        "def getLeftChild(root):\n",
        "  return root[1]\n",
        "def getRightChild(root):\n",
        "  return root[2]"
      ],
      "execution_count": 10,
      "outputs": []
    },
    {
      "cell_type": "code",
      "metadata": {
        "id": "qdFYkwUlayj5"
      },
      "source": [
        "r = BinaryTree(3)"
      ],
      "execution_count": 11,
      "outputs": []
    },
    {
      "cell_type": "code",
      "metadata": {
        "colab": {
          "base_uri": "https://localhost:8080/"
        },
        "id": "X__P6h1maymz",
        "outputId": "7aab7278-6265-425f-fef5-19cac6cae91d"
      },
      "source": [
        "insertLeft(r, 4)\n",
        "insertLeft(r, 5)"
      ],
      "execution_count": 12,
      "outputs": [
        {
          "output_type": "execute_result",
          "data": {
            "text/plain": [
              "[3, [5, [4, [], []], []], []]"
            ]
          },
          "metadata": {
            "tags": []
          },
          "execution_count": 12
        }
      ]
    },
    {
      "cell_type": "code",
      "metadata": {
        "colab": {
          "base_uri": "https://localhost:8080/"
        },
        "id": "eqFB6tsiaypT",
        "outputId": "4e35b35d-72e5-4f6d-963a-8acd633f0b14"
      },
      "source": [
        "insertRight(r, 6)\n",
        "insertRight(r, 7)"
      ],
      "execution_count": 13,
      "outputs": [
        {
          "output_type": "execute_result",
          "data": {
            "text/plain": [
              "[3, [5, [4, [], []], []], [7, [], [6, [], []]]]"
            ]
          },
          "metadata": {
            "tags": []
          },
          "execution_count": 13
        }
      ]
    },
    {
      "cell_type": "code",
      "metadata": {
        "colab": {
          "base_uri": "https://localhost:8080/"
        },
        "id": "HPnakr0Fayr5",
        "outputId": "9d83acd2-4e74-4db8-ccbb-6bc9b40fc00d"
      },
      "source": [
        "l = getLeftChild(r)\n",
        "l"
      ],
      "execution_count": 14,
      "outputs": [
        {
          "output_type": "execute_result",
          "data": {
            "text/plain": [
              "[5, [4, [], []], []]"
            ]
          },
          "metadata": {
            "tags": []
          },
          "execution_count": 14
        }
      ]
    },
    {
      "cell_type": "code",
      "metadata": {
        "colab": {
          "base_uri": "https://localhost:8080/"
        },
        "id": "K8HPmlNaayuh",
        "outputId": "857625fa-4d2e-47ff-9dde-a1ee1e08ad32"
      },
      "source": [
        "setRootVal(l, 9)\n",
        "r"
      ],
      "execution_count": 15,
      "outputs": [
        {
          "output_type": "execute_result",
          "data": {
            "text/plain": [
              "[3, [9, [4, [], []], []], [7, [], [6, [], []]]]"
            ]
          },
          "metadata": {
            "tags": []
          },
          "execution_count": 15
        }
      ]
    },
    {
      "cell_type": "code",
      "metadata": {
        "colab": {
          "base_uri": "https://localhost:8080/"
        },
        "id": "ckWWSj7vay1Q",
        "outputId": "900b6595-98ff-4f9f-c9f4-7c10f88eaac4"
      },
      "source": [
        "insertLeft(l,11)"
      ],
      "execution_count": 16,
      "outputs": [
        {
          "output_type": "execute_result",
          "data": {
            "text/plain": [
              "[9, [11, [4, [], []], []], []]"
            ]
          },
          "metadata": {
            "tags": []
          },
          "execution_count": 16
        }
      ]
    },
    {
      "cell_type": "code",
      "metadata": {
        "colab": {
          "base_uri": "https://localhost:8080/"
        },
        "id": "h9qe40pXay38",
        "outputId": "95e2dae8-b5ff-4a2b-b25c-906460ec11ad"
      },
      "source": [
        "r"
      ],
      "execution_count": 17,
      "outputs": [
        {
          "output_type": "execute_result",
          "data": {
            "text/plain": [
              "[3, [9, [11, [4, [], []], []], []], [7, [], [6, [], []]]]"
            ]
          },
          "metadata": {
            "tags": []
          },
          "execution_count": 17
        }
      ]
    },
    {
      "cell_type": "code",
      "metadata": {
        "colab": {
          "base_uri": "https://localhost:8080/"
        },
        "id": "IUS76SEuay9c",
        "outputId": "4dd51d14-b18d-4662-e299-acf164a78fcd"
      },
      "source": [
        "getRightChild(getRightChild(r))"
      ],
      "execution_count": 18,
      "outputs": [
        {
          "output_type": "execute_result",
          "data": {
            "text/plain": [
              "[6, [], []]"
            ]
          },
          "metadata": {
            "tags": []
          },
          "execution_count": 18
        }
      ]
    },
    {
      "cell_type": "markdown",
      "metadata": {
        "id": "FrL9B2TImavE"
      },
      "source": [
        "# 二叉树插入"
      ]
    },
    {
      "cell_type": "code",
      "metadata": {
        "id": "wn0YBFYedPqH"
      },
      "source": [
        "from __future__ import print_function\n",
        "\n",
        "class BinaryTree:\n",
        "    \"\"\"\n",
        "    A recursive implementation of Binary Tree\n",
        "    Using links and Nodes approach.\n",
        "\n",
        "    Modified to allow for trees to be constructed from other trees rather than always creating\n",
        "    a new tree in the insertLeft or insertRight\n",
        "    \"\"\"\n",
        "\n",
        "    def __init__(self,rootObj):\n",
        "        self.key = rootObj\n",
        "        self.leftChild = None\n",
        "        self.rightChild = None\n",
        "\n",
        "    def insertLeft(self,newNode):\n",
        "\n",
        "        if isinstance(newNode, BinaryTree):\n",
        "            t = newNode\n",
        "        else:\n",
        "            t = BinaryTree(newNode)\n",
        "\n",
        "        if self.leftChild is not None:\n",
        "            t.leftChild = self.leftChild\n",
        "\n",
        "        self.leftChild = t\n",
        "\n",
        "    def insertRight(self,newNode):\n",
        "        if isinstance(newNode,BinaryTree):\n",
        "            t = newNode\n",
        "        else:\n",
        "            t = BinaryTree(newNode)\n",
        "\n",
        "        if self.rightChild is not None:\n",
        "            t.rightChild = self.rightChild\n",
        "        self.rightChild = t\n",
        "\n",
        "    def isLeaf(self):\n",
        "        return ((not self.leftChild) and (not self.rightChild))\n",
        "\n",
        "    def getRightChild(self):\n",
        "        return self.rightChild\n",
        "\n",
        "    def getLeftChild(self):\n",
        "        return self.leftChild\n",
        "\n",
        "    def setRootVal(self,obj):\n",
        "        self.key = obj\n",
        "\n",
        "    def getRootVal(self,):\n",
        "        return self.key"
      ],
      "execution_count": 19,
      "outputs": []
    },
    {
      "cell_type": "code",
      "metadata": {
        "colab": {
          "base_uri": "https://localhost:8080/",
          "height": 35
        },
        "id": "bSmPPIqudPs1",
        "outputId": "79a7a1f4-f92e-4f47-aa58-3135c31ce3e6"
      },
      "source": [
        "r = BinaryTree('a')\n",
        "r.getRootVal()"
      ],
      "execution_count": 20,
      "outputs": [
        {
          "output_type": "execute_result",
          "data": {
            "application/vnd.google.colaboratory.intrinsic+json": {
              "type": "string"
            },
            "text/plain": [
              "'a'"
            ]
          },
          "metadata": {
            "tags": []
          },
          "execution_count": 20
        }
      ]
    },
    {
      "cell_type": "code",
      "metadata": {
        "colab": {
          "base_uri": "https://localhost:8080/"
        },
        "id": "2IIvHJRDdPvu",
        "outputId": "55b63ee3-9872-4f45-c518-82f8d1519189"
      },
      "source": [
        "print(r.getLeftChild())"
      ],
      "execution_count": 23,
      "outputs": [
        {
          "output_type": "stream",
          "text": [
            "None\n"
          ],
          "name": "stdout"
        }
      ]
    },
    {
      "cell_type": "code",
      "metadata": {
        "colab": {
          "base_uri": "https://localhost:8080/"
        },
        "id": "u4fYnP3fdPyG",
        "outputId": "4b78590e-da7b-4ff6-b273-97e12b7f1522"
      },
      "source": [
        "r.insertLeft('b')\n",
        "print(r.getLeftChild())"
      ],
      "execution_count": 24,
      "outputs": [
        {
          "output_type": "stream",
          "text": [
            "<__main__.BinaryTree object at 0x7f91d9eb5f10>\n"
          ],
          "name": "stdout"
        }
      ]
    },
    {
      "cell_type": "code",
      "metadata": {
        "colab": {
          "base_uri": "https://localhost:8080/"
        },
        "id": "jW8Xlka_dP0p",
        "outputId": "0bcdeeff-2070-4999-93e7-2945cbf41486"
      },
      "source": [
        "print(r.getLeftChild().getRootVal())"
      ],
      "execution_count": 25,
      "outputs": [
        {
          "output_type": "stream",
          "text": [
            "b\n"
          ],
          "name": "stdout"
        }
      ]
    },
    {
      "cell_type": "code",
      "metadata": {
        "id": "qh2DicfTdP3U"
      },
      "source": [
        "class Stack:\n",
        "    def __init__(self):\n",
        "        self.items = []\n",
        "\n",
        "    def isEmpty(self):\n",
        "        return self.items == []\n",
        "\n",
        "    def push(self, item):\n",
        "        self.items.append(item)\n",
        "\n",
        "    def pop(self):\n",
        "        return self.items.pop()\n",
        "\n",
        "    def peek(self):\n",
        "        return self.items[len(self.items)-1]\n",
        "\n",
        "    def size(self):\n",
        "        return len(self.items)"
      ],
      "execution_count": 26,
      "outputs": []
    },
    {
      "cell_type": "markdown",
      "metadata": {
        "id": "mEoaPGq3my_1"
      },
      "source": [
        "# 二叉树的完全实现"
      ]
    },
    {
      "cell_type": "code",
      "metadata": {
        "colab": {
          "base_uri": "https://localhost:8080/"
        },
        "id": "byIbnGjOhmas",
        "outputId": "c561f215-9f24-4dae-c563-81f865cd65d4"
      },
      "source": [
        "from __future__ import print_function\n",
        "\n",
        "class BinaryTree:\n",
        "    \"\"\"\n",
        "    A recursive implementation of Binary Tree\n",
        "    Using links and Nodes approach.\n",
        "\n",
        "    Modified to allow for trees to be constructed from other trees rather than always creating\n",
        "    a new tree in the insertLeft or insertRight\n",
        "    \"\"\"\n",
        "\n",
        "    def __init__(self,rootObj):\n",
        "        self.key = rootObj\n",
        "        self.leftChild = None\n",
        "        self.rightChild = None\n",
        "\n",
        "    def insertLeft(self,newNode):\n",
        "\n",
        "        if isinstance(newNode, BinaryTree):\n",
        "            t = newNode\n",
        "        else:\n",
        "            t = BinaryTree(newNode)\n",
        "\n",
        "        if self.leftChild is not None:\n",
        "            t.leftChild = self.leftChild\n",
        "\n",
        "        self.leftChild = t\n",
        "\n",
        "    def insertRight(self,newNode):\n",
        "        if isinstance(newNode,BinaryTree):\n",
        "            t = newNode\n",
        "        else:\n",
        "            t = BinaryTree(newNode)\n",
        "\n",
        "        if self.rightChild is not None:\n",
        "            t.rightChild = self.rightChild\n",
        "        self.rightChild = t\n",
        "\n",
        "    def isLeaf(self):\n",
        "        return ((not self.leftChild) and (not self.rightChild))\n",
        "\n",
        "    def getRightChild(self):\n",
        "        return self.rightChild\n",
        "\n",
        "    def getLeftChild(self):\n",
        "        return self.leftChild\n",
        "\n",
        "    def setRootVal(self,obj):\n",
        "        self.key = obj\n",
        "\n",
        "    def getRootVal(self,):\n",
        "        return self.key\n",
        "\n",
        "    def inorder(self):\n",
        "        if self.leftChild:\n",
        "            self.leftChild.inorder()\n",
        "        print(self.key)\n",
        "        if self.rightChild:\n",
        "            self.rightChild.inorder()\n",
        "\n",
        "    def postorder(self):\n",
        "        if self.leftChild:\n",
        "            self.leftChild.postorder()\n",
        "        if self.rightChild:\n",
        "            self.rightChild.postorder()\n",
        "        print(self.key)\n",
        "\n",
        "\n",
        "    def preorder(self):\n",
        "        print(self.key)\n",
        "        if self.leftChild:\n",
        "            self.leftChild.preorder()\n",
        "        if self.rightChild:\n",
        "            self.rightChild.preorder()\n",
        "\n",
        "    def printexp(self):\n",
        "        if self.leftChild:\n",
        "            print('(', end=' ')\n",
        "            self.leftChild.printexp()\n",
        "        print(self.key, end=' ')\n",
        "        if self.rightChild:\n",
        "            self.rightChild.printexp()\n",
        "            print(')', end=' ')\n",
        "\n",
        "    def postordereval(self):\n",
        "        opers = {'+':operator.add, '-':operator.sub, '*':operator.mul, '/':operator.truediv}\n",
        "        res1 = None\n",
        "        res2 = None\n",
        "        if self.leftChild:\n",
        "            res1 = self.leftChild.postordereval()  #// \\label{peleft}\n",
        "        if self.rightChild:\n",
        "            res2 = self.rightChild.postordereval() #// \\label{peright}\n",
        "        if res1 and res2:\n",
        "            return opers[self.key](res1,res2) #// \\label{peeval}\n",
        "        else:\n",
        "            return self.key\n",
        "\n",
        "def inorder(tree):\n",
        "    if tree != None:\n",
        "        inorder(tree.getLeftChild())\n",
        "        print(tree.getRootVal())\n",
        "        inorder(tree.getRightChild())\n",
        "\n",
        "def printexp(tree):\n",
        "    if tree.leftChild:\n",
        "        print('(', end=' ')\n",
        "        printexp(tree.getLeftChild())\n",
        "    print(tree.getRootVal(), end=' ')\n",
        "    if tree.rightChild:\n",
        "        printexp(tree.getRightChild())\n",
        "        print(')', end=' ')\n",
        "\n",
        "def printexp(tree):\n",
        "    sVal = \"\"\n",
        "    if tree:\n",
        "        sVal = '(' + printexp(tree.getLeftChild())\n",
        "        sVal = sVal + str(tree.getRootVal())\n",
        "        sVal = sVal + printexp(tree.getRightChild()) + ')'\n",
        "    return sVal\n",
        "\n",
        "def postordereval(tree):\n",
        "    opers = {'+':operator.add, '-':operator.sub, '*':operator.mul, '/':operator.truediv}\n",
        "    res1 = None\n",
        "    res2 = None\n",
        "    if tree:\n",
        "        res1 = postordereval(tree.getLeftChild())  #// \\label{peleft}\n",
        "        res2 = postordereval(tree.getRightChild()) #// \\label{peright}\n",
        "        if res1 and res2:\n",
        "            return opers[tree.getRootVal()](res1,res2) #// \\label{peeval}\n",
        "        else:\n",
        "            return tree.getRootVal()\n",
        "\n",
        "def height(tree):\n",
        "    if tree == None:\n",
        "        return -1\n",
        "    else:\n",
        "        return 1 + max(height(tree.leftChild),height(tree.rightChild))\n",
        "\n",
        "if __name__ == '__main__':\n",
        "    t = BinaryTree(7)\n",
        "    t.insertLeft(3)\n",
        "    t.insertRight(9)\n",
        "    inorder(t)\n",
        "    import operator\n",
        "    x = BinaryTree('*')\n",
        "    x.insertLeft('+')\n",
        "    l = x.getLeftChild()\n",
        "    l.insertLeft(4)\n",
        "    l.insertRight(5)\n",
        "    x.insertRight(7)\n",
        "    print(printexp(x))\n",
        "    print(postordereval(x))\n",
        "    print(height(x))"
      ],
      "execution_count": 27,
      "outputs": [
        {
          "output_type": "stream",
          "text": [
            "3\n",
            "7\n",
            "9\n",
            "(((4)+(5))*(7))\n",
            "63\n",
            "2\n"
          ],
          "name": "stdout"
        }
      ]
    },
    {
      "cell_type": "code",
      "metadata": {
        "id": "OQHPUr2HhmdM"
      },
      "source": [
        ""
      ],
      "execution_count": null,
      "outputs": []
    },
    {
      "cell_type": "code",
      "metadata": {
        "id": "ikZm_08hhmfV"
      },
      "source": [
        ""
      ],
      "execution_count": null,
      "outputs": []
    },
    {
      "cell_type": "code",
      "metadata": {
        "id": "nFdV0FBGhmhN"
      },
      "source": [
        ""
      ],
      "execution_count": null,
      "outputs": []
    },
    {
      "cell_type": "code",
      "metadata": {
        "id": "bPY2h7dOhmjO"
      },
      "source": [
        ""
      ],
      "execution_count": null,
      "outputs": []
    }
  ]
}